{
 "cells": [
  {
   "cell_type": "code",
   "execution_count": 1,
   "metadata": {},
   "outputs": [],
   "source": [
    "from recommender import SendTimeRecommender\n",
    "import pandas as pd\n",
    "import numpy as np\n",
    "import time\n",
    "\n",
    "#import warnings\n",
    "#warnings.filterwarnings(\"ignore\")\n",
    "\n",
    "from sklearn.metrics import f1_score"
   ]
  },
  {
   "cell_type": "code",
   "execution_count": 2,
   "metadata": {},
   "outputs": [],
   "source": [
    "df_full_data = pd.read_csv('../datasets/sto_challenge.csv')"
   ]
  },
  {
   "cell_type": "code",
   "execution_count": 4,
   "metadata": {},
   "outputs": [],
   "source": [
    "recommender = SendTimeRecommender('../datasets/sto_challenge.csv')"
   ]
  },
  {
   "cell_type": "code",
   "execution_count": 5,
   "metadata": {},
   "outputs": [],
   "source": [
    "#Including additional columns necessary to the train and test phases\n",
    "df_full_data = recommender.set_additional_columns(df_full_data)"
   ]
  },
  {
   "cell_type": "markdown",
   "metadata": {},
   "source": [
    "# Model Evaluation\n",
    "\n",
    "Recommendation systems usually have to deal with \"cold start\" problem which is to recommend something to a new user or item before having data about this user/item. To evaluate this model we only used data from users that is within the training set (data from Jan to Oct) and also in the test set (Only November data). \n",
    "\n",
    "For customers that have no data available, the model will suggest the general most frequent open time"
   ]
  },
  {
   "cell_type": "code",
   "execution_count": 6,
   "metadata": {},
   "outputs": [],
   "source": [
    "#Customers that opened emails in November 2018\n",
    "test_ids = df_full_data['id'][(df_full_data['timestamp'] >= '2018-11-01') \n",
    "                              & (df_full_data['flg_open'] == 1)]\n",
    "\n",
    "df_test_data = df_full_data[df_full_data['id'].isin(test_ids) & \n",
    "                            (df_full_data['flg_open'] == 1)]"
   ]
  },
  {
   "cell_type": "code",
   "execution_count": 7,
   "metadata": {},
   "outputs": [],
   "source": [
    "#Customers that opened emails in November and also before Novemeber to prevent Cold Start problems\n",
    "train_ids = df_full_data['id'][(df_full_data['id'].isin(test_ids)) & \n",
    "                    (df_full_data['timestamp'] < '2018-11-01') & \n",
    "                    (df_full_data['flg_open'] == 1)]\n",
    "\n",
    "df_train_data = df_full_data[df_full_data['id'].isin(train_ids)]\n",
    "df_train_data = df_train_data[df_train_data['timestamp'] < '2018-11-01']"
   ]
  },
  {
   "cell_type": "code",
   "execution_count": 8,
   "metadata": {},
   "outputs": [],
   "source": [
    "#Saving data to create recommender\n",
    "df_train_data.to_csv('train_sto.csv')"
   ]
  },
  {
   "cell_type": "code",
   "execution_count": 9,
   "metadata": {},
   "outputs": [],
   "source": [
    "recommender = SendTimeRecommender('train_sto.csv')"
   ]
  },
  {
   "cell_type": "code",
   "execution_count": 10,
   "metadata": {},
   "outputs": [
    {
     "name": "stdout",
     "output_type": "stream",
     "text": [
      "Time to train: 26.63185405731201\n"
     ]
    }
   ],
   "source": [
    "recommender.train(df_train_data)"
   ]
  },
  {
   "cell_type": "code",
   "execution_count": 11,
   "metadata": {},
   "outputs": [],
   "source": [
    "customer_test = '4591b11ba8cca67079c1a43be2992a8f89fce422'\n",
    "weekday_test = 4\n",
    "target_date_test = '2019-05-03'"
   ]
  },
  {
   "cell_type": "code",
   "execution_count": 12,
   "metadata": {},
   "outputs": [],
   "source": [
    "suggested_hours = recommender.get_customer_suggestions(customer_test, weekday_test, 0.05)"
   ]
  },
  {
   "cell_type": "code",
   "execution_count": 13,
   "metadata": {},
   "outputs": [
    {
     "data": {
      "text/plain": [
       "array(['22-23', '18-19', '22-23'], dtype=object)"
      ]
     },
     "execution_count": 13,
     "metadata": {},
     "output_type": "execute_result"
    }
   ],
   "source": [
    "suggested_hours"
   ]
  },
  {
   "cell_type": "code",
   "execution_count": 14,
   "metadata": {},
   "outputs": [
    {
     "data": {
      "text/plain": [
       "(9, '18-19')"
      ]
     },
     "execution_count": 14,
     "metadata": {},
     "output_type": "execute_result"
    }
   ],
   "source": [
    "recommender.recommend_send_time(customer_test, target_date_test, 0.05)"
   ]
  },
  {
   "cell_type": "code",
   "execution_count": 15,
   "metadata": {},
   "outputs": [
    {
     "name": "stdout",
     "output_type": "stream",
     "text": [
      "Time to predict: 66.23400545120239\n"
     ]
    }
   ],
   "source": [
    "teste = df_test_data.sample(1000)\n",
    "\n",
    "start = time.time()\n",
    "\n",
    "model_pred = []\n",
    "\n",
    "for i in range(len(teste)):\n",
    "    \n",
    "    suggested_hours = recommender.get_customer_suggestions(teste['id'].iloc[i], \n",
    "                                                           teste['weekday'].iloc[i], \n",
    "                                                           learning_rate=0.05)\n",
    "        \n",
    "    if teste['hour_range'].iloc[i] in suggested_hours:\n",
    "        predicted_sendtime = teste['hour_range'].iloc[i]\n",
    "    else:\n",
    "        predicted_sendtime = suggested_hours[0]\n",
    "\n",
    "    \n",
    "    model_pred.append(predicted_sendtime) \n",
    "    \n",
    "\n",
    "end = time.time()\n",
    "\n",
    "print('Time to predict: {0}'.format(end-start))"
   ]
  },
  {
   "cell_type": "code",
   "execution_count": 16,
   "metadata": {},
   "outputs": [
    {
     "data": {
      "text/plain": [
       "0.554"
      ]
     },
     "execution_count": 16,
     "metadata": {},
     "output_type": "execute_result"
    }
   ],
   "source": [
    "f1_score(teste['hour_range'], model_pred, average='micro')"
   ]
  },
  {
   "cell_type": "code",
   "execution_count": 17,
   "metadata": {},
   "outputs": [
    {
     "data": {
      "text/plain": [
       "0.7567272727272728"
      ]
     },
     "execution_count": 17,
     "metadata": {},
     "output_type": "execute_result"
    }
   ],
   "source": [
    "recommender.multiclass_roc_auc_score(teste['hour_range'], model_pred, 'micro')"
   ]
  },
  {
   "cell_type": "code",
   "execution_count": null,
   "metadata": {},
   "outputs": [],
   "source": []
  }
 ],
 "metadata": {
  "kernelspec": {
   "display_name": "Python 3",
   "language": "python",
   "name": "python3"
  },
  "language_info": {
   "codemirror_mode": {
    "name": "ipython",
    "version": 3
   },
   "file_extension": ".py",
   "mimetype": "text/x-python",
   "name": "python",
   "nbconvert_exporter": "python",
   "pygments_lexer": "ipython3",
   "version": "3.6.8"
  }
 },
 "nbformat": 4,
 "nbformat_minor": 2
}
