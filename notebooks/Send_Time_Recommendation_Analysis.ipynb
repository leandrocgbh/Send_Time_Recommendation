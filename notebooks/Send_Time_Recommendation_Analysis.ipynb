{
  "nbformat": 4,
  "nbformat_minor": 0,
  "metadata": {
    "colab": {
      "name": "Send _Time_Recommendation_Analysis.ipynb",
      "version": "0.3.2",
      "provenance": [],
      "toc_visible": true
    },
    "language_info": {
      "codemirror_mode": {
        "name": "ipython",
        "version": 3
      },
      "file_extension": ".py",
      "mimetype": "text/x-python",
      "name": "python",
      "nbconvert_exporter": "python",
      "pygments_lexer": "ipython3",
      "version": "3.6.3"
    },
    "kernelspec": {
      "display_name": "Python 3",
      "language": "python",
      "name": "python3"
    }
  },
  "cells": [
    {
      "metadata": {
        "id": "xy-XMiH9EYm6",
        "colab_type": "text"
      },
      "cell_type": "markdown",
      "source": [
        "# Send Time Recommendation\n",
        "## Leandro Corrêa Gonçalves"
      ]
    },
    {
      "metadata": {
        "id": "tKgX-ipYEYm8",
        "colab_type": "text"
      },
      "cell_type": "markdown",
      "source": [
        "## Summary\n",
        "\n",
        "1. Defining the problem\n",
        "2. Dataset - Loading and processing\n",
        "3. Exploratory Data Analysis\n",
        "4. Solution Design\n",
        "5. Solution Implementation\n",
        "6. Solution Evaluation\n",
        "7. Sensitivity Analysis\n",
        "8. Conclusion and improvements"
      ]
    },
    {
      "metadata": {
        "id": "Rhd908AnEYm-",
        "colab_type": "text"
      },
      "cell_type": "markdown",
      "source": [
        "## 1. Defining the problem\n",
        "\n",
        "### What is the best time to send emails to my customers in order to increase email open rate?\n",
        "Email is one of the most used communication channels in digital Marketing Campaigns, and CRM systems usually provide many features helping companies to reach their customers in a <mark> personalized way</mark>. \n",
        "\n",
        "> Email Open Rate is calculated as the number of opened emails divided by the number of received \n",
        "\n",
        "### <b> Enhancing email open rate means to increase the audience exposed to your ads which might influence more people to buy</b>.\n",
        "\n",
        "People tend to open recent emails first as they are sorted in chronological order, so as new incoming email arrives, the last ones are moved to the end or even another page of their inboxes hence it can be missed or deleted without being opened. Finding an optimal time to dispatch emails for each customer can prevent this by sending in a time that customers are more likely to read emails, placing them on the top of customers inboxes."
      ]
    },
    {
      "metadata": {
        "id": "OQhusxeMEwRW",
        "colab_type": "code",
        "colab": {}
      },
      "cell_type": "code",
      "source": [
        "# !wget -c https://repo.continuum.io/archive/Anaconda3-5.1.0-Linux-x86_64.sh\n",
        "# !chmod +x Anaconda3-5.1.0-Linux-x86_64.sh\n",
        "# !bash ./Anaconda3-5.1.0-Linux-x86_64.sh -b -f -p /usr/local\n",
        "\n",
        "# import sys\n",
        "# sys.path.append('/usr/local/lib/python3.6/site-packages/')"
      ],
      "execution_count": 0,
      "outputs": []
    },
    {
      "metadata": {
        "id": "iO9LOBM3EYnA",
        "colab_type": "text"
      },
      "cell_type": "markdown",
      "source": [
        "## 2. Dataset - Loading and processing"
      ]
    },
    {
      "metadata": {
        "id": "m6sTQcO7EYnB",
        "colab_type": "code",
        "colab": {}
      },
      "cell_type": "code",
      "source": [
        "import pandas as pd\n",
        "import numpy as np\n",
        "import matplotlib.pyplot as plt\n",
        "import seaborn as sns\n",
        "import re\n",
        "from datetime import datetime\n",
        "import time\n",
        "\n",
        "%matplotlib inline\n",
        "\n",
        "import warnings\n",
        "warnings.filterwarnings('ignore')\n",
        "\n",
        "#Formatting float numbers for pandas dataframe\n",
        "pd.set_option('float_format', '{:.2f}'.format)"
      ],
      "execution_count": 0,
      "outputs": []
    },
    {
      "metadata": {
        "id": "koubvVPxEYnG",
        "colab_type": "text"
      },
      "cell_type": "markdown",
      "source": [
        "### 2.1 - Loading data from file"
      ]
    },
    {
      "metadata": {
        "id": "zQ8zkiBSEYnH",
        "colab_type": "code",
        "colab": {
          "base_uri": "https://localhost:8080/",
          "height": 204
        },
        "outputId": "3d227b55-3136-4bcc-ae9f-1f08a12138f8"
      },
      "cell_type": "code",
      "source": [
        "df_full_data = pd.read_csv('sto_challenge.csv')\n",
        "df_full_data.head()"
      ],
      "execution_count": 3,
      "outputs": [
        {
          "output_type": "execute_result",
          "data": {
            "text/html": [
              "<div>\n",
              "<style scoped>\n",
              "    .dataframe tbody tr th:only-of-type {\n",
              "        vertical-align: middle;\n",
              "    }\n",
              "\n",
              "    .dataframe tbody tr th {\n",
              "        vertical-align: top;\n",
              "    }\n",
              "\n",
              "    .dataframe thead th {\n",
              "        text-align: right;\n",
              "    }\n",
              "</style>\n",
              "<table border=\"1\" class=\"dataframe\">\n",
              "  <thead>\n",
              "    <tr style=\"text-align: right;\">\n",
              "      <th></th>\n",
              "      <th>id</th>\n",
              "      <th>timestamp</th>\n",
              "      <th>email_id</th>\n",
              "      <th>action</th>\n",
              "    </tr>\n",
              "  </thead>\n",
              "  <tbody>\n",
              "    <tr>\n",
              "      <th>0</th>\n",
              "      <td>4591b11ba8cca67079c1a43be2992a8f89fce422</td>\n",
              "      <td>2018-05-25 14:59:02 UTC</td>\n",
              "      <td>3498910</td>\n",
              "      <td>open</td>\n",
              "    </tr>\n",
              "    <tr>\n",
              "      <th>1</th>\n",
              "      <td>2bbdb4cff0fe8cc3cb6c1757291e31806ecefa47</td>\n",
              "      <td>2018-06-25 17:47:23 UTC</td>\n",
              "      <td>3498910</td>\n",
              "      <td>open</td>\n",
              "    </tr>\n",
              "    <tr>\n",
              "      <th>2</th>\n",
              "      <td>0f467135eabd4e385f9c2dcd3f00a9f2a04c0115</td>\n",
              "      <td>2018-06-27 12:32:36 UTC</td>\n",
              "      <td>3498910</td>\n",
              "      <td>open</td>\n",
              "    </tr>\n",
              "    <tr>\n",
              "      <th>3</th>\n",
              "      <td>6f17b7dc6f220c09fba4d8fbc2491317eece2ae8</td>\n",
              "      <td>2018-07-02 22:47:28 UTC</td>\n",
              "      <td>3498910</td>\n",
              "      <td>open</td>\n",
              "    </tr>\n",
              "    <tr>\n",
              "      <th>4</th>\n",
              "      <td>a645dd2ac5c5e000c8b5c7739b3a54435fb313cc</td>\n",
              "      <td>2018-01-24 19:21:49 UTC</td>\n",
              "      <td>3498910</td>\n",
              "      <td>open</td>\n",
              "    </tr>\n",
              "  </tbody>\n",
              "</table>\n",
              "</div>"
            ],
            "text/plain": [
              "                                         id                timestamp  \\\n",
              "0  4591b11ba8cca67079c1a43be2992a8f89fce422  2018-05-25 14:59:02 UTC   \n",
              "1  2bbdb4cff0fe8cc3cb6c1757291e31806ecefa47  2018-06-25 17:47:23 UTC   \n",
              "2  0f467135eabd4e385f9c2dcd3f00a9f2a04c0115  2018-06-27 12:32:36 UTC   \n",
              "3  6f17b7dc6f220c09fba4d8fbc2491317eece2ae8  2018-07-02 22:47:28 UTC   \n",
              "4  a645dd2ac5c5e000c8b5c7739b3a54435fb313cc  2018-01-24 19:21:49 UTC   \n",
              "\n",
              "   email_id action  \n",
              "0   3498910   open  \n",
              "1   3498910   open  \n",
              "2   3498910   open  \n",
              "3   3498910   open  \n",
              "4   3498910   open  "
            ]
          },
          "metadata": {
            "tags": []
          },
          "execution_count": 3
        }
      ]
    },
    {
      "metadata": {
        "id": "fPGdIn8IEYnN",
        "colab_type": "text"
      },
      "cell_type": "markdown",
      "source": [
        "### This is the data structure:\n",
        "- **id:** user identify\n",
        "- **timestamp:** event date and time\n",
        "- **email_id:** email sent identify\n",
        "- **action:** The event action\n",
        "\n",
        "    - **received:** indicates that user received the email\n",
        "    - **open:** user opened the email\n",
        "    - **click:** user clicked on some link that was in email’s body\n",
        "    - **spamreport:** User reported spam.\n",
        "    - **unsubscribe:** User unsubscribed for this email"
      ]
    },
    {
      "metadata": {
        "id": "I0o5eAioEYnO",
        "colab_type": "text"
      },
      "cell_type": "markdown",
      "source": [
        "### 2.2 - Identifying open events"
      ]
    },
    {
      "metadata": {
        "id": "jsJy5ULoEYnP",
        "colab_type": "code",
        "colab": {}
      },
      "cell_type": "code",
      "source": [
        "#Including Flag to identify Open and Received events to further analysis\n",
        "\n",
        "df_full_data['flg_open'] = df_full_data['action'].apply(lambda x: 1 if x in ('open') else 0)\n",
        "\n",
        "df_full_data['flg_received'] = df_full_data['action'].apply(lambda x: 1 if x in ('received') else 0)"
      ],
      "execution_count": 0,
      "outputs": []
    },
    {
      "metadata": {
        "id": "r2-b_RC2EYnS",
        "colab_type": "text"
      },
      "cell_type": "markdown",
      "source": [
        "### 2.3 - Overall email open rate"
      ]
    },
    {
      "metadata": {
        "id": "7nMAGi7EEYnT",
        "colab_type": "code",
        "colab": {
          "base_uri": "https://localhost:8080/",
          "height": 34
        },
        "outputId": "1ca8c8eb-510e-4edd-aec5-c2c7b3c3a427"
      },
      "cell_type": "code",
      "source": [
        "qty_received = df_full_data['flg_received'].sum()\n",
        "qty_opened = df_full_data['flg_open'].sum()\n",
        "\n",
        "print('The data have {0:} events of received emails and {1:} open events'.format(qty_received, qty_opened))"
      ],
      "execution_count": 5,
      "outputs": [
        {
          "output_type": "stream",
          "text": [
            "The data have 213183 events of received emails and 88599 open events\n"
          ],
          "name": "stdout"
        }
      ]
    },
    {
      "metadata": {
        "id": "H-OLuf_VEYnZ",
        "colab_type": "text"
      },
      "cell_type": "markdown",
      "source": [
        "### 2.4 - Pre-processing Date/Time fields"
      ]
    },
    {
      "metadata": {
        "id": "R-EX-uVfEYna",
        "colab_type": "text"
      },
      "cell_type": "markdown",
      "source": [
        "The main goal of this analysis is to find the best hour of the day to send emails to each customer, therefore it's extremely important to split date fields at least by hour and regular day x weekends in order to analyze significant differences as expected"
      ]
    },
    {
      "metadata": {
        "id": "9OJ4_sxBEYnb",
        "colab_type": "text"
      },
      "cell_type": "markdown",
      "source": [
        "#### 2.4.1 - Extracting Weekday"
      ]
    },
    {
      "metadata": {
        "id": "NYRlqoT9EYnc",
        "colab_type": "code",
        "colab": {}
      },
      "cell_type": "code",
      "source": [
        "def getWeekday(strtimestamp, strformat='%Y-%m-%d %H:%M:%S'):\n",
        "    '''\n",
        "     Returns the weekday from a timestamp\n",
        "     0: Monday\n",
        "     6: Sunday\n",
        "     \n",
        "    '''\n",
        "    return datetime.strptime(strtimestamp, strformat).weekday()"
      ],
      "execution_count": 0,
      "outputs": []
    },
    {
      "metadata": {
        "id": "5PgswXojEYnf",
        "colab_type": "code",
        "colab": {
          "base_uri": "https://localhost:8080/",
          "height": 394
        },
        "outputId": "06f4e085-24ea-43ed-9ee1-ffea02c22142"
      },
      "cell_type": "code",
      "source": [
        "df_full_data['weekday'] = df_full_data['timestamp'].apply(lambda x: getWeekday(x[:19]))\n",
        "df_full_data['flg_weekend'] = df_full_data['weekday'].apply(lambda x: 0 if x < 5 else 1)\n",
        "df_full_data.head()"
      ],
      "execution_count": 7,
      "outputs": [
        {
          "output_type": "execute_result",
          "data": {
            "text/html": [
              "<div>\n",
              "<style scoped>\n",
              "    .dataframe tbody tr th:only-of-type {\n",
              "        vertical-align: middle;\n",
              "    }\n",
              "\n",
              "    .dataframe tbody tr th {\n",
              "        vertical-align: top;\n",
              "    }\n",
              "\n",
              "    .dataframe thead th {\n",
              "        text-align: right;\n",
              "    }\n",
              "</style>\n",
              "<table border=\"1\" class=\"dataframe\">\n",
              "  <thead>\n",
              "    <tr style=\"text-align: right;\">\n",
              "      <th></th>\n",
              "      <th>id</th>\n",
              "      <th>timestamp</th>\n",
              "      <th>email_id</th>\n",
              "      <th>action</th>\n",
              "      <th>flg_open</th>\n",
              "      <th>flg_received</th>\n",
              "      <th>weekday</th>\n",
              "      <th>flg_weekend</th>\n",
              "    </tr>\n",
              "  </thead>\n",
              "  <tbody>\n",
              "    <tr>\n",
              "      <th>0</th>\n",
              "      <td>4591b11ba8cca67079c1a43be2992a8f89fce422</td>\n",
              "      <td>2018-05-25 14:59:02 UTC</td>\n",
              "      <td>3498910</td>\n",
              "      <td>open</td>\n",
              "      <td>1</td>\n",
              "      <td>0</td>\n",
              "      <td>4</td>\n",
              "      <td>0</td>\n",
              "    </tr>\n",
              "    <tr>\n",
              "      <th>1</th>\n",
              "      <td>2bbdb4cff0fe8cc3cb6c1757291e31806ecefa47</td>\n",
              "      <td>2018-06-25 17:47:23 UTC</td>\n",
              "      <td>3498910</td>\n",
              "      <td>open</td>\n",
              "      <td>1</td>\n",
              "      <td>0</td>\n",
              "      <td>0</td>\n",
              "      <td>0</td>\n",
              "    </tr>\n",
              "    <tr>\n",
              "      <th>2</th>\n",
              "      <td>0f467135eabd4e385f9c2dcd3f00a9f2a04c0115</td>\n",
              "      <td>2018-06-27 12:32:36 UTC</td>\n",
              "      <td>3498910</td>\n",
              "      <td>open</td>\n",
              "      <td>1</td>\n",
              "      <td>0</td>\n",
              "      <td>2</td>\n",
              "      <td>0</td>\n",
              "    </tr>\n",
              "    <tr>\n",
              "      <th>3</th>\n",
              "      <td>6f17b7dc6f220c09fba4d8fbc2491317eece2ae8</td>\n",
              "      <td>2018-07-02 22:47:28 UTC</td>\n",
              "      <td>3498910</td>\n",
              "      <td>open</td>\n",
              "      <td>1</td>\n",
              "      <td>0</td>\n",
              "      <td>0</td>\n",
              "      <td>0</td>\n",
              "    </tr>\n",
              "    <tr>\n",
              "      <th>4</th>\n",
              "      <td>a645dd2ac5c5e000c8b5c7739b3a54435fb313cc</td>\n",
              "      <td>2018-01-24 19:21:49 UTC</td>\n",
              "      <td>3498910</td>\n",
              "      <td>open</td>\n",
              "      <td>1</td>\n",
              "      <td>0</td>\n",
              "      <td>2</td>\n",
              "      <td>0</td>\n",
              "    </tr>\n",
              "  </tbody>\n",
              "</table>\n",
              "</div>"
            ],
            "text/plain": [
              "                                         id                timestamp  \\\n",
              "0  4591b11ba8cca67079c1a43be2992a8f89fce422  2018-05-25 14:59:02 UTC   \n",
              "1  2bbdb4cff0fe8cc3cb6c1757291e31806ecefa47  2018-06-25 17:47:23 UTC   \n",
              "2  0f467135eabd4e385f9c2dcd3f00a9f2a04c0115  2018-06-27 12:32:36 UTC   \n",
              "3  6f17b7dc6f220c09fba4d8fbc2491317eece2ae8  2018-07-02 22:47:28 UTC   \n",
              "4  a645dd2ac5c5e000c8b5c7739b3a54435fb313cc  2018-01-24 19:21:49 UTC   \n",
              "\n",
              "   email_id action  flg_open  flg_received  weekday  flg_weekend  \n",
              "0   3498910   open         1             0        4            0  \n",
              "1   3498910   open         1             0        0            0  \n",
              "2   3498910   open         1             0        2            0  \n",
              "3   3498910   open         1             0        0            0  \n",
              "4   3498910   open         1             0        2            0  "
            ]
          },
          "metadata": {
            "tags": []
          },
          "execution_count": 7
        }
      ]
    },
    {
      "metadata": {
        "id": "nZv1IxrqEYnl",
        "colab_type": "text"
      },
      "cell_type": "markdown",
      "source": [
        "#### 2.4.2 - Splitting time and hour\n",
        "\n",
        "> The hour will be on <a href= 'https://en.wikipedia.org/wiki/24-hour_clock'>**24-hour** format </a>"
      ]
    },
    {
      "metadata": {
        "id": "vwNjChDhEYnm",
        "colab_type": "code",
        "colab": {
          "base_uri": "https://localhost:8080/",
          "height": 394
        },
        "outputId": "af1cee7a-8cd0-45d4-ffeb-a91622d2f7e9"
      },
      "cell_type": "code",
      "source": [
        "#extract hour from time\n",
        "df_full_data['event_time'] = df_full_data['timestamp'].apply(lambda x: re.findall('[0-9]+:[0-9]+:[0-9]+', x)[0])\n",
        "df_full_data['event_hour'] = df_full_data['event_time'].apply(lambda x: x[0:2])\n",
        "df_full_data.head()"
      ],
      "execution_count": 8,
      "outputs": [
        {
          "output_type": "execute_result",
          "data": {
            "text/html": [
              "<div>\n",
              "<style scoped>\n",
              "    .dataframe tbody tr th:only-of-type {\n",
              "        vertical-align: middle;\n",
              "    }\n",
              "\n",
              "    .dataframe tbody tr th {\n",
              "        vertical-align: top;\n",
              "    }\n",
              "\n",
              "    .dataframe thead th {\n",
              "        text-align: right;\n",
              "    }\n",
              "</style>\n",
              "<table border=\"1\" class=\"dataframe\">\n",
              "  <thead>\n",
              "    <tr style=\"text-align: right;\">\n",
              "      <th></th>\n",
              "      <th>id</th>\n",
              "      <th>timestamp</th>\n",
              "      <th>email_id</th>\n",
              "      <th>action</th>\n",
              "      <th>flg_open</th>\n",
              "      <th>flg_received</th>\n",
              "      <th>weekday</th>\n",
              "      <th>flg_weekend</th>\n",
              "      <th>event_time</th>\n",
              "      <th>event_hour</th>\n",
              "    </tr>\n",
              "  </thead>\n",
              "  <tbody>\n",
              "    <tr>\n",
              "      <th>0</th>\n",
              "      <td>4591b11ba8cca67079c1a43be2992a8f89fce422</td>\n",
              "      <td>2018-05-25 14:59:02 UTC</td>\n",
              "      <td>3498910</td>\n",
              "      <td>open</td>\n",
              "      <td>1</td>\n",
              "      <td>0</td>\n",
              "      <td>4</td>\n",
              "      <td>0</td>\n",
              "      <td>14:59:02</td>\n",
              "      <td>14</td>\n",
              "    </tr>\n",
              "    <tr>\n",
              "      <th>1</th>\n",
              "      <td>2bbdb4cff0fe8cc3cb6c1757291e31806ecefa47</td>\n",
              "      <td>2018-06-25 17:47:23 UTC</td>\n",
              "      <td>3498910</td>\n",
              "      <td>open</td>\n",
              "      <td>1</td>\n",
              "      <td>0</td>\n",
              "      <td>0</td>\n",
              "      <td>0</td>\n",
              "      <td>17:47:23</td>\n",
              "      <td>17</td>\n",
              "    </tr>\n",
              "    <tr>\n",
              "      <th>2</th>\n",
              "      <td>0f467135eabd4e385f9c2dcd3f00a9f2a04c0115</td>\n",
              "      <td>2018-06-27 12:32:36 UTC</td>\n",
              "      <td>3498910</td>\n",
              "      <td>open</td>\n",
              "      <td>1</td>\n",
              "      <td>0</td>\n",
              "      <td>2</td>\n",
              "      <td>0</td>\n",
              "      <td>12:32:36</td>\n",
              "      <td>12</td>\n",
              "    </tr>\n",
              "    <tr>\n",
              "      <th>3</th>\n",
              "      <td>6f17b7dc6f220c09fba4d8fbc2491317eece2ae8</td>\n",
              "      <td>2018-07-02 22:47:28 UTC</td>\n",
              "      <td>3498910</td>\n",
              "      <td>open</td>\n",
              "      <td>1</td>\n",
              "      <td>0</td>\n",
              "      <td>0</td>\n",
              "      <td>0</td>\n",
              "      <td>22:47:28</td>\n",
              "      <td>22</td>\n",
              "    </tr>\n",
              "    <tr>\n",
              "      <th>4</th>\n",
              "      <td>a645dd2ac5c5e000c8b5c7739b3a54435fb313cc</td>\n",
              "      <td>2018-01-24 19:21:49 UTC</td>\n",
              "      <td>3498910</td>\n",
              "      <td>open</td>\n",
              "      <td>1</td>\n",
              "      <td>0</td>\n",
              "      <td>2</td>\n",
              "      <td>0</td>\n",
              "      <td>19:21:49</td>\n",
              "      <td>19</td>\n",
              "    </tr>\n",
              "  </tbody>\n",
              "</table>\n",
              "</div>"
            ],
            "text/plain": [
              "                                         id                timestamp  \\\n",
              "0  4591b11ba8cca67079c1a43be2992a8f89fce422  2018-05-25 14:59:02 UTC   \n",
              "1  2bbdb4cff0fe8cc3cb6c1757291e31806ecefa47  2018-06-25 17:47:23 UTC   \n",
              "2  0f467135eabd4e385f9c2dcd3f00a9f2a04c0115  2018-06-27 12:32:36 UTC   \n",
              "3  6f17b7dc6f220c09fba4d8fbc2491317eece2ae8  2018-07-02 22:47:28 UTC   \n",
              "4  a645dd2ac5c5e000c8b5c7739b3a54435fb313cc  2018-01-24 19:21:49 UTC   \n",
              "\n",
              "   email_id action  flg_open  flg_received  weekday  flg_weekend event_time  \\\n",
              "0   3498910   open         1             0        4            0   14:59:02   \n",
              "1   3498910   open         1             0        0            0   17:47:23   \n",
              "2   3498910   open         1             0        2            0   12:32:36   \n",
              "3   3498910   open         1             0        0            0   22:47:28   \n",
              "4   3498910   open         1             0        2            0   19:21:49   \n",
              "\n",
              "  event_hour  \n",
              "0         14  \n",
              "1         17  \n",
              "2         12  \n",
              "3         22  \n",
              "4         19  "
            ]
          },
          "metadata": {
            "tags": []
          },
          "execution_count": 8
        }
      ]
    },
    {
      "metadata": {
        "id": "rviGTfPDEYnq",
        "colab_type": "text"
      },
      "cell_type": "markdown",
      "source": [
        "### Now that the dataset is ready, we can move on to the Exploratory Data Analysis!!"
      ]
    },
    {
      "metadata": {
        "id": "ewufGTQhEYnr",
        "colab_type": "text"
      },
      "cell_type": "markdown",
      "source": [
        "## 3. Exploratory Data Analysis"
      ]
    },
    {
      "metadata": {
        "id": "VskKv4_xEYns",
        "colab_type": "code",
        "colab": {
          "base_uri": "https://localhost:8080/",
          "height": 85
        },
        "outputId": "6a10c764-0acb-49f5-a374-21d258a2eb20"
      },
      "cell_type": "code",
      "source": [
        "print('The data analyzed contains:\\n{0} distinct users\\n{1} different notifications\\n{2} events'\\\n",
        "    .format(len(df_full_data['id'].unique()), \n",
        "            len(df_full_data['email_id'].unique()),\n",
        "            df_full_data['id'].count()\n",
        "            ))"
      ],
      "execution_count": 9,
      "outputs": [
        {
          "output_type": "stream",
          "text": [
            "The data analyzed contains:\n",
            "24024 distinct users\n",
            "1044 different notifications\n",
            "315998 events\n"
          ],
          "name": "stdout"
        }
      ]
    },
    {
      "metadata": {
        "id": "6lHZ7TyyEYnw",
        "colab_type": "code",
        "colab": {
          "base_uri": "https://localhost:8080/",
          "height": 153
        },
        "outputId": "5b3e4fc6-b6a6-4afa-e71e-8122f5ba2ce1"
      },
      "cell_type": "code",
      "source": [
        "print('The events are distributed as follows:\\n')\n",
        "print(df_full_data['action'].value_counts())"
      ],
      "execution_count": 10,
      "outputs": [
        {
          "output_type": "stream",
          "text": [
            "The events are distributed as follows:\n",
            "\n",
            "received       213183\n",
            "open            88599\n",
            "click           13277\n",
            "unsubscribe       838\n",
            "spamreport        101\n",
            "Name: action, dtype: int64\n"
          ],
          "name": "stdout"
        }
      ]
    },
    {
      "metadata": {
        "id": "PXX1c8MnEYn0",
        "colab_type": "text"
      },
      "cell_type": "markdown",
      "source": [
        "### 3.1 - Analyzing open events"
      ]
    },
    {
      "metadata": {
        "id": "sV9tz_7zEYn1",
        "colab_type": "code",
        "colab": {}
      },
      "cell_type": "code",
      "source": [
        "#Getting only open events\n",
        "df_open_events = df_full_data[['id','flg_open']][df_full_data['flg_open']==1].\\\n",
        "                          groupby(by=['id']).sum()\n",
        "    \n",
        "df_open_events.reset_index(inplace=True)\n",
        "\n",
        "df_open_events.columns = ['customer_id', 'qty_open_events']"
      ],
      "execution_count": 0,
      "outputs": []
    },
    {
      "metadata": {
        "id": "jLPrb2MMEYn4",
        "colab_type": "code",
        "colab": {
          "base_uri": "https://localhost:8080/",
          "height": 715
        },
        "outputId": "758b3d07-c653-4093-b188-a6195557dbae"
      },
      "cell_type": "code",
      "source": [
        "plt.figure(figsize=(10,6))\n",
        "sns.distplot(df_open_events['qty_open_events'], bins=200)\n",
        "plt.title('Histogram of open events')\n",
        "plt.xlim(0,50)\n",
        "plt.ylabel('Density')\n",
        "plt.xlabel('open events')\n",
        "plt.show()\n",
        "df_open_events.describe(percentiles=[0.25,0.5, 0.75, 0.95])"
      ],
      "execution_count": 12,
      "outputs": [
        {
          "output_type": "display_data",
          "data": {
            "image/png": "[encoded data removed]",
            "text/plain": [
              "<Figure size 720x432 with 1 Axes>"
            ]
          },
          "metadata": {
            "tags": []
          }
        },
        {
          "output_type": "execute_result",
          "data": {
            "text/html": [
              "<div>\n",
              "<style scoped>\n",
              "    .dataframe tbody tr th:only-of-type {\n",
              "        vertical-align: middle;\n",
              "    }\n",
              "\n",
              "    .dataframe tbody tr th {\n",
              "        vertical-align: top;\n",
              "    }\n",
              "\n",
              "    .dataframe thead th {\n",
              "        text-align: right;\n",
              "    }\n",
              "</style>\n",
              "<table border=\"1\" class=\"dataframe\">\n",
              "  <thead>\n",
              "    <tr style=\"text-align: right;\">\n",
              "      <th></th>\n",
              "      <th>qty_open_events</th>\n",
              "    </tr>\n",
              "  </thead>\n",
              "  <tbody>\n",
              "    <tr>\n",
              "      <th>count</th>\n",
              "      <td>14006.00</td>\n",
              "    </tr>\n",
              "    <tr>\n",
              "      <th>mean</th>\n",
              "      <td>6.33</td>\n",
              "    </tr>\n",
              "    <tr>\n",
              "      <th>std</th>\n",
              "      <td>12.25</td>\n",
              "    </tr>\n",
              "    <tr>\n",
              "      <th>min</th>\n",
              "      <td>1.00</td>\n",
              "    </tr>\n",
              "    <tr>\n",
              "      <th>25%</th>\n",
              "      <td>1.00</td>\n",
              "    </tr>\n",
              "    <tr>\n",
              "      <th>50%</th>\n",
              "      <td>3.00</td>\n",
              "    </tr>\n",
              "    <tr>\n",
              "      <th>75%</th>\n",
              "      <td>7.00</td>\n",
              "    </tr>\n",
              "    <tr>\n",
              "      <th>95%</th>\n",
              "      <td>22.00</td>\n",
              "    </tr>\n",
              "    <tr>\n",
              "      <th>max</th>\n",
              "      <td>923.00</td>\n",
              "    </tr>\n",
              "  </tbody>\n",
              "</table>\n",
              "</div>"
            ],
            "text/plain": [
              "       qty_open_events\n",
              "count         14006.00\n",
              "mean              6.33\n",
              "std              12.25\n",
              "min               1.00\n",
              "25%               1.00\n",
              "50%               3.00\n",
              "75%               7.00\n",
              "95%              22.00\n",
              "max             923.00"
            ]
          },
          "metadata": {
            "tags": []
          },
          "execution_count": 12
        }
      ]
    },
    {
      "metadata": {
        "id": "7HSxdr2ZEYn8",
        "colab_type": "text"
      },
      "cell_type": "markdown",
      "source": [
        "### Customers have 6.33 events on average and 95% of the data have at least 22 events as we can see by the 95 percentile.\n",
        "\n",
        "> it means that having customers with more than 22 open events is very unlikely to happen on this data.\n",
        "\n",
        "**Note:** The max of 923 open events is very unlikely to happen and could be an <i>outlier</i> but it won't affect the final solution and it will be discussed in the next sections."
      ]
    },
    {
      "metadata": {
        "id": "BnNGNobvEYn-",
        "colab_type": "text"
      },
      "cell_type": "markdown",
      "source": [
        "### Using <a href=\"https://en.wikipedia.org/wiki/Outlier#Tukey's_fences\">Tukey's method </a> to consider outliers in data."
      ]
    },
    {
      "metadata": {
        "id": "XtO0yjScEYn_",
        "colab_type": "code",
        "colab": {
          "base_uri": "https://localhost:8080/",
          "height": 34
        },
        "outputId": "1cc178c4-2620-424d-e529-e73657b07894"
      },
      "cell_type": "code",
      "source": [
        "Q1 = np.percentile(df_open_events['qty_open_events'], 25)\n",
        "Q3 = np.percentile(df_open_events['qty_open_events'], 75)\n",
        "IQR =  Q3 - Q1\n",
        "step = 1.5 * IQR\n",
        "upper_limit = Q3 + step\n",
        "lower_limit = Q1 - step\n",
        "\n",
        "print('Customers with more than {0} open events or less than {1} are unlikely to happen \\\n",
        "according to these data'.format(upper_limit, lower_limit))"
      ],
      "execution_count": 13,
      "outputs": [
        {
          "output_type": "stream",
          "text": [
            "Customers with more than 16.0 open events or less than -8.0 are unlikely to happen according to these data\n"
          ],
          "name": "stdout"
        }
      ]
    },
    {
      "metadata": {
        "id": "oHFUDjVPEYoH",
        "colab_type": "code",
        "colab": {
          "base_uri": "https://localhost:8080/",
          "height": 350
        },
        "outputId": "6336c8c0-f6d7-4dfb-971b-08ac8f9916c6"
      },
      "cell_type": "code",
      "source": [
        "df_open_events = df_full_data[['event_hour','flg_open']][df_full_data['flg_open']==1].groupby(by=['event_hour']).sum()\n",
        "df_open_events.reset_index(inplace=True)\n",
        "\n",
        "plt.figure(figsize=(10,5))\n",
        "\n",
        "df_open_events.columns = ['event_hour', 'qty_open_events']\n",
        "\n",
        "sns.barplot(data=df_open_events,\n",
        "               x='event_hour',\n",
        "               y='qty_open_events',\n",
        "               color='steelblue')\n",
        "\n",
        "\n",
        "plt.grid('off')\n",
        "plt.title('Open events per day hour')\n",
        "plt.xlabel('Day Hour (24-hour)')\n",
        "plt.ylabel('Qty Open events')\n",
        "plt.show()"
      ],
      "execution_count": 14,
      "outputs": [
        {
          "output_type": "display_data",
          "data": {
            "image/png": "[encoded data removed]",
            "text/plain": [
              "<Figure size 720x360 with 1 Axes>"
            ]
          },
          "metadata": {
            "tags": []
          }
        }
      ]
    },
    {
      "metadata": {
        "id": "WK6M6rxqEYoM",
        "colab_type": "text"
      },
      "cell_type": "markdown",
      "source": [
        "Visualizing the distribution of events \"open\" along the hours of the day, it's possible to identify some groups that could be used as reference to divide data into hours ranges. \n",
        "\n",
        "For example:\n",
        "\n",
        "1. from 00 to 03 hours \n",
        "2. from 04 to 09 hours \n",
        "3. from 10 to 11 hours \n",
        "4. from 12 to 14 hours\n",
        "5. from 15 to 17 hours\n",
        "6. from 18 to 19 hours\n",
        "7. from 20 to 23 hours\n"
      ]
    },
    {
      "metadata": {
        "id": "K0Yrv8yPEYoN",
        "colab_type": "text"
      },
      "cell_type": "markdown",
      "source": [
        "## Analysis Question 01 - Do open events follow the same behavior on <u>regular days</u> and <u>weekends</u>?"
      ]
    },
    {
      "metadata": {
        "id": "9effDgwAEYoN",
        "colab_type": "code",
        "colab": {
          "base_uri": "https://localhost:8080/",
          "height": 404
        },
        "outputId": "6faec62e-3fea-476f-cc52-89cc393bbd97"
      },
      "cell_type": "code",
      "source": [
        "df_cohort_analysis = df_full_data[['weekday', 'event_hour', 'flg_open', 'flg_received']]. \\\n",
        "                    groupby(['weekday', 'event_hour']).sum().reset_index()\n",
        "    \n",
        "plt.figure(figsize=(14,6))\n",
        "sns.heatmap(df_cohort_analysis.pivot_table(columns='event_hour', index='weekday', values='flg_open'))\n",
        "plt.title('Open events per weekday and hour')\n",
        "plt.xlabel('Hour Day')\n",
        "plt.show()"
      ],
      "execution_count": 15,
      "outputs": [
        {
          "output_type": "display_data",
          "data": {
            "image/png": "[encoded data removed]",
            "text/plain": [
              "<Figure size 1008x432 with 2 Axes>"
            ]
          },
          "metadata": {
            "tags": []
          }
        }
      ]
    },
    {
      "metadata": {
        "id": "Oh09m9sQEYoS",
        "colab_type": "text"
      },
      "cell_type": "markdown",
      "source": [
        "#### The X-axis represents the day hours and the Y-axis the week days ( 0 = Monday ... 6 = Sunday). \n",
        "\n",
        "> There is a concentration from day 0 to 4 (Monday - Friday) with a clear contrast **from 10 to 13** on **Tuesdays** and **Thursdays**."
      ]
    },
    {
      "metadata": {
        "id": "VHDaFLG_EYoT",
        "colab_type": "code",
        "colab": {
          "base_uri": "https://localhost:8080/",
          "height": 768
        },
        "outputId": "9c462cc6-dcea-469f-976e-6e9f6fa6868b"
      },
      "cell_type": "code",
      "source": [
        "df_open_events = df_full_data[['event_hour','flg_open', 'flg_weekend']][df_full_data['flg_open']==1].groupby(by=['event_hour', 'flg_weekend']).sum()\n",
        "df_open_events.reset_index(inplace=True)\n",
        "print()\n",
        "\n",
        "plt.figure(figsize=(17,12))\n",
        "\n",
        "\n",
        "df_open_events.columns = ['event_hour', 'flg_weekend', 'qty_open_events']\n",
        "\n",
        "plt.subplot(221)\n",
        "sns.barplot(data=df_open_events[df_open_events['flg_weekend']==0],\n",
        "               x='event_hour',\n",
        "               y='qty_open_events',\n",
        "               color='steelblue')\n",
        "\n",
        "plt.grid('off')\n",
        "plt.title('REGULAR DAYS\\nOpen events per day hour')\n",
        "plt.xlabel('Day Hour (24-hour)')\n",
        "plt.ylabel('Qty Open events')\n",
        "\n",
        "\n",
        "plt.subplot(222)\n",
        "sns.barplot(data=df_open_events[df_open_events['flg_weekend']==1],\n",
        "               x='event_hour',\n",
        "               y='qty_open_events',\n",
        "               color='darkgrey')\n",
        "\n",
        "plt.grid('off')\n",
        "plt.title('WEEKENDS\\nOpen events per day hour')\n",
        "plt.xlabel('Day Hour (24-hour)')\n",
        "plt.ylabel('Qty Open events')\n",
        "\n",
        "\n",
        "\n",
        "plt.subplot(223)\n",
        "plt.title('TOP 10 hours')\n",
        "plt.barh(data=df_open_events[df_open_events['flg_weekend']==0].sort_values(by='qty_open_events', ascending=False)[:11],\n",
        "               width='qty_open_events',\n",
        "               y='event_hour',\n",
        "               color='steelblue')\n",
        "plt.gca().invert_yaxis()\n",
        "plt.ylabel('Day Hour')\n",
        "plt.grid('off')\n",
        "\n",
        "\n",
        "plt.subplot(224)\n",
        "plt.title('TOP 10 hours')\n",
        "plt.barh(data=df_open_events[df_open_events['flg_weekend']==1].sort_values(by='qty_open_events', ascending=False)[:11],\n",
        "               width='qty_open_events',\n",
        "               y='event_hour',\n",
        "               color='darkgrey')\n",
        "plt.gca().invert_yaxis()\n",
        "plt.ylabel('Day Hour')\n",
        "plt.grid('off')\n",
        "\n",
        "\n",
        "\n",
        "plt.show()"
      ],
      "execution_count": 16,
      "outputs": [
        {
          "output_type": "stream",
          "text": [
            "\n"
          ],
          "name": "stdout"
        },
        {
          "output_type": "display_data",
          "data": {
            "image/png": "[encoded data removed]",
            "text/plain": [
              "<Figure size 1224x864 with 4 Axes>"
            ]
          },
          "metadata": {
            "tags": []
          }
        }
      ]
    },
    {
      "metadata": {
        "id": "fyUPzazXEYoW",
        "colab_type": "text"
      },
      "cell_type": "markdown",
      "source": [
        "#### We can notice that the most frequent hour has shifted from 18 to 13 on the weekends and some others hours such dawn time are also more frequent on the weekends. \n",
        "\n",
        "#### <u>It's expected to have some differences as people's routines often change during the weekend.</u>\n",
        "\n",
        " > ### <mark> Weekday is an important feature to consider on send time recommendation. </mark>"
      ]
    },
    {
      "metadata": {
        "id": "Olaf9tnQEYoX",
        "colab_type": "text"
      },
      "cell_type": "markdown",
      "source": [
        "## Analysis Question 02 - Is the open time directly affected by the receive time?"
      ]
    },
    {
      "metadata": {
        "id": "uC4zMTOTEYoY",
        "colab_type": "text"
      },
      "cell_type": "markdown",
      "source": [
        "The concentration of open events could be related to people usually opening their emails at the time they receive them, therefore let's analyze <u>receive</u> events and check whether the hypothesis of having more open events concentrated in specific times is due to the amount of emails received at this same time."
      ]
    },
    {
      "metadata": {
        "id": "qWPuwkEEEYoZ",
        "colab_type": "text"
      },
      "cell_type": "markdown",
      "source": [
        "### 3.2 - Analyzing receive events"
      ]
    },
    {
      "metadata": {
        "id": "p2OnjyOdEYoa",
        "colab_type": "code",
        "colab": {
          "base_uri": "https://localhost:8080/",
          "height": 350
        },
        "outputId": "1b764f6b-af90-4e53-83eb-dd2a5913923c"
      },
      "cell_type": "code",
      "source": [
        "df_receive_events = df_full_data[['event_hour','flg_received']][df_full_data['flg_received']==1].\\\n",
        "                    groupby(by=['event_hour']).sum()\n",
        "    \n",
        "df_receive_events.reset_index(inplace=True)\n",
        "\n",
        "plt.figure(figsize=(10,5))\n",
        "\n",
        "df_receive_events.columns = ['event_hour', 'qty_receive_events']\n",
        "\n",
        "sns.barplot(data=df_receive_events,\n",
        "               x='event_hour',\n",
        "               y='qty_receive_events',\n",
        "               color='steelblue')\n",
        "plt.grid('off')\n",
        "plt.title('Receive events per day hour')\n",
        "plt.xlabel('Day Hour (24-hour)')\n",
        "plt.ylabel('Qty Open events')\n",
        "plt.show()"
      ],
      "execution_count": 17,
      "outputs": [
        {
          "output_type": "display_data",
          "data": {
            "image/png": "[encoded data removed]",
            "text/plain": [
              "<Figure size 720x360 with 1 Axes>"
            ]
          },
          "metadata": {
            "tags": []
          }
        }
      ]
    },
    {
      "metadata": {
        "id": "DFVtOsJcEYod",
        "colab_type": "text"
      },
      "cell_type": "markdown",
      "source": [
        "#### In fact some concentrations are similar to the open events such as 18 and 10 hours but in general they are NOT following the same shape. \n",
        "\n",
        "In order to check other points before confirming that open events are related to people's behavior instead of receive time, two more tests might support this hypothesis: \n",
        "### **Correlation and average time between open and receive events**\n",
        "\n",
        "> <u>If the hypothesis of people opening their emails at the moment they receive is true, correlation coefficient should be <span style=\"color:blue\">**high**</span> and average time should be <span style=\"color:red\">**low**</span> as the lower the time between open and receive time, the stronger the evidence in favor of receive time influencing open time.</u>"
      ]
    },
    {
      "metadata": {
        "id": "qwol8ES-EYod",
        "colab_type": "text"
      },
      "cell_type": "markdown",
      "source": [
        "### 3.2.1 - Correlation between types of events"
      ]
    },
    {
      "metadata": {
        "id": "3jDZPdo-EYoe",
        "colab_type": "code",
        "colab": {
          "base_uri": "https://localhost:8080/",
          "height": 351
        },
        "outputId": "3bb98f9f-d809-4f81-eff6-31c2ab7dfb98"
      },
      "cell_type": "code",
      "source": [
        "wknd_filter = df_full_data['flg_weekend'] == 1\n",
        "corr_fields = ['id','flg_open', 'flg_received', 'event_hour']\n",
        "\n",
        "df_correlation_week = df_full_data[corr_fields][~wknd_filter].groupby(['id', 'event_hour']).sum().reset_index()\n",
        "df_correlation_wnd = df_full_data[corr_fields][wknd_filter].groupby(['id', 'event_hour']).sum().reset_index()\n",
        "\n",
        "df_correlation_week.columns = ['id', 'event_hour', 'open events', 'receive events']\n",
        "df_correlation_wnd.columns = ['id', 'event_hour', 'open events', 'receive events']\n",
        "\n",
        "plt.figure(figsize=(15,5))\n",
        "\n",
        "plt.subplot(121)\n",
        "plt.title('Correlation Open x Receive\\nRegular Days')\n",
        "\n",
        "sns.heatmap(df_correlation_week.corr(), annot=True)\n",
        "\n",
        "plt.subplot(122)\n",
        "plt.title('Correlation Open x Receive\\nWeekends')\n",
        "sns.heatmap(df_correlation_wnd.corr(), annot=True)\n",
        "\n",
        "plt.show()"
      ],
      "execution_count": 18,
      "outputs": [
        {
          "output_type": "display_data",
          "data": {
            "image/png": "[encoded data removed]",
            "text/plain": [
              "<Figure size 1080x360 with 4 Axes>"
            ]
          },
          "metadata": {
            "tags": []
          }
        }
      ]
    },
    {
      "metadata": {
        "id": "A1y7x1xTEYoi",
        "colab_type": "text"
      },
      "cell_type": "markdown",
      "source": [
        "### There is almost NO linear correlation between Open and Receive events according to the correlation matrices above. \n",
        "\n",
        "> For weekends the correlation is negatively stronger but still low."
      ]
    },
    {
      "metadata": {
        "id": "Y9zHpdyqEYoj",
        "colab_type": "text"
      },
      "cell_type": "markdown",
      "source": [
        "### 3.2.2 - Average time between Open and Receive events"
      ]
    },
    {
      "metadata": {
        "id": "vIpl2wo5EYok",
        "colab_type": "text"
      },
      "cell_type": "markdown",
      "source": [
        "Another approach that can be used to measure the influence of receive time over open times is checking the Mean/Median of the difference between these two and check how close they are on average.\n",
        "If this number is LOW (let's say until 2 hours), we can have some evidence to confirm this pattern."
      ]
    },
    {
      "metadata": {
        "id": "ODAsMFT-EYol",
        "colab_type": "code",
        "colab": {}
      },
      "cell_type": "code",
      "source": [
        "#Only receive data\n",
        "df_receive_events = df_full_data[df_full_data['flg_received'] == 1]\n",
        "\n",
        "#Only open data\n",
        "df_open_events = df_full_data[df_full_data['flg_open'] == 1]\n",
        "\n",
        "#Preparing dataframes to join\n",
        "df_receive_events = df_receive_events.set_index(['id', 'email_id'])\n",
        "df_open_events = df_open_events.set_index(['id', 'email_id'])"
      ],
      "execution_count": 0,
      "outputs": []
    },
    {
      "metadata": {
        "id": "sbdyRcymEYoo",
        "colab_type": "code",
        "colab": {}
      },
      "cell_type": "code",
      "source": [
        "#received + open events\n",
        "df_open_received = df_receive_events.join(df_open_events, rsuffix='_open')\n",
        "\n",
        "#Only data that we have the Open and Receive event for the same email+customer\n",
        "df_open_received = df_open_received[df_open_received['timestamp_open'].notnull()]"
      ],
      "execution_count": 0,
      "outputs": []
    },
    {
      "metadata": {
        "id": "SEp2h1AkEYoq",
        "colab_type": "code",
        "colab": {
          "base_uri": "https://localhost:8080/",
          "height": 34
        },
        "outputId": "e410e41f-3baa-4b9c-a812-d6b1bb41f78c"
      },
      "cell_type": "code",
      "source": [
        "print('We identified {0} cases with open and receive events for the same customer and email.'\n",
        ".format(len(df_open_received.reset_index())))\n",
        "      "
      ],
      "execution_count": 21,
      "outputs": [
        {
          "output_type": "stream",
          "text": [
            "We identified 88382 cases with open and receive events for the same customer and email.\n"
          ],
          "name": "stdout"
        }
      ]
    },
    {
      "metadata": {
        "id": "myJhJZbfEYot",
        "colab_type": "code",
        "colab": {}
      },
      "cell_type": "code",
      "source": [
        "#Converting data to timestamp in order to calculate the differeces\n",
        "df_open_received['receivedtime_calc'] = df_open_received['timestamp'].apply(lambda x: datetime.strptime(x, \"%Y-%m-%d %H:%M:%S UTC\"))\n",
        "df_open_received['opentime_calc'] = df_open_received['timestamp_open'].apply(lambda x: datetime.strptime(x, \"%Y-%m-%d %H:%M:%S UTC\"))"
      ],
      "execution_count": 0,
      "outputs": []
    },
    {
      "metadata": {
        "id": "Gq5oU83LEYov",
        "colab_type": "code",
        "colab": {
          "base_uri": "https://localhost:8080/",
          "height": 119
        },
        "outputId": "bf77c222-f94a-4546-c041-b1097d15f8ad"
      },
      "cell_type": "code",
      "source": [
        "#Difference between open and receive time for the samme email and customer\n",
        "delta = df_open_received['opentime_calc'] - df_open_received['receivedtime_calc']\n",
        "\n",
        "#Describing the values\n",
        "print('Median')\n",
        "print(delta.median())\n",
        "\n",
        "print('Max')\n",
        "print(delta.max())\n",
        "\n",
        "print('Min')\n",
        "print(delta.min())"
      ],
      "execution_count": 23,
      "outputs": [
        {
          "output_type": "stream",
          "text": [
            "Median\n",
            "0 days 04:20:32\n",
            "Max\n",
            "286 days 18:06:33\n",
            "Min\n",
            "-1 days +23:56:46\n"
          ],
          "name": "stdout"
        }
      ]
    },
    {
      "metadata": {
        "id": "KXp41ddJEYoz",
        "colab_type": "text"
      },
      "cell_type": "markdown",
      "source": [
        "## Over more than 88k identified...\n",
        "\n",
        "### Median of <mark> 4 hours and 20 min </mark> reinforces that open and receive time are NOT correlated, otherwise it will be closer.\n",
        "\n",
        "#### Minimum with negative number might be an outlier and will be analyzed separately\n",
        "\n",
        "#### Maximum of 286 days"
      ]
    },
    {
      "metadata": {
        "id": "Ele5lD6-EYoz",
        "colab_type": "text"
      },
      "cell_type": "markdown",
      "source": [
        "### Negative cases"
      ]
    },
    {
      "metadata": {
        "id": "9kglfNryEYo0",
        "colab_type": "text"
      },
      "cell_type": "markdown",
      "source": [
        "It is not possible to someone open an email before receive it, so it might be an error on data collecting process.\n",
        "Let's remove those out from the analysis and check the numbers again"
      ]
    },
    {
      "metadata": {
        "id": "ahYH4SRDEYo1",
        "colab_type": "code",
        "colab": {
          "base_uri": "https://localhost:8080/",
          "height": 153
        },
        "outputId": "b6d0c7d4-3036-475d-ae97-976fd0893488"
      },
      "cell_type": "code",
      "source": [
        "df_open_received_aux = df_open_received[df_open_received['receivedtime_calc'] <= df_open_received['opentime_calc']]\n",
        "delta = df_open_received_aux['opentime_calc'] - df_open_received_aux['receivedtime_calc']\n",
        "\n",
        "#Describing the values after removing outliers\n",
        "print('Median')\n",
        "print(delta.median())\n",
        "\n",
        "print('Mean')\n",
        "print(delta.mean())\n",
        "\n",
        "print('Max')\n",
        "print(delta.max())\n",
        "\n",
        "print('Min')\n",
        "print(delta.min())"
      ],
      "execution_count": 24,
      "outputs": [
        {
          "output_type": "stream",
          "text": [
            "Median\n",
            "0 days 04:20:32.500000\n",
            "Mean\n",
            "2 days 22:15:10.205091\n",
            "Max\n",
            "286 days 18:06:33\n",
            "Min\n",
            "0 days 00:00:01\n"
          ],
          "name": "stdout"
        }
      ]
    },
    {
      "metadata": {
        "id": "DeQmmX-zEYo5",
        "colab_type": "code",
        "colab": {
          "base_uri": "https://localhost:8080/",
          "height": 297
        },
        "outputId": "d4da688f-c66d-4991-d68f-64cf140f95bc"
      },
      "cell_type": "code",
      "source": [
        "delta.describe().to_frame()"
      ],
      "execution_count": 25,
      "outputs": [
        {
          "output_type": "execute_result",
          "data": {
            "text/html": [
              "<div>\n",
              "<style scoped>\n",
              "    .dataframe tbody tr th:only-of-type {\n",
              "        vertical-align: middle;\n",
              "    }\n",
              "\n",
              "    .dataframe tbody tr th {\n",
              "        vertical-align: top;\n",
              "    }\n",
              "\n",
              "    .dataframe thead th {\n",
              "        text-align: right;\n",
              "    }\n",
              "</style>\n",
              "<table border=\"1\" class=\"dataframe\">\n",
              "  <thead>\n",
              "    <tr style=\"text-align: right;\">\n",
              "      <th></th>\n",
              "      <th>0</th>\n",
              "    </tr>\n",
              "  </thead>\n",
              "  <tbody>\n",
              "    <tr>\n",
              "      <th>count</th>\n",
              "      <td>88380</td>\n",
              "    </tr>\n",
              "    <tr>\n",
              "      <th>mean</th>\n",
              "      <td>2 days 22:15:10.205091</td>\n",
              "    </tr>\n",
              "    <tr>\n",
              "      <th>std</th>\n",
              "      <td>11 days 09:47:38.243731</td>\n",
              "    </tr>\n",
              "    <tr>\n",
              "      <th>min</th>\n",
              "      <td>0 days 00:00:01</td>\n",
              "    </tr>\n",
              "    <tr>\n",
              "      <th>25%</th>\n",
              "      <td>0 days 00:58:26</td>\n",
              "    </tr>\n",
              "    <tr>\n",
              "      <th>50%</th>\n",
              "      <td>0 days 04:20:32.500000</td>\n",
              "    </tr>\n",
              "    <tr>\n",
              "      <th>75%</th>\n",
              "      <td>1 days 00:42:01.250000</td>\n",
              "    </tr>\n",
              "    <tr>\n",
              "      <th>max</th>\n",
              "      <td>286 days 18:06:33</td>\n",
              "    </tr>\n",
              "  </tbody>\n",
              "</table>\n",
              "</div>"
            ],
            "text/plain": [
              "                             0\n",
              "count                    88380\n",
              "mean    2 days 22:15:10.205091\n",
              "std    11 days 09:47:38.243731\n",
              "min            0 days 00:00:01\n",
              "25%            0 days 00:58:26\n",
              "50%     0 days 04:20:32.500000\n",
              "75%     1 days 00:42:01.250000\n",
              "max          286 days 18:06:33"
            ]
          },
          "metadata": {
            "tags": []
          },
          "execution_count": 25
        }
      ]
    },
    {
      "metadata": {
        "id": "RXQKhq0LEYo8",
        "colab_type": "text"
      },
      "cell_type": "markdown",
      "source": [
        "#### After removing those cases the minimum value was correct"
      ]
    },
    {
      "metadata": {
        "id": "ua163XjBEYo9",
        "colab_type": "text"
      },
      "cell_type": "markdown",
      "source": [
        "### 3.3 - Hour range analysis"
      ]
    },
    {
      "metadata": {
        "id": "zFkF0bHqEYpA",
        "colab_type": "text"
      },
      "cell_type": "markdown",
      "source": [
        "In order to group data into small groups and yet distinct enough to find different patterns, data will be analyzed in groups of two hours. "
      ]
    },
    {
      "metadata": {
        "id": "xQ_ZVlI7EYpA",
        "colab_type": "code",
        "colab": {}
      },
      "cell_type": "code",
      "source": [
        "def getHourRange(hra):\n",
        "    \n",
        "    hour_range= {'00': '00-01','01':'00-01','02':'02-03','03':'02-03','04':'04-05','05':'04-05','06':'06-07',\n",
        "                 '07':'06-07','08':'08-09','09':'08-09','10':'10-11','11':'10-11','12':'12-13','13':'12-13',\n",
        "                 '14':'14-15','15':'14-15','16':'16-17','17':'16-17','18':'18-19','19':'18-19','20':'20-21',\n",
        "                 '21':'20-21','22':'22-23','23':'22-23'\n",
        "                 }\n",
        "    \n",
        "    return hour_range.get(hra)"
      ],
      "execution_count": 0,
      "outputs": []
    },
    {
      "metadata": {
        "id": "EkpcPQEfEYpC",
        "colab_type": "code",
        "colab": {
          "base_uri": "https://localhost:8080/",
          "height": 394
        },
        "outputId": "7307758f-ab26-4dde-be23-5c5f2e9ac7d5"
      },
      "cell_type": "code",
      "source": [
        "#Creating hour-range columns\n",
        "df_full_data['hour_range'] = df_full_data['event_hour'].apply(lambda x: getHourRange(x))\n",
        "df_full_data.head()"
      ],
      "execution_count": 27,
      "outputs": [
        {
          "output_type": "execute_result",
          "data": {
            "text/html": [
              "<div>\n",
              "<style scoped>\n",
              "    .dataframe tbody tr th:only-of-type {\n",
              "        vertical-align: middle;\n",
              "    }\n",
              "\n",
              "    .dataframe tbody tr th {\n",
              "        vertical-align: top;\n",
              "    }\n",
              "\n",
              "    .dataframe thead th {\n",
              "        text-align: right;\n",
              "    }\n",
              "</style>\n",
              "<table border=\"1\" class=\"dataframe\">\n",
              "  <thead>\n",
              "    <tr style=\"text-align: right;\">\n",
              "      <th></th>\n",
              "      <th>id</th>\n",
              "      <th>timestamp</th>\n",
              "      <th>email_id</th>\n",
              "      <th>action</th>\n",
              "      <th>flg_open</th>\n",
              "      <th>flg_received</th>\n",
              "      <th>weekday</th>\n",
              "      <th>flg_weekend</th>\n",
              "      <th>event_time</th>\n",
              "      <th>event_hour</th>\n",
              "      <th>hour_range</th>\n",
              "    </tr>\n",
              "  </thead>\n",
              "  <tbody>\n",
              "    <tr>\n",
              "      <th>0</th>\n",
              "      <td>4591b11ba8cca67079c1a43be2992a8f89fce422</td>\n",
              "      <td>2018-05-25 14:59:02 UTC</td>\n",
              "      <td>3498910</td>\n",
              "      <td>open</td>\n",
              "      <td>1</td>\n",
              "      <td>0</td>\n",
              "      <td>4</td>\n",
              "      <td>0</td>\n",
              "      <td>14:59:02</td>\n",
              "      <td>14</td>\n",
              "      <td>14-15</td>\n",
              "    </tr>\n",
              "    <tr>\n",
              "      <th>1</th>\n",
              "      <td>2bbdb4cff0fe8cc3cb6c1757291e31806ecefa47</td>\n",
              "      <td>2018-06-25 17:47:23 UTC</td>\n",
              "      <td>3498910</td>\n",
              "      <td>open</td>\n",
              "      <td>1</td>\n",
              "      <td>0</td>\n",
              "      <td>0</td>\n",
              "      <td>0</td>\n",
              "      <td>17:47:23</td>\n",
              "      <td>17</td>\n",
              "      <td>16-17</td>\n",
              "    </tr>\n",
              "    <tr>\n",
              "      <th>2</th>\n",
              "      <td>0f467135eabd4e385f9c2dcd3f00a9f2a04c0115</td>\n",
              "      <td>2018-06-27 12:32:36 UTC</td>\n",
              "      <td>3498910</td>\n",
              "      <td>open</td>\n",
              "      <td>1</td>\n",
              "      <td>0</td>\n",
              "      <td>2</td>\n",
              "      <td>0</td>\n",
              "      <td>12:32:36</td>\n",
              "      <td>12</td>\n",
              "      <td>12-13</td>\n",
              "    </tr>\n",
              "    <tr>\n",
              "      <th>3</th>\n",
              "      <td>6f17b7dc6f220c09fba4d8fbc2491317eece2ae8</td>\n",
              "      <td>2018-07-02 22:47:28 UTC</td>\n",
              "      <td>3498910</td>\n",
              "      <td>open</td>\n",
              "      <td>1</td>\n",
              "      <td>0</td>\n",
              "      <td>0</td>\n",
              "      <td>0</td>\n",
              "      <td>22:47:28</td>\n",
              "      <td>22</td>\n",
              "      <td>22-23</td>\n",
              "    </tr>\n",
              "    <tr>\n",
              "      <th>4</th>\n",
              "      <td>a645dd2ac5c5e000c8b5c7739b3a54435fb313cc</td>\n",
              "      <td>2018-01-24 19:21:49 UTC</td>\n",
              "      <td>3498910</td>\n",
              "      <td>open</td>\n",
              "      <td>1</td>\n",
              "      <td>0</td>\n",
              "      <td>2</td>\n",
              "      <td>0</td>\n",
              "      <td>19:21:49</td>\n",
              "      <td>19</td>\n",
              "      <td>18-19</td>\n",
              "    </tr>\n",
              "  </tbody>\n",
              "</table>\n",
              "</div>"
            ],
            "text/plain": [
              "                                         id                timestamp  \\\n",
              "0  4591b11ba8cca67079c1a43be2992a8f89fce422  2018-05-25 14:59:02 UTC   \n",
              "1  2bbdb4cff0fe8cc3cb6c1757291e31806ecefa47  2018-06-25 17:47:23 UTC   \n",
              "2  0f467135eabd4e385f9c2dcd3f00a9f2a04c0115  2018-06-27 12:32:36 UTC   \n",
              "3  6f17b7dc6f220c09fba4d8fbc2491317eece2ae8  2018-07-02 22:47:28 UTC   \n",
              "4  a645dd2ac5c5e000c8b5c7739b3a54435fb313cc  2018-01-24 19:21:49 UTC   \n",
              "\n",
              "   email_id action  flg_open  flg_received  weekday  flg_weekend event_time  \\\n",
              "0   3498910   open         1             0        4            0   14:59:02   \n",
              "1   3498910   open         1             0        0            0   17:47:23   \n",
              "2   3498910   open         1             0        2            0   12:32:36   \n",
              "3   3498910   open         1             0        0            0   22:47:28   \n",
              "4   3498910   open         1             0        2            0   19:21:49   \n",
              "\n",
              "  event_hour hour_range  \n",
              "0         14      14-15  \n",
              "1         17      16-17  \n",
              "2         12      12-13  \n",
              "3         22      22-23  \n",
              "4         19      18-19  "
            ]
          },
          "metadata": {
            "tags": []
          },
          "execution_count": 27
        }
      ]
    },
    {
      "metadata": {
        "id": "nXEVPFVSEYpG",
        "colab_type": "text"
      },
      "cell_type": "markdown",
      "source": [
        "### Visualizing data grouped by hour range"
      ]
    },
    {
      "metadata": {
        "id": "wViYwuWrEYpG",
        "colab_type": "code",
        "colab": {
          "base_uri": "https://localhost:8080/",
          "height": 336
        },
        "outputId": "e5958174-d27f-4f28-b8fe-e12bbc2388ce"
      },
      "cell_type": "code",
      "source": [
        "df_agg_data = df_full_data[['flg_open', 'hour_range', 'flg_weekend']].groupby(['hour_range', 'flg_weekend']).sum().reset_index()\n",
        "\n",
        "plt.figure(figsize=(12,5))\n",
        "\n",
        "plt.bar(height=df_agg_data['flg_open'][df_agg_data['flg_weekend']==0], \n",
        "        x=df_agg_data['hour_range'][df_agg_data['flg_weekend']==0],\n",
        "       bottom=df_agg_data['flg_open'][df_agg_data['flg_weekend']==1],\n",
        "       color='lightgrey',\n",
        "       label='Regular')\n",
        "\n",
        "plt.bar(height=df_agg_data['flg_open'][df_agg_data['flg_weekend']==1], \n",
        "        x=df_agg_data['hour_range'][df_agg_data['flg_weekend']==1],\n",
        "       color='lightgreen',\n",
        "       label='Weekend')\n",
        "\n",
        "\n",
        "plt.xlabel('')\n",
        "plt.legend()\n",
        "plt.ylabel('# of events')\n",
        "plt.title('Events per hour range')\n",
        "plt.show()\n"
      ],
      "execution_count": 28,
      "outputs": [
        {
          "output_type": "display_data",
          "data": {
            "image/png": "[encoded data removed]",
            "text/plain": [
              "<Figure size 864x360 with 1 Axes>"
            ]
          },
          "metadata": {
            "tags": []
          }
        }
      ]
    },
    {
      "metadata": {
        "id": "B0bezFaREYpK",
        "colab_type": "text"
      },
      "cell_type": "markdown",
      "source": [
        "> **The ranges 18-19 and 12-13 are the TOP 2 and it might indicate key hours to send email like rush and lunch time respectively for most people.**"
      ]
    },
    {
      "metadata": {
        "id": "iS55DkloEYpL",
        "colab_type": "text"
      },
      "cell_type": "markdown",
      "source": [
        "## 4. Solution Design"
      ]
    },
    {
      "metadata": {
        "id": "3axWPOeLEYpO",
        "colab_type": "text"
      },
      "cell_type": "markdown",
      "source": [
        "Solution’s workflow designed to achieve the recommendations using history data and similar user’s information."
      ]
    },
    {
      "metadata": {
        "id": "0Hft93HuEYpP",
        "colab_type": "text"
      },
      "cell_type": "markdown",
      "source": [
        "![solution_design](../miscellaneous/solution_workflow.png)"
      ]
    },
    {
      "metadata": {
        "id": "ebeuxSxSEYpP",
        "colab_type": "text"
      },
      "cell_type": "markdown",
      "source": [
        "### For example...\n",
        "\n",
        "By the people on the example figure above, the optimal time(s) to send an email to John would be:\n",
        "1. The optimal time from John’s most probable cluster.\n",
        "2. The optimal time from John’s **next** most probable cluster.\n",
        "3. The optimal time from the next probable cluster of John’s\n",
        "**similar users**.\n",
        "4. The remaining probabilities of each time slot from John’s most\n",
        "probable cluster.\n",
        "\n",
        "> *** <font size=3> It is all about recommend time by similar people behavior and their own behavior </font>***"
      ]
    },
    {
      "metadata": {
        "id": "mdXd3tPqEYpQ",
        "colab_type": "text"
      },
      "cell_type": "markdown",
      "source": [
        "### 4.1 - Calculate similarity \n",
        "\n",
        "### How do we know that someone is similar to another with data?"
      ]
    },
    {
      "metadata": {
        "id": "3BO2VHT0EYpR",
        "colab_type": "text"
      },
      "cell_type": "markdown",
      "source": [
        "If you are a person that usually open emails in the morning and lunch time, a similar user would be someone with the same preferences of time, so in order to identify similarities and group people, <u>the proportions of open emails along the time ranges will be used</u>\n",
        "\n",
        "Therefore if 80% of John's emails are opened at 10 A.M in regular days, and the remaining 20% at 4 p.m and 7 p.m, the goal is to find people with similar habits and assign them in the same group that John's. "
      ]
    },
    {
      "metadata": {
        "id": "buR1anBMEYpR",
        "colab_type": "text"
      },
      "cell_type": "markdown",
      "source": [
        "### 4.2 - Clustering Algorithm\n",
        "\n",
        "Clustering is basically group similar people within distinct groups so we can understand and guide our actions according to people's differences and similarities. In the context of this project, similar people would be the ones that usually have the same behavior related to the time of open emails. \n",
        "\n",
        "> ***For example, a given person that usually open his/her emails at 10 a.m and 8 p.m would be assigned to others with the same behavior, whereas people with a higher concentration of openings at 3 p.m will be in another group.***\n",
        "\n",
        "There are some different approaches that we can use to cluster data and it will be discussed in the next sections."
      ]
    },
    {
      "metadata": {
        "id": "a_qY-HMdEYpS",
        "colab_type": "text"
      },
      "cell_type": "markdown",
      "source": [
        "### Hard x Soft Clustering\n",
        "\n",
        "![soft_hard](../miscellaneous/soft_hard.png)"
      ]
    },
    {
      "metadata": {
        "id": "IUgbS0mCEYpT",
        "colab_type": "text"
      },
      "cell_type": "markdown",
      "source": [
        "### Which one should be used for this project?\n",
        "\n",
        "As Soft clustering algorithms return probabilities of a given customer belongs to any of the distinct groups, it has an important role on the proposed solution as it enables to capture different behavior for the same person as routines usually change due to external factors like vacations, night classes, etc. \n",
        "\n",
        "The probabilities outcomes will be used to **explore new time slots** in addition to the most probable cluster of each customer, so it will be able to suggest additional times from others clusters that a given person has the chance(probability > 0) to belong to.\n",
        "\n",
        "### Gaussian Mixture Model\n",
        "\n",
        "The most common definition of this algorithm is that a Gaussian mixture model is a probabilistic model that assumes all the data points are generated from a mixture of a finite number of Gaussian distributions with unknown parameters. One can think of mixture models as generalizing k-means clustering to incorporate information about the covariance structure of the data as well as the centers of the latent Gaussians.\n",
        "\n",
        "It is like we assume that we have different density distributions in the same data and it tries to capture those differences.\n",
        "\n",
        "![gmm_01](../miscellaneous/gmm_02.png)"
      ]
    },
    {
      "metadata": {
        "id": "fqST-RXiEYpU",
        "colab_type": "text"
      },
      "cell_type": "markdown",
      "source": [
        "**Further information on the following URLs:**\n",
        "<li>https://scikit-learn.org/stable/modules/mixture.html\n",
        "<li>https://brilliant.org/wiki/gaussian-mixture-model/\n",
        "<li>https://jakevdp.github.io/PythonDataScienceHandbook/05.12-gaussian-mixtures.html"
      ]
    },
    {
      "metadata": {
        "id": "yiUzsllaEYpV",
        "colab_type": "text"
      },
      "cell_type": "markdown",
      "source": [
        "## 5. Solution Implementation"
      ]
    },
    {
      "metadata": {
        "id": "VZ_f8VzeEYpW",
        "colab_type": "text"
      },
      "cell_type": "markdown",
      "source": [
        "This project proposal is to use Machine Learning approaches recommending optimal email delivery times using user's preferences extracted from their past activities. This can be used in Customer Relationship Systems (CRM) to support marketers increasing email open rate and consequently reach more people in Digital Marketing campaigns\n",
        "\n",
        "The solution implementation will cover three parts:\n",
        "\n",
        "1. **Pre-process and format data**\n",
        "2. **Applying Soft Cluster Algorithm**\n",
        "3. **Recommendations in action**"
      ]
    },
    {
      "metadata": {
        "id": "saAhT2fCEYpX",
        "colab_type": "text"
      },
      "cell_type": "markdown",
      "source": [
        "### 5.1 - Pre-process and format data"
      ]
    },
    {
      "metadata": {
        "id": "bFOzBK7KEYpY",
        "colab_type": "text"
      },
      "cell_type": "markdown",
      "source": [
        "As weekends and regular days are significantly different on people's open emails behavior, the analysis will be split in two datasets apart (one for weekends and other for regular days).\n",
        "\n",
        "> Before recommending a certain optimal send time, the solution might consider checking the date target to use weekend or regular day recommendation."
      ]
    },
    {
      "metadata": {
        "id": "WBp73Ev2EYpa",
        "colab_type": "code",
        "colab": {}
      },
      "cell_type": "code",
      "source": [
        "#Getting open events data for each customer\n",
        "\n",
        "#weekends\n",
        "df_open_events_wknd = df_full_data[(df_full_data['flg_open'] == 1) & (df_full_data['flg_weekend'] == 1)]\n",
        "df_open_agg_wknd = df_open_events_wknd[['id', 'hour_range', 'flg_open']].groupby(by=['id','hour_range']).sum()\n",
        "\n",
        "#regular\n",
        "df_open_events_reg = df_full_data[(df_full_data['flg_open'] == 1) & (df_full_data['flg_weekend'] == 0)]\n",
        "df_open_agg_reg = df_open_events_reg[['id', 'hour_range', 'flg_open']].groupby(by=['id','hour_range']).sum()\n",
        "\n"
      ],
      "execution_count": 0,
      "outputs": []
    },
    {
      "metadata": {
        "id": "SLMMK_9QEYpd",
        "colab_type": "code",
        "colab": {}
      },
      "cell_type": "code",
      "source": [
        "#Getting total open events for each customer in order to calculate the proportions\n",
        "total_customer_wknd = df_open_agg_wknd.pivot_table(index='id', values='flg_open', aggfunc=sum)\n",
        "total_customer_reg = df_open_agg_reg.pivot_table(index='id', values='flg_open', aggfunc=sum)"
      ],
      "execution_count": 0,
      "outputs": []
    },
    {
      "metadata": {
        "id": "up0vZcdBEYpg",
        "colab_type": "code",
        "colab": {
          "base_uri": "https://localhost:8080/",
          "height": 235
        },
        "outputId": "f71c635c-a20a-45cc-a20b-1fc62a91598a"
      },
      "cell_type": "code",
      "source": [
        "total_customer_wknd.head()"
      ],
      "execution_count": 31,
      "outputs": [
        {
          "output_type": "execute_result",
          "data": {
            "text/html": [
              "<div>\n",
              "<style scoped>\n",
              "    .dataframe tbody tr th:only-of-type {\n",
              "        vertical-align: middle;\n",
              "    }\n",
              "\n",
              "    .dataframe tbody tr th {\n",
              "        vertical-align: top;\n",
              "    }\n",
              "\n",
              "    .dataframe thead th {\n",
              "        text-align: right;\n",
              "    }\n",
              "</style>\n",
              "<table border=\"1\" class=\"dataframe\">\n",
              "  <thead>\n",
              "    <tr style=\"text-align: right;\">\n",
              "      <th></th>\n",
              "      <th>flg_open</th>\n",
              "    </tr>\n",
              "    <tr>\n",
              "      <th>id</th>\n",
              "      <th></th>\n",
              "    </tr>\n",
              "  </thead>\n",
              "  <tbody>\n",
              "    <tr>\n",
              "      <th>000c8d54dcdee43b7f76073ef2a83503402bc5a3</th>\n",
              "      <td>2</td>\n",
              "    </tr>\n",
              "    <tr>\n",
              "      <th>002d6764c373e63cc25c503d6d2cfccf3d953d22</th>\n",
              "      <td>2</td>\n",
              "    </tr>\n",
              "    <tr>\n",
              "      <th>003f350037c7bac0784e291b4c0cdfb7a79e67c2</th>\n",
              "      <td>3</td>\n",
              "    </tr>\n",
              "    <tr>\n",
              "      <th>003f3d2188e1412b5876837758c47e24ac5ab069</th>\n",
              "      <td>1</td>\n",
              "    </tr>\n",
              "    <tr>\n",
              "      <th>00439537448542c89f31ed747742ea8ca9d36c11</th>\n",
              "      <td>3</td>\n",
              "    </tr>\n",
              "  </tbody>\n",
              "</table>\n",
              "</div>"
            ],
            "text/plain": [
              "                                          flg_open\n",
              "id                                                \n",
              "000c8d54dcdee43b7f76073ef2a83503402bc5a3         2\n",
              "002d6764c373e63cc25c503d6d2cfccf3d953d22         2\n",
              "003f350037c7bac0784e291b4c0cdfb7a79e67c2         3\n",
              "003f3d2188e1412b5876837758c47e24ac5ab069         1\n",
              "00439537448542c89f31ed747742ea8ca9d36c11         3"
            ]
          },
          "metadata": {
            "tags": []
          },
          "execution_count": 31
        }
      ]
    },
    {
      "metadata": {
        "id": "D5EVkfkbEYpk",
        "colab_type": "code",
        "colab": {
          "base_uri": "https://localhost:8080/",
          "height": 235
        },
        "outputId": "5602d454-ae81-4c7d-8271-beccfaad3a4b"
      },
      "cell_type": "code",
      "source": [
        "total_customer_reg.head()"
      ],
      "execution_count": 32,
      "outputs": [
        {
          "output_type": "execute_result",
          "data": {
            "text/html": [
              "<div>\n",
              "<style scoped>\n",
              "    .dataframe tbody tr th:only-of-type {\n",
              "        vertical-align: middle;\n",
              "    }\n",
              "\n",
              "    .dataframe tbody tr th {\n",
              "        vertical-align: top;\n",
              "    }\n",
              "\n",
              "    .dataframe thead th {\n",
              "        text-align: right;\n",
              "    }\n",
              "</style>\n",
              "<table border=\"1\" class=\"dataframe\">\n",
              "  <thead>\n",
              "    <tr style=\"text-align: right;\">\n",
              "      <th></th>\n",
              "      <th>flg_open</th>\n",
              "    </tr>\n",
              "    <tr>\n",
              "      <th>id</th>\n",
              "      <th></th>\n",
              "    </tr>\n",
              "  </thead>\n",
              "  <tbody>\n",
              "    <tr>\n",
              "      <th>00009d30d2f6cdca3b306b6a0fe58a32e51dabdc</th>\n",
              "      <td>2</td>\n",
              "    </tr>\n",
              "    <tr>\n",
              "      <th>00074efe132b0b36c90ef600386ca2f863bc5e49</th>\n",
              "      <td>2</td>\n",
              "    </tr>\n",
              "    <tr>\n",
              "      <th>0009b0b413429e75bf81c8989d7c6201f2d86180</th>\n",
              "      <td>6</td>\n",
              "    </tr>\n",
              "    <tr>\n",
              "      <th>000e522c0071795551e9ebc958ea80be87d64ec3</th>\n",
              "      <td>3</td>\n",
              "    </tr>\n",
              "    <tr>\n",
              "      <th>001a8819c8fc79e60c8a580f78a6502b45d9206c</th>\n",
              "      <td>1</td>\n",
              "    </tr>\n",
              "  </tbody>\n",
              "</table>\n",
              "</div>"
            ],
            "text/plain": [
              "                                          flg_open\n",
              "id                                                \n",
              "00009d30d2f6cdca3b306b6a0fe58a32e51dabdc         2\n",
              "00074efe132b0b36c90ef600386ca2f863bc5e49         2\n",
              "0009b0b413429e75bf81c8989d7c6201f2d86180         6\n",
              "000e522c0071795551e9ebc958ea80be87d64ec3         3\n",
              "001a8819c8fc79e60c8a580f78a6502b45d9206c         1"
            ]
          },
          "metadata": {
            "tags": []
          },
          "execution_count": 32
        }
      ]
    },
    {
      "metadata": {
        "id": "onAavpOqEYpo",
        "colab_type": "code",
        "colab": {}
      },
      "cell_type": "code",
      "source": [
        "#Connecting customer events and total for the proportion calculation \n",
        "df_customers_wknd = df_open_agg_wknd.join(total_customer_wknd, rsuffix='_total')\n",
        "df_customers_reg = df_open_agg_reg.join(total_customer_reg, rsuffix='_total')"
      ],
      "execution_count": 0,
      "outputs": []
    },
    {
      "metadata": {
        "id": "ZUuKI3swEYpr",
        "colab_type": "code",
        "colab": {
          "base_uri": "https://localhost:8080/",
          "height": 235
        },
        "outputId": "d9e56db2-2f64-44d8-ceff-cba317ada3c1"
      },
      "cell_type": "code",
      "source": [
        "df_customers_reg.head()"
      ],
      "execution_count": 34,
      "outputs": [
        {
          "output_type": "execute_result",
          "data": {
            "text/html": [
              "<div>\n",
              "<style scoped>\n",
              "    .dataframe tbody tr th:only-of-type {\n",
              "        vertical-align: middle;\n",
              "    }\n",
              "\n",
              "    .dataframe tbody tr th {\n",
              "        vertical-align: top;\n",
              "    }\n",
              "\n",
              "    .dataframe thead th {\n",
              "        text-align: right;\n",
              "    }\n",
              "</style>\n",
              "<table border=\"1\" class=\"dataframe\">\n",
              "  <thead>\n",
              "    <tr style=\"text-align: right;\">\n",
              "      <th></th>\n",
              "      <th></th>\n",
              "      <th>flg_open</th>\n",
              "      <th>flg_open_total</th>\n",
              "    </tr>\n",
              "    <tr>\n",
              "      <th>id</th>\n",
              "      <th>hour_range</th>\n",
              "      <th></th>\n",
              "      <th></th>\n",
              "    </tr>\n",
              "  </thead>\n",
              "  <tbody>\n",
              "    <tr>\n",
              "      <th rowspan=\"2\" valign=\"top\">00009d30d2f6cdca3b306b6a0fe58a32e51dabdc</th>\n",
              "      <th>12-13</th>\n",
              "      <td>1</td>\n",
              "      <td>2</td>\n",
              "    </tr>\n",
              "    <tr>\n",
              "      <th>18-19</th>\n",
              "      <td>1</td>\n",
              "      <td>2</td>\n",
              "    </tr>\n",
              "    <tr>\n",
              "      <th>00074efe132b0b36c90ef600386ca2f863bc5e49</th>\n",
              "      <th>14-15</th>\n",
              "      <td>2</td>\n",
              "      <td>2</td>\n",
              "    </tr>\n",
              "    <tr>\n",
              "      <th rowspan=\"2\" valign=\"top\">0009b0b413429e75bf81c8989d7c6201f2d86180</th>\n",
              "      <th>10-11</th>\n",
              "      <td>1</td>\n",
              "      <td>6</td>\n",
              "    </tr>\n",
              "    <tr>\n",
              "      <th>12-13</th>\n",
              "      <td>2</td>\n",
              "      <td>6</td>\n",
              "    </tr>\n",
              "  </tbody>\n",
              "</table>\n",
              "</div>"
            ],
            "text/plain": [
              "                                                     flg_open  flg_open_total\n",
              "id                                       hour_range                          \n",
              "00009d30d2f6cdca3b306b6a0fe58a32e51dabdc 12-13              1               2\n",
              "                                         18-19              1               2\n",
              "00074efe132b0b36c90ef600386ca2f863bc5e49 14-15              2               2\n",
              "0009b0b413429e75bf81c8989d7c6201f2d86180 10-11              1               6\n",
              "                                         12-13              2               6"
            ]
          },
          "metadata": {
            "tags": []
          },
          "execution_count": 34
        }
      ]
    },
    {
      "metadata": {
        "id": "FRosiZjKEYpx",
        "colab_type": "code",
        "colab": {
          "base_uri": "https://localhost:8080/",
          "height": 252
        },
        "outputId": "52d87c4d-6c6d-46f9-9f63-efd2795a0830"
      },
      "cell_type": "code",
      "source": [
        "#Calculating events proportion as customer's open events for each hour range / total of customer's open events\n",
        "df_customers_wknd['open_prop'] = df_customers_wknd['flg_open'] / df_customers_wknd['flg_open_total']\n",
        "df_customers_reg['open_prop'] = df_customers_reg['flg_open'] / df_customers_reg['flg_open_total']\n",
        "\n",
        "#Setting data format to use them more easily on further clustering algorithm\n",
        "df_customers_wknd = df_customers_wknd.pivot_table(index='id', columns='hour_range', values='open_prop', fill_value=0.0)\n",
        "df_customers_reg = df_customers_reg.pivot_table(index='id', columns='hour_range', values='open_prop', fill_value=0.0)\n",
        "\n",
        "df_customers_reg.head()"
      ],
      "execution_count": 35,
      "outputs": [
        {
          "output_type": "execute_result",
          "data": {
            "text/html": [
              "<div>\n",
              "<style scoped>\n",
              "    .dataframe tbody tr th:only-of-type {\n",
              "        vertical-align: middle;\n",
              "    }\n",
              "\n",
              "    .dataframe tbody tr th {\n",
              "        vertical-align: top;\n",
              "    }\n",
              "\n",
              "    .dataframe thead th {\n",
              "        text-align: right;\n",
              "    }\n",
              "</style>\n",
              "<table border=\"1\" class=\"dataframe\">\n",
              "  <thead>\n",
              "    <tr style=\"text-align: right;\">\n",
              "      <th>hour_range</th>\n",
              "      <th>00-01</th>\n",
              "      <th>02-03</th>\n",
              "      <th>04-05</th>\n",
              "      <th>06-07</th>\n",
              "      <th>08-09</th>\n",
              "      <th>10-11</th>\n",
              "      <th>12-13</th>\n",
              "      <th>14-15</th>\n",
              "      <th>16-17</th>\n",
              "      <th>18-19</th>\n",
              "      <th>20-21</th>\n",
              "      <th>22-23</th>\n",
              "    </tr>\n",
              "    <tr>\n",
              "      <th>id</th>\n",
              "      <th></th>\n",
              "      <th></th>\n",
              "      <th></th>\n",
              "      <th></th>\n",
              "      <th></th>\n",
              "      <th></th>\n",
              "      <th></th>\n",
              "      <th></th>\n",
              "      <th></th>\n",
              "      <th></th>\n",
              "      <th></th>\n",
              "      <th></th>\n",
              "    </tr>\n",
              "  </thead>\n",
              "  <tbody>\n",
              "    <tr>\n",
              "      <th>00009d30d2f6cdca3b306b6a0fe58a32e51dabdc</th>\n",
              "      <td>0.00</td>\n",
              "      <td>0.00</td>\n",
              "      <td>0.00</td>\n",
              "      <td>0.00</td>\n",
              "      <td>0.00</td>\n",
              "      <td>0.00</td>\n",
              "      <td>0.50</td>\n",
              "      <td>0.00</td>\n",
              "      <td>0.00</td>\n",
              "      <td>0.50</td>\n",
              "      <td>0.00</td>\n",
              "      <td>0.00</td>\n",
              "    </tr>\n",
              "    <tr>\n",
              "      <th>00074efe132b0b36c90ef600386ca2f863bc5e49</th>\n",
              "      <td>0.00</td>\n",
              "      <td>0.00</td>\n",
              "      <td>0.00</td>\n",
              "      <td>0.00</td>\n",
              "      <td>0.00</td>\n",
              "      <td>0.00</td>\n",
              "      <td>0.00</td>\n",
              "      <td>1.00</td>\n",
              "      <td>0.00</td>\n",
              "      <td>0.00</td>\n",
              "      <td>0.00</td>\n",
              "      <td>0.00</td>\n",
              "    </tr>\n",
              "    <tr>\n",
              "      <th>0009b0b413429e75bf81c8989d7c6201f2d86180</th>\n",
              "      <td>0.00</td>\n",
              "      <td>0.00</td>\n",
              "      <td>0.00</td>\n",
              "      <td>0.00</td>\n",
              "      <td>0.00</td>\n",
              "      <td>0.17</td>\n",
              "      <td>0.33</td>\n",
              "      <td>0.00</td>\n",
              "      <td>0.00</td>\n",
              "      <td>0.50</td>\n",
              "      <td>0.00</td>\n",
              "      <td>0.00</td>\n",
              "    </tr>\n",
              "    <tr>\n",
              "      <th>000e522c0071795551e9ebc958ea80be87d64ec3</th>\n",
              "      <td>0.00</td>\n",
              "      <td>0.00</td>\n",
              "      <td>0.00</td>\n",
              "      <td>0.00</td>\n",
              "      <td>0.00</td>\n",
              "      <td>0.00</td>\n",
              "      <td>0.00</td>\n",
              "      <td>0.33</td>\n",
              "      <td>0.33</td>\n",
              "      <td>0.33</td>\n",
              "      <td>0.00</td>\n",
              "      <td>0.00</td>\n",
              "    </tr>\n",
              "    <tr>\n",
              "      <th>001a8819c8fc79e60c8a580f78a6502b45d9206c</th>\n",
              "      <td>0.00</td>\n",
              "      <td>0.00</td>\n",
              "      <td>0.00</td>\n",
              "      <td>0.00</td>\n",
              "      <td>0.00</td>\n",
              "      <td>0.00</td>\n",
              "      <td>0.00</td>\n",
              "      <td>0.00</td>\n",
              "      <td>1.00</td>\n",
              "      <td>0.00</td>\n",
              "      <td>0.00</td>\n",
              "      <td>0.00</td>\n",
              "    </tr>\n",
              "  </tbody>\n",
              "</table>\n",
              "</div>"
            ],
            "text/plain": [
              "hour_range                                00-01  02-03  04-05  06-07  08-09  \\\n",
              "id                                                                            \n",
              "00009d30d2f6cdca3b306b6a0fe58a32e51dabdc   0.00   0.00   0.00   0.00   0.00   \n",
              "00074efe132b0b36c90ef600386ca2f863bc5e49   0.00   0.00   0.00   0.00   0.00   \n",
              "0009b0b413429e75bf81c8989d7c6201f2d86180   0.00   0.00   0.00   0.00   0.00   \n",
              "000e522c0071795551e9ebc958ea80be87d64ec3   0.00   0.00   0.00   0.00   0.00   \n",
              "001a8819c8fc79e60c8a580f78a6502b45d9206c   0.00   0.00   0.00   0.00   0.00   \n",
              "\n",
              "hour_range                                10-11  12-13  14-15  16-17  18-19  \\\n",
              "id                                                                            \n",
              "00009d30d2f6cdca3b306b6a0fe58a32e51dabdc   0.00   0.50   0.00   0.00   0.50   \n",
              "00074efe132b0b36c90ef600386ca2f863bc5e49   0.00   0.00   1.00   0.00   0.00   \n",
              "0009b0b413429e75bf81c8989d7c6201f2d86180   0.17   0.33   0.00   0.00   0.50   \n",
              "000e522c0071795551e9ebc958ea80be87d64ec3   0.00   0.00   0.33   0.33   0.33   \n",
              "001a8819c8fc79e60c8a580f78a6502b45d9206c   0.00   0.00   0.00   1.00   0.00   \n",
              "\n",
              "hour_range                                20-21  22-23  \n",
              "id                                                      \n",
              "00009d30d2f6cdca3b306b6a0fe58a32e51dabdc   0.00   0.00  \n",
              "00074efe132b0b36c90ef600386ca2f863bc5e49   0.00   0.00  \n",
              "0009b0b413429e75bf81c8989d7c6201f2d86180   0.00   0.00  \n",
              "000e522c0071795551e9ebc958ea80be87d64ec3   0.00   0.00  \n",
              "001a8819c8fc79e60c8a580f78a6502b45d9206c   0.00   0.00  "
            ]
          },
          "metadata": {
            "tags": []
          },
          "execution_count": 35
        }
      ]
    },
    {
      "metadata": {
        "id": "FoN7jWlPEYp1",
        "colab_type": "text"
      },
      "cell_type": "markdown",
      "source": [
        "After process the data we have one sparse matrix for each day type and each customer represented on the rows and the columns as the hour-ranges. \n",
        "\n",
        "Each cell represents the proportion of open events for a specific customer (row) and hour-range(column)\n",
        "\n",
        "> **Note**: Working with proportions will be very handful as data will be well scaled and it is essential for math distance metrics used on clustering algorithm's calculations. Besides, the impact of outliers is reduced because data are being normalized with the total of events for each consumer, that is, a given person with 1K events for example can be compared easily with another one with only 3 events as their are scaled by the same unit (proportion) that varies from 0 to 1."
      ]
    },
    {
      "metadata": {
        "id": "alKEQkmzEYp2",
        "colab_type": "text"
      },
      "cell_type": "markdown",
      "source": [
        "### 5.2 - Splitting Data into Train and Test datasets"
      ]
    },
    {
      "metadata": {
        "id": "eVMuSoeEEYp4",
        "colab_type": "text"
      },
      "cell_type": "markdown",
      "source": [
        "For this solution we need to predict two things: \n",
        "\n",
        "1. A **cluster** to specific customer according to his/her data, in other words which group a \"new\" customer would fit better.\n",
        "2. The **hour-range** to send an email for a specific customer and date.\n",
        "\n",
        "First we need to build our clustering algorithm and this train and test datasets will be used to evaluate <u>**cluster prediction**</u> (item 1).\n",
        "\n",
        "The solution's prediction (item 2) will be covered on the <u>Solution Evaluation</u> section"
      ]
    },
    {
      "metadata": {
        "id": "r9HsxxrxEYp4",
        "colab_type": "code",
        "colab": {
          "base_uri": "https://localhost:8080/",
          "height": 34
        },
        "outputId": "68a1ce37-abbf-4d4c-c4be-f8f55d822b9f"
      },
      "cell_type": "code",
      "source": [
        "print('The dataset has {0} different customers on the \"regular days\" dataset and {1} on the weekends' \\\n",
        "      .format(len(df_customers_reg.index), len(df_customers_wknd.index)))"
      ],
      "execution_count": 36,
      "outputs": [
        {
          "output_type": "stream",
          "text": [
            "The dataset has 13724 different customers on the \"regular days\" dataset and 2410 on the weekends\n"
          ],
          "name": "stdout"
        }
      ]
    },
    {
      "metadata": {
        "id": "nPKzzaRAEYp9",
        "colab_type": "text"
      },
      "cell_type": "markdown",
      "source": [
        "We need to split these data into training and testing sets to evaluate the final algorithm. To do so, we consider a ratio of 80 to 20 percent each, so we need to extract a sample of 20% of the customers in each dataset.\n",
        "\n",
        "### We can achieve this by randomly selecting customers ids from a given list of customers "
      ]
    },
    {
      "metadata": {
        "id": "h2vO8yohEYqA",
        "colab_type": "code",
        "colab": {
          "base_uri": "https://localhost:8080/",
          "height": 34
        },
        "outputId": "09a1e5ac-9d26-4770-c1cc-329209f9ecdc"
      },
      "cell_type": "code",
      "source": [
        "wknd_sample_size = int(len(df_customers_wknd.index) * 0.2)\n",
        "reg_sample_size = int(len(df_customers_reg.index) * 0.2)\n",
        "\n",
        "print('The test samples will have {0} customers from regular days and {1} customer from weekends dataset'\\\n",
        "     .format(reg_sample_size, wknd_sample_size))"
      ],
      "execution_count": 37,
      "outputs": [
        {
          "output_type": "stream",
          "text": [
            "The test samples will have 2744 customers from regular days and 482 customer from weekends dataset\n"
          ],
          "name": "stdout"
        }
      ]
    },
    {
      "metadata": {
        "id": "kPGWkr8zEYqD",
        "colab_type": "text"
      },
      "cell_type": "markdown",
      "source": [
        "### Getting the customer indexes to the test samples"
      ]
    },
    {
      "metadata": {
        "id": "r0Du_BpAEYqE",
        "colab_type": "code",
        "colab": {}
      },
      "cell_type": "code",
      "source": [
        "wknd_test_sample = np.random.choice(df_customers_wknd.index, np.round(wknd_sample_size,0), replace=False)\n",
        "reg_test_sample = np.random.choice(df_customers_reg.index, reg_sample_size, replace=False)"
      ],
      "execution_count": 0,
      "outputs": []
    },
    {
      "metadata": {
        "id": "4Wxe0zDnEYqG",
        "colab_type": "text"
      },
      "cell_type": "markdown",
      "source": [
        "### Generating train and test datasets"
      ]
    },
    {
      "metadata": {
        "id": "BGMK54X2EYqH",
        "colab_type": "code",
        "colab": {}
      },
      "cell_type": "code",
      "source": [
        "df_wknd_test = df_customers_wknd.loc[wknd_test_sample]\n",
        "df_reg_test = df_customers_reg.loc[reg_test_sample]"
      ],
      "execution_count": 0,
      "outputs": []
    },
    {
      "metadata": {
        "id": "vLX4iS1fEYqJ",
        "colab_type": "code",
        "colab": {}
      },
      "cell_type": "code",
      "source": [
        "df_wknd_train = df_customers_wknd.reset_index()\n",
        "df_wknd_train = df_wknd_train[~df_wknd_train['id'].isin(wknd_test_sample)]\n",
        "df_wknd_train.set_index('id', inplace=True)\n",
        "\n",
        "df_reg_train = df_customers_reg.reset_index()\n",
        "df_reg_train = df_reg_train[~df_reg_train['id'].isin(reg_test_sample)]\n",
        "df_reg_train.set_index('id', inplace=True)"
      ],
      "execution_count": 0,
      "outputs": []
    },
    {
      "metadata": {
        "id": "opiZoNdDEYqL",
        "colab_type": "text"
      },
      "cell_type": "markdown",
      "source": [
        "### 5.3 - The Recommender - How does it work? "
      ]
    },
    {
      "metadata": {
        "id": "1Hyr0BxOEYqM",
        "colab_type": "text"
      },
      "cell_type": "markdown",
      "source": [
        "In this section, the recommender will be detailed with examples and explanations step by step.\n",
        "\n",
        "The first step is training a clustering algorithm, then use it to predict the cluster of a new customer according to his/her data and then use the defined rules to recommend the hour-range on a specific date."
      ]
    },
    {
      "metadata": {
        "id": "p6pe7ylgEYqN",
        "colab_type": "text"
      },
      "cell_type": "markdown",
      "source": [
        "### Step 01 -  How to choose the right number of clusters (components) to provide to the algorithm?"
      ]
    },
    {
      "metadata": {
        "id": "Psmv7h7sEYqN",
        "colab_type": "text"
      },
      "cell_type": "markdown",
      "source": [
        "There are some techniques to guide the choice of cluster numbers of a given dataset. These techniques measure the algorithm's performance using N different clusters and show which number hit the best performance.\n",
        "\n",
        "The method chosen was <a href='https://scikit-learn.org/stable/modules/generated/sklearn.metrics.silhouette_score.html'>Silhouette Score</a> which is a metric score with values from -1 to 1, being -1 the worse value and 1 the best for a certain number.\n",
        "\n",
        "Let's figure out which one is the best score among a range of numbers like 2 to 12 (as we have an hour range for each two hours of the day and the maximum would be a cluster to each hour-range)"
      ]
    },
    {
      "metadata": {
        "id": "bNER--pkEYqO",
        "colab_type": "code",
        "colab": {}
      },
      "cell_type": "code",
      "source": [
        "#from sklearn.cluster import KMeans\n",
        "from sklearn.mixture import GaussianMixture as gmm\n",
        "from sklearn.metrics.cluster import silhouette_score"
      ],
      "execution_count": 0,
      "outputs": []
    },
    {
      "metadata": {
        "id": "lXNAGdqpEYqR",
        "colab_type": "text"
      },
      "cell_type": "markdown",
      "source": [
        "#### Finding the best number of clusters according to the silhouette score"
      ]
    },
    {
      "metadata": {
        "id": "gP5c0fjnEYqS",
        "colab_type": "code",
        "colab": {}
      },
      "cell_type": "code",
      "source": [
        "#Regular Days\n",
        "scores_model = {}\n",
        "for i in np.arange(2,30):\n",
        "    cluster = gmm(n_components=i, random_state=42, covariance_type='spherical').fit(df_reg_train)\n",
        "    pred = cluster.predict(df_reg_train)\n",
        "    scores_model[i] = silhouette_score(df_reg_train, pred)\n",
        "    "
      ],
      "execution_count": 0,
      "outputs": []
    },
    {
      "metadata": {
        "id": "-Kf_wuW3EYqV",
        "colab_type": "code",
        "colab": {
          "base_uri": "https://localhost:8080/",
          "height": 493
        },
        "outputId": "00a688ad-afc6-460a-b288-f72500711327"
      },
      "cell_type": "code",
      "source": [
        "scores_model"
      ],
      "execution_count": 43,
      "outputs": [
        {
          "output_type": "execute_result",
          "data": {
            "text/plain": [
              "{2: 0.255208831448996,\n",
              " 3: 0.24392492064199034,\n",
              " 4: 0.23941614051747437,\n",
              " 5: 0.27374124064494143,\n",
              " 6: 0.26909375651590683,\n",
              " 7: 0.29513631105298094,\n",
              " 8: 0.28794096047446244,\n",
              " 9: 0.32505081246566986,\n",
              " 10: 0.3019280516657007,\n",
              " 11: 0.3206037971913949,\n",
              " 12: 0.3432416646415239,\n",
              " 13: 0.35160324393716863,\n",
              " 14: 0.3665978591011592,\n",
              " 15: 0.38107918784658973,\n",
              " 16: 0.39450856052179634,\n",
              " 17: 0.39897138259726533,\n",
              " 18: 0.38243384881600057,\n",
              " 19: 0.38824776348259354,\n",
              " 20: 0.39623639457116094,\n",
              " 21: 0.39715513602851704,\n",
              " 22: 0.3892525158240271,\n",
              " 23: 0.3906707638651571,\n",
              " 24: 0.3895556733756678,\n",
              " 25: 0.3834619844729687,\n",
              " 26: 0.37890532945743977,\n",
              " 27: 0.37702279642602915,\n",
              " 28: 0.3971237909521599,\n",
              " 29: 0.39792555938064583}"
            ]
          },
          "metadata": {
            "tags": []
          },
          "execution_count": 43
        }
      ]
    },
    {
      "metadata": {
        "id": "HOCu0yHcEYqX",
        "colab_type": "text"
      },
      "cell_type": "markdown",
      "source": [
        "For **regular days** we can see the recommended cluster number according to Silhouette score.\n",
        "\n",
        "Let's plot this and check how the score changed as the number of components increased"
      ]
    },
    {
      "metadata": {
        "id": "GUQLMqyDEYqY",
        "colab_type": "code",
        "colab": {
          "base_uri": "https://localhost:8080/",
          "height": 365
        },
        "outputId": "60047c65-d8b5-4b29-f750-6d65fe15ea72"
      },
      "cell_type": "code",
      "source": [
        "plt.figure(figsize=(12,5))\n",
        "plt.title('Silhouette Score over component numbers\\nREGULAR DAYS')\n",
        "plt.ylabel('Silhouette Score')\n",
        "plt.xlabel('Number of Components')\n",
        "plt.plot(scores_model.values())\n",
        "plt.show()"
      ],
      "execution_count": 44,
      "outputs": [
        {
          "output_type": "display_data",
          "data": {
            "image/png": "[encoded data removed]",
            "text/plain": [
              "<Figure size 864x360 with 1 Axes>"
            ]
          },
          "metadata": {
            "tags": []
          }
        }
      ]
    },
    {
      "metadata": {
        "id": "a-58s_ceEYqa",
        "colab_type": "text"
      },
      "cell_type": "markdown",
      "source": [
        "### Now let's perform the same analysis for weekends data"
      ]
    },
    {
      "metadata": {
        "id": "ophiLG2IEYqb",
        "colab_type": "code",
        "colab": {}
      },
      "cell_type": "code",
      "source": [
        "#Weekends\n",
        "scores_model_wknd = {}\n",
        "for i in np.arange(2,24):\n",
        "    cluster_wknd = gmm(n_components=i, random_state=42, covariance_type='spherical').fit(df_wknd_train)\n",
        "    pred_wknd = cluster_wknd.predict(df_wknd_train)\n",
        "    scores_model_wknd[i] = silhouette_score(df_wknd_train, pred_wknd)"
      ],
      "execution_count": 0,
      "outputs": []
    },
    {
      "metadata": {
        "id": "OHG4xlM6EYqd",
        "colab_type": "code",
        "colab": {
          "base_uri": "https://localhost:8080/",
          "height": 391
        },
        "outputId": "a0a3c1a8-6c4c-485f-d518-f55a2c0e1361"
      },
      "cell_type": "code",
      "source": [
        "\n",
        "scores_model_wknd"
      ],
      "execution_count": 46,
      "outputs": [
        {
          "output_type": "execute_result",
          "data": {
            "text/plain": [
              "{2: 0.192394564501698,\n",
              " 3: 0.24596580290976583,\n",
              " 4: 0.3247469385533447,\n",
              " 5: 0.3904403911720325,\n",
              " 6: 0.4310596306584932,\n",
              " 7: 0.4843950351392938,\n",
              " 8: 0.5102153764553586,\n",
              " 9: 0.557642287572183,\n",
              " 10: 0.5999545617372125,\n",
              " 11: 0.6483257881665052,\n",
              " 12: 0.6603320821496687,\n",
              " 13: 0.6727383816132505,\n",
              " 14: 0.6758960515821104,\n",
              " 15: 0.6855090995578593,\n",
              " 16: 0.6985126627417702,\n",
              " 17: 0.7107881869841106,\n",
              " 18: 0.7198932136130529,\n",
              " 19: 0.723761558583514,\n",
              " 20: 0.7316155016815572,\n",
              " 21: 0.7378499224919375,\n",
              " 22: 0.7417543607208241,\n",
              " 23: 0.7468177638999451}"
            ]
          },
          "metadata": {
            "tags": []
          },
          "execution_count": 46
        }
      ]
    },
    {
      "metadata": {
        "id": "le486bfcEYqf",
        "colab_type": "code",
        "colab": {
          "base_uri": "https://localhost:8080/",
          "height": 365
        },
        "outputId": "d1c8f960-6be5-492f-9532-1e3da541814a"
      },
      "cell_type": "code",
      "source": [
        "plt.figure(figsize=(12,5))\n",
        "plt.title('Silhouette Score over component numbers\\nWEEKENDS')\n",
        "plt.ylabel('Silhouette Score')\n",
        "plt.xlabel('Number of Components')\n",
        "plt.plot(scores_model_wknd.values())\n",
        "plt.show()"
      ],
      "execution_count": 47,
      "outputs": [
        {
          "output_type": "display_data",
          "data": {
            "image/png": "[encoded data removed]",
            "text/plain": [
              "<Figure size 864x360 with 1 Axes>"
            ]
          },
          "metadata": {
            "tags": []
          }
        }
      ]
    },
    {
      "metadata": {
        "id": "KUWJqiyNEYqi",
        "colab_type": "text"
      },
      "cell_type": "markdown",
      "source": [
        "### Step 02 - Clustering Data"
      ]
    },
    {
      "metadata": {
        "id": "tJuGHBGgEYqj",
        "colab_type": "code",
        "colab": {}
      },
      "cell_type": "code",
      "source": [
        "#Creating the classifiers (One for each type of day)\n",
        "cluster_reg = gmm(n_components=15).fit(df_reg_train)\n",
        "cluster_wknd = gmm(n_components=12).fit(df_wknd_train)\n",
        "\n",
        "\n",
        "#Assigning cluster number to the customers of the training set\n",
        "regularday_groups = cluster_reg.predict(df_reg_train)\n",
        "weekend_groups = cluster_wknd.predict(df_wknd_train)"
      ],
      "execution_count": 0,
      "outputs": []
    },
    {
      "metadata": {
        "id": "pvQAbAR9EYqn",
        "colab_type": "code",
        "colab": {}
      },
      "cell_type": "code",
      "source": [
        "#Including cluster informatin within the datasets\n",
        "df_reg_train['cluster'] = regularday_groups\n",
        "df_wknd_train['cluster'] = weekend_groups"
      ],
      "execution_count": 0,
      "outputs": []
    },
    {
      "metadata": {
        "id": "aFin-gJoEYqp",
        "colab_type": "code",
        "colab": {
          "base_uri": "https://localhost:8080/",
          "height": 272
        },
        "outputId": "de45c8e2-4def-4da6-8334-70fef780d113"
      },
      "cell_type": "code",
      "source": [
        "df_reg_train.head()"
      ],
      "execution_count": 50,
      "outputs": [
        {
          "output_type": "execute_result",
          "data": {
            "text/html": [
              "<div>\n",
              "<style scoped>\n",
              "    .dataframe tbody tr th:only-of-type {\n",
              "        vertical-align: middle;\n",
              "    }\n",
              "\n",
              "    .dataframe tbody tr th {\n",
              "        vertical-align: top;\n",
              "    }\n",
              "\n",
              "    .dataframe thead th {\n",
              "        text-align: right;\n",
              "    }\n",
              "</style>\n",
              "<table border=\"1\" class=\"dataframe\">\n",
              "  <thead>\n",
              "    <tr style=\"text-align: right;\">\n",
              "      <th>hour_range</th>\n",
              "      <th>00-01</th>\n",
              "      <th>02-03</th>\n",
              "      <th>04-05</th>\n",
              "      <th>06-07</th>\n",
              "      <th>08-09</th>\n",
              "      <th>10-11</th>\n",
              "      <th>12-13</th>\n",
              "      <th>14-15</th>\n",
              "      <th>16-17</th>\n",
              "      <th>18-19</th>\n",
              "      <th>20-21</th>\n",
              "      <th>22-23</th>\n",
              "      <th>cluster</th>\n",
              "    </tr>\n",
              "    <tr>\n",
              "      <th>id</th>\n",
              "      <th></th>\n",
              "      <th></th>\n",
              "      <th></th>\n",
              "      <th></th>\n",
              "      <th></th>\n",
              "      <th></th>\n",
              "      <th></th>\n",
              "      <th></th>\n",
              "      <th></th>\n",
              "      <th></th>\n",
              "      <th></th>\n",
              "      <th></th>\n",
              "      <th></th>\n",
              "    </tr>\n",
              "  </thead>\n",
              "  <tbody>\n",
              "    <tr>\n",
              "      <th>00074efe132b0b36c90ef600386ca2f863bc5e49</th>\n",
              "      <td>0.00</td>\n",
              "      <td>0.00</td>\n",
              "      <td>0.00</td>\n",
              "      <td>0.00</td>\n",
              "      <td>0.00</td>\n",
              "      <td>0.00</td>\n",
              "      <td>0.00</td>\n",
              "      <td>1.00</td>\n",
              "      <td>0.00</td>\n",
              "      <td>0.00</td>\n",
              "      <td>0.00</td>\n",
              "      <td>0.00</td>\n",
              "      <td>8</td>\n",
              "    </tr>\n",
              "    <tr>\n",
              "      <th>0009b0b413429e75bf81c8989d7c6201f2d86180</th>\n",
              "      <td>0.00</td>\n",
              "      <td>0.00</td>\n",
              "      <td>0.00</td>\n",
              "      <td>0.00</td>\n",
              "      <td>0.00</td>\n",
              "      <td>0.17</td>\n",
              "      <td>0.33</td>\n",
              "      <td>0.00</td>\n",
              "      <td>0.00</td>\n",
              "      <td>0.50</td>\n",
              "      <td>0.00</td>\n",
              "      <td>0.00</td>\n",
              "      <td>10</td>\n",
              "    </tr>\n",
              "    <tr>\n",
              "      <th>000e522c0071795551e9ebc958ea80be87d64ec3</th>\n",
              "      <td>0.00</td>\n",
              "      <td>0.00</td>\n",
              "      <td>0.00</td>\n",
              "      <td>0.00</td>\n",
              "      <td>0.00</td>\n",
              "      <td>0.00</td>\n",
              "      <td>0.00</td>\n",
              "      <td>0.33</td>\n",
              "      <td>0.33</td>\n",
              "      <td>0.33</td>\n",
              "      <td>0.00</td>\n",
              "      <td>0.00</td>\n",
              "      <td>3</td>\n",
              "    </tr>\n",
              "    <tr>\n",
              "      <th>001a8819c8fc79e60c8a580f78a6502b45d9206c</th>\n",
              "      <td>0.00</td>\n",
              "      <td>0.00</td>\n",
              "      <td>0.00</td>\n",
              "      <td>0.00</td>\n",
              "      <td>0.00</td>\n",
              "      <td>0.00</td>\n",
              "      <td>0.00</td>\n",
              "      <td>0.00</td>\n",
              "      <td>1.00</td>\n",
              "      <td>0.00</td>\n",
              "      <td>0.00</td>\n",
              "      <td>0.00</td>\n",
              "      <td>9</td>\n",
              "    </tr>\n",
              "    <tr>\n",
              "      <th>0022c01e5b0850b7230f43ec05ab9b44131e5456</th>\n",
              "      <td>0.00</td>\n",
              "      <td>0.00</td>\n",
              "      <td>0.00</td>\n",
              "      <td>0.00</td>\n",
              "      <td>0.00</td>\n",
              "      <td>0.15</td>\n",
              "      <td>0.62</td>\n",
              "      <td>0.12</td>\n",
              "      <td>0.04</td>\n",
              "      <td>0.04</td>\n",
              "      <td>0.04</td>\n",
              "      <td>0.00</td>\n",
              "      <td>3</td>\n",
              "    </tr>\n",
              "  </tbody>\n",
              "</table>\n",
              "</div>"
            ],
            "text/plain": [
              "hour_range                                00-01  02-03  04-05  06-07  08-09  \\\n",
              "id                                                                            \n",
              "00074efe132b0b36c90ef600386ca2f863bc5e49   0.00   0.00   0.00   0.00   0.00   \n",
              "0009b0b413429e75bf81c8989d7c6201f2d86180   0.00   0.00   0.00   0.00   0.00   \n",
              "000e522c0071795551e9ebc958ea80be87d64ec3   0.00   0.00   0.00   0.00   0.00   \n",
              "001a8819c8fc79e60c8a580f78a6502b45d9206c   0.00   0.00   0.00   0.00   0.00   \n",
              "0022c01e5b0850b7230f43ec05ab9b44131e5456   0.00   0.00   0.00   0.00   0.00   \n",
              "\n",
              "hour_range                                10-11  12-13  14-15  16-17  18-19  \\\n",
              "id                                                                            \n",
              "00074efe132b0b36c90ef600386ca2f863bc5e49   0.00   0.00   1.00   0.00   0.00   \n",
              "0009b0b413429e75bf81c8989d7c6201f2d86180   0.17   0.33   0.00   0.00   0.50   \n",
              "000e522c0071795551e9ebc958ea80be87d64ec3   0.00   0.00   0.33   0.33   0.33   \n",
              "001a8819c8fc79e60c8a580f78a6502b45d9206c   0.00   0.00   0.00   1.00   0.00   \n",
              "0022c01e5b0850b7230f43ec05ab9b44131e5456   0.15   0.62   0.12   0.04   0.04   \n",
              "\n",
              "hour_range                                20-21  22-23  cluster  \n",
              "id                                                               \n",
              "00074efe132b0b36c90ef600386ca2f863bc5e49   0.00   0.00        8  \n",
              "0009b0b413429e75bf81c8989d7c6201f2d86180   0.00   0.00       10  \n",
              "000e522c0071795551e9ebc958ea80be87d64ec3   0.00   0.00        3  \n",
              "001a8819c8fc79e60c8a580f78a6502b45d9206c   0.00   0.00        9  \n",
              "0022c01e5b0850b7230f43ec05ab9b44131e5456   0.04   0.00        3  "
            ]
          },
          "metadata": {
            "tags": []
          },
          "execution_count": 50
        }
      ]
    },
    {
      "metadata": {
        "id": "AnHofNIEEYqr",
        "colab_type": "text"
      },
      "cell_type": "markdown",
      "source": [
        "Let's check the outcomes with 3 examples of customers and their similarities"
      ]
    },
    {
      "metadata": {
        "id": "6rjyGXCsEYqr",
        "colab_type": "text"
      },
      "cell_type": "markdown",
      "source": [
        "### Sample of customers from Cluster 0"
      ]
    },
    {
      "metadata": {
        "id": "6b_Ilwm-EYqr",
        "colab_type": "code",
        "colab": {
          "base_uri": "https://localhost:8080/",
          "height": 179
        },
        "outputId": "9b238d19-3e86-4764-91cc-841ef3b8467d"
      },
      "cell_type": "code",
      "source": [
        "df_reg_train[df_reg_train['cluster'] == 0][0:2]"
      ],
      "execution_count": 51,
      "outputs": [
        {
          "output_type": "execute_result",
          "data": {
            "text/html": [
              "<div>\n",
              "<style scoped>\n",
              "    .dataframe tbody tr th:only-of-type {\n",
              "        vertical-align: middle;\n",
              "    }\n",
              "\n",
              "    .dataframe tbody tr th {\n",
              "        vertical-align: top;\n",
              "    }\n",
              "\n",
              "    .dataframe thead th {\n",
              "        text-align: right;\n",
              "    }\n",
              "</style>\n",
              "<table border=\"1\" class=\"dataframe\">\n",
              "  <thead>\n",
              "    <tr style=\"text-align: right;\">\n",
              "      <th>hour_range</th>\n",
              "      <th>00-01</th>\n",
              "      <th>02-03</th>\n",
              "      <th>04-05</th>\n",
              "      <th>06-07</th>\n",
              "      <th>08-09</th>\n",
              "      <th>10-11</th>\n",
              "      <th>12-13</th>\n",
              "      <th>14-15</th>\n",
              "      <th>16-17</th>\n",
              "      <th>18-19</th>\n",
              "      <th>20-21</th>\n",
              "      <th>22-23</th>\n",
              "      <th>cluster</th>\n",
              "    </tr>\n",
              "    <tr>\n",
              "      <th>id</th>\n",
              "      <th></th>\n",
              "      <th></th>\n",
              "      <th></th>\n",
              "      <th></th>\n",
              "      <th></th>\n",
              "      <th></th>\n",
              "      <th></th>\n",
              "      <th></th>\n",
              "      <th></th>\n",
              "      <th></th>\n",
              "      <th></th>\n",
              "      <th></th>\n",
              "      <th></th>\n",
              "    </tr>\n",
              "  </thead>\n",
              "  <tbody>\n",
              "    <tr>\n",
              "      <th>002537444b11fc9d108662d182d482716d2a224b</th>\n",
              "      <td>0.00</td>\n",
              "      <td>0.00</td>\n",
              "      <td>0.00</td>\n",
              "      <td>0.00</td>\n",
              "      <td>0.07</td>\n",
              "      <td>0.14</td>\n",
              "      <td>0.07</td>\n",
              "      <td>0.21</td>\n",
              "      <td>0.07</td>\n",
              "      <td>0.07</td>\n",
              "      <td>0.21</td>\n",
              "      <td>0.14</td>\n",
              "      <td>0</td>\n",
              "    </tr>\n",
              "    <tr>\n",
              "      <th>003fdab6225466905f00dba748cff01a3b4fb90a</th>\n",
              "      <td>0.00</td>\n",
              "      <td>0.00</td>\n",
              "      <td>0.00</td>\n",
              "      <td>0.00</td>\n",
              "      <td>0.50</td>\n",
              "      <td>0.00</td>\n",
              "      <td>0.50</td>\n",
              "      <td>0.00</td>\n",
              "      <td>0.00</td>\n",
              "      <td>0.00</td>\n",
              "      <td>0.00</td>\n",
              "      <td>0.00</td>\n",
              "      <td>0</td>\n",
              "    </tr>\n",
              "  </tbody>\n",
              "</table>\n",
              "</div>"
            ],
            "text/plain": [
              "hour_range                                00-01  02-03  04-05  06-07  08-09  \\\n",
              "id                                                                            \n",
              "002537444b11fc9d108662d182d482716d2a224b   0.00   0.00   0.00   0.00   0.07   \n",
              "003fdab6225466905f00dba748cff01a3b4fb90a   0.00   0.00   0.00   0.00   0.50   \n",
              "\n",
              "hour_range                                10-11  12-13  14-15  16-17  18-19  \\\n",
              "id                                                                            \n",
              "002537444b11fc9d108662d182d482716d2a224b   0.14   0.07   0.21   0.07   0.07   \n",
              "003fdab6225466905f00dba748cff01a3b4fb90a   0.00   0.50   0.00   0.00   0.00   \n",
              "\n",
              "hour_range                                20-21  22-23  cluster  \n",
              "id                                                               \n",
              "002537444b11fc9d108662d182d482716d2a224b   0.21   0.14        0  \n",
              "003fdab6225466905f00dba748cff01a3b4fb90a   0.00   0.00        0  "
            ]
          },
          "metadata": {
            "tags": []
          },
          "execution_count": 51
        }
      ]
    },
    {
      "metadata": {
        "id": "a7JNHaX7EYqv",
        "colab_type": "text"
      },
      "cell_type": "markdown",
      "source": [
        "### Sample of customers from Cluster 1"
      ]
    },
    {
      "metadata": {
        "id": "VtKwsadUEYqw",
        "colab_type": "code",
        "colab": {
          "base_uri": "https://localhost:8080/",
          "height": 128
        },
        "outputId": "809a5c38-d0b9-4db5-a0cb-34ef24aee7e5"
      },
      "cell_type": "code",
      "source": [
        "df_reg_train[df_reg_train['cluster'] == 1][0:1]"
      ],
      "execution_count": 52,
      "outputs": [
        {
          "output_type": "execute_result",
          "data": {
            "text/html": [
              "<div>\n",
              "<style scoped>\n",
              "    .dataframe tbody tr th:only-of-type {\n",
              "        vertical-align: middle;\n",
              "    }\n",
              "\n",
              "    .dataframe tbody tr th {\n",
              "        vertical-align: top;\n",
              "    }\n",
              "\n",
              "    .dataframe thead th {\n",
              "        text-align: right;\n",
              "    }\n",
              "</style>\n",
              "<table border=\"1\" class=\"dataframe\">\n",
              "  <thead>\n",
              "    <tr style=\"text-align: right;\">\n",
              "      <th>hour_range</th>\n",
              "      <th>00-01</th>\n",
              "      <th>02-03</th>\n",
              "      <th>04-05</th>\n",
              "      <th>06-07</th>\n",
              "      <th>08-09</th>\n",
              "      <th>10-11</th>\n",
              "      <th>12-13</th>\n",
              "      <th>14-15</th>\n",
              "      <th>16-17</th>\n",
              "      <th>18-19</th>\n",
              "      <th>20-21</th>\n",
              "      <th>22-23</th>\n",
              "      <th>cluster</th>\n",
              "    </tr>\n",
              "    <tr>\n",
              "      <th>id</th>\n",
              "      <th></th>\n",
              "      <th></th>\n",
              "      <th></th>\n",
              "      <th></th>\n",
              "      <th></th>\n",
              "      <th></th>\n",
              "      <th></th>\n",
              "      <th></th>\n",
              "      <th></th>\n",
              "      <th></th>\n",
              "      <th></th>\n",
              "      <th></th>\n",
              "      <th></th>\n",
              "    </tr>\n",
              "  </thead>\n",
              "  <tbody>\n",
              "    <tr>\n",
              "      <th>00439537448542c89f31ed747742ea8ca9d36c11</th>\n",
              "      <td>0.00</td>\n",
              "      <td>0.00</td>\n",
              "      <td>0.00</td>\n",
              "      <td>0.00</td>\n",
              "      <td>0.00</td>\n",
              "      <td>0.00</td>\n",
              "      <td>0.29</td>\n",
              "      <td>0.00</td>\n",
              "      <td>0.00</td>\n",
              "      <td>0.71</td>\n",
              "      <td>0.00</td>\n",
              "      <td>0.00</td>\n",
              "      <td>1</td>\n",
              "    </tr>\n",
              "  </tbody>\n",
              "</table>\n",
              "</div>"
            ],
            "text/plain": [
              "hour_range                                00-01  02-03  04-05  06-07  08-09  \\\n",
              "id                                                                            \n",
              "00439537448542c89f31ed747742ea8ca9d36c11   0.00   0.00   0.00   0.00   0.00   \n",
              "\n",
              "hour_range                                10-11  12-13  14-15  16-17  18-19  \\\n",
              "id                                                                            \n",
              "00439537448542c89f31ed747742ea8ca9d36c11   0.00   0.29   0.00   0.00   0.71   \n",
              "\n",
              "hour_range                                20-21  22-23  cluster  \n",
              "id                                                               \n",
              "00439537448542c89f31ed747742ea8ca9d36c11   0.00   0.00        1  "
            ]
          },
          "metadata": {
            "tags": []
          },
          "execution_count": 52
        }
      ]
    },
    {
      "metadata": {
        "id": "PI_E5bG_EYq4",
        "colab_type": "text"
      },
      "cell_type": "markdown",
      "source": [
        "We can notice how much they differ from each other with concentrations of open rate in different hour ranges\n",
        "\n",
        "Another efficient way to visualize the clusters behaviors is by the matrix below that shows the average proportion of each cluster over the hour ranges so we can check which are the main hour range(s) for each cluster, so the highlighted proportions with darker colors (columns) represent the best hour-range for the cluster in the row."
      ]
    },
    {
      "metadata": {
        "id": "b88-y3ouEYq5",
        "colab_type": "code",
        "colab": {
          "base_uri": "https://localhost:8080/",
          "height": 485
        },
        "outputId": "bebe9c04-8532-413d-8a6d-405ec0c8ae9f"
      },
      "cell_type": "code",
      "source": [
        "fig, ax = plt.subplots(figsize=(17,7))\n",
        "cluster_table = df_reg_train.pivot_table(index='cluster')\n",
        "sns.heatmap(cluster_table, ax=ax, annot=True, cmap='BuPu')\n",
        "plt.title('Matrix of Average Opening Proportion for Hour Range\\n')\n",
        "plt.ylabel('Cluster Number')\n",
        "plt.xlabel('\\nTwo Hour Range')\n",
        "plt.show()"
      ],
      "execution_count": 53,
      "outputs": [
        {
          "output_type": "display_data",
          "data": {
            "image/png": "[encoded data removed]",
            "text/plain": [
              "<Figure size 1224x504 with 2 Axes>"
            ]
          },
          "metadata": {
            "tags": []
          }
        }
      ]
    },
    {
      "metadata": {
        "id": "763WaPinEYq8",
        "colab_type": "text"
      },
      "cell_type": "markdown",
      "source": [
        "### Step 03 - Send Time Recommendation\n",
        "\n",
        "Simulating a real world application of this model, we have customer historical data and need to recommend an hour range to send an email in a specific date. So let's get a random customer from test data"
      ]
    },
    {
      "metadata": {
        "id": "22yguFLhEYq8",
        "colab_type": "code",
        "colab": {}
      },
      "cell_type": "code",
      "source": [
        "random_customer_index = np.random.choice(len(df_reg_test)-1)\n",
        "example_customer_data = df_reg_test.iloc[random_customer_index]"
      ],
      "execution_count": 0,
      "outputs": []
    },
    {
      "metadata": {
        "id": "qMfI9M5pEYq-",
        "colab_type": "code",
        "colab": {
          "base_uri": "https://localhost:8080/",
          "height": 452
        },
        "outputId": "4d4d0ad0-3e99-414e-d29e-d018eafaf0c2"
      },
      "cell_type": "code",
      "source": [
        "example_customer_data.to_frame()"
      ],
      "execution_count": 55,
      "outputs": [
        {
          "output_type": "execute_result",
          "data": {
            "text/html": [
              "<div>\n",
              "<style scoped>\n",
              "    .dataframe tbody tr th:only-of-type {\n",
              "        vertical-align: middle;\n",
              "    }\n",
              "\n",
              "    .dataframe tbody tr th {\n",
              "        vertical-align: top;\n",
              "    }\n",
              "\n",
              "    .dataframe thead th {\n",
              "        text-align: right;\n",
              "    }\n",
              "</style>\n",
              "<table border=\"1\" class=\"dataframe\">\n",
              "  <thead>\n",
              "    <tr style=\"text-align: right;\">\n",
              "      <th></th>\n",
              "      <th>e163ad42079a0e47c2a031886f83c89eb45bb12f</th>\n",
              "    </tr>\n",
              "    <tr>\n",
              "      <th>hour_range</th>\n",
              "      <th></th>\n",
              "    </tr>\n",
              "  </thead>\n",
              "  <tbody>\n",
              "    <tr>\n",
              "      <th>00-01</th>\n",
              "      <td>0.00</td>\n",
              "    </tr>\n",
              "    <tr>\n",
              "      <th>02-03</th>\n",
              "      <td>0.00</td>\n",
              "    </tr>\n",
              "    <tr>\n",
              "      <th>04-05</th>\n",
              "      <td>0.00</td>\n",
              "    </tr>\n",
              "    <tr>\n",
              "      <th>06-07</th>\n",
              "      <td>0.00</td>\n",
              "    </tr>\n",
              "    <tr>\n",
              "      <th>08-09</th>\n",
              "      <td>0.00</td>\n",
              "    </tr>\n",
              "    <tr>\n",
              "      <th>10-11</th>\n",
              "      <td>0.00</td>\n",
              "    </tr>\n",
              "    <tr>\n",
              "      <th>12-13</th>\n",
              "      <td>0.00</td>\n",
              "    </tr>\n",
              "    <tr>\n",
              "      <th>14-15</th>\n",
              "      <td>0.00</td>\n",
              "    </tr>\n",
              "    <tr>\n",
              "      <th>16-17</th>\n",
              "      <td>0.00</td>\n",
              "    </tr>\n",
              "    <tr>\n",
              "      <th>18-19</th>\n",
              "      <td>0.00</td>\n",
              "    </tr>\n",
              "    <tr>\n",
              "      <th>20-21</th>\n",
              "      <td>1.00</td>\n",
              "    </tr>\n",
              "    <tr>\n",
              "      <th>22-23</th>\n",
              "      <td>0.00</td>\n",
              "    </tr>\n",
              "  </tbody>\n",
              "</table>\n",
              "</div>"
            ],
            "text/plain": [
              "            e163ad42079a0e47c2a031886f83c89eb45bb12f\n",
              "hour_range                                          \n",
              "00-01                                           0.00\n",
              "02-03                                           0.00\n",
              "04-05                                           0.00\n",
              "06-07                                           0.00\n",
              "08-09                                           0.00\n",
              "10-11                                           0.00\n",
              "12-13                                           0.00\n",
              "14-15                                           0.00\n",
              "16-17                                           0.00\n",
              "18-19                                           0.00\n",
              "20-21                                           1.00\n",
              "22-23                                           0.00"
            ]
          },
          "metadata": {
            "tags": []
          },
          "execution_count": 55
        }
      ]
    },
    {
      "metadata": {
        "id": "z7BvctZjEYrA",
        "colab_type": "text"
      },
      "cell_type": "markdown",
      "source": [
        "Checking which cluster the model would assign to this customer using `predict_proba` method. It will show how this customer fits into the general model of regular day\n",
        "\n",
        "> For example purposes we using only the regular day cluster. The recommender should evaluate which model to use by the target date"
      ]
    },
    {
      "metadata": {
        "id": "ZCc1TuLbEYrA",
        "colab_type": "code",
        "colab": {}
      },
      "cell_type": "code",
      "source": [
        "example_probs = cluster_reg.predict_proba(example_customer_data.values.reshape(1,-1))"
      ],
      "execution_count": 0,
      "outputs": []
    },
    {
      "metadata": {
        "id": "Z6xBX8UBEYrC",
        "colab_type": "code",
        "colab": {
          "base_uri": "https://localhost:8080/",
          "height": 272
        },
        "outputId": "73ca6237-0e7d-4534-eec0-02c7f10860fd"
      },
      "cell_type": "code",
      "source": [
        "np.set_printoptions(precision=10, suppress=True)\n",
        "data_aux = []\n",
        "for i in zip(range(15),example_probs[0]):\n",
        "    data_aux.append(i)\n",
        "data_aux  "
      ],
      "execution_count": 57,
      "outputs": [
        {
          "output_type": "execute_result",
          "data": {
            "text/plain": [
              "[(0, 1.902083893764943e-18),\n",
              " (1, 0.9999980231961628),\n",
              " (2, 0.0),\n",
              " (3, 1.7357398461378067e-14),\n",
              " (4, 8.316564972578967e-31),\n",
              " (5, 0.0),\n",
              " (6, 0.0),\n",
              " (7, 9.233798305561727e-26),\n",
              " (8, 0.0),\n",
              " (9, 1.9767486522345688e-06),\n",
              " (10, 1.6718906752753602e-23),\n",
              " (11, 0.0),\n",
              " (12, 5.5167524600080645e-11),\n",
              " (13, 4.662447665582307e-17),\n",
              " (14, 1.4236958338325564e-28)]"
            ]
          },
          "metadata": {
            "tags": []
          },
          "execution_count": 57
        }
      ]
    },
    {
      "metadata": {
        "id": "1A-3bFcOEYrF",
        "colab_type": "code",
        "colab": {
          "base_uri": "https://localhost:8080/",
          "height": 34
        },
        "outputId": "9d21a524-6f84-445d-e201-f0bf9ca75add"
      },
      "cell_type": "code",
      "source": [
        "prob_cluster = np.argsort(-example_probs)[0][0]\n",
        "next_cluster = np.argsort(-example_probs)[0][1]\n",
        "print('The most probable cluster for this customer is {0} and next most probable is {1}' \\\n",
        "      .format(prob_cluster, next_cluster))\n"
      ],
      "execution_count": 58,
      "outputs": [
        {
          "output_type": "stream",
          "text": [
            "The most probable cluster for this customer is 1 and next most probable is 9\n"
          ],
          "name": "stdout"
        }
      ]
    },
    {
      "metadata": {
        "id": "LoD9lDSREYrH",
        "colab_type": "text"
      },
      "cell_type": "markdown",
      "source": [
        "Now we need to extract the next most probable cluster from similar users to this example customer.\n",
        "\n",
        "Let's first get people from the same cluster (similar users) and use `predict_proba` method again to get all the probabilities for each customer."
      ]
    },
    {
      "metadata": {
        "id": "sTgaDEkjEYrH",
        "colab_type": "code",
        "colab": {
          "base_uri": "https://localhost:8080/",
          "height": 289
        },
        "outputId": "be620eb7-b501-4025-b644-c30c84b9e39a"
      },
      "cell_type": "code",
      "source": [
        "print('People similar to the example customer')\n",
        "df_reg_train[df_reg_train['cluster']== prob_cluster].head()"
      ],
      "execution_count": 59,
      "outputs": [
        {
          "output_type": "stream",
          "text": [
            "People similar to the example customer\n"
          ],
          "name": "stdout"
        },
        {
          "output_type": "execute_result",
          "data": {
            "text/html": [
              "<div>\n",
              "<style scoped>\n",
              "    .dataframe tbody tr th:only-of-type {\n",
              "        vertical-align: middle;\n",
              "    }\n",
              "\n",
              "    .dataframe tbody tr th {\n",
              "        vertical-align: top;\n",
              "    }\n",
              "\n",
              "    .dataframe thead th {\n",
              "        text-align: right;\n",
              "    }\n",
              "</style>\n",
              "<table border=\"1\" class=\"dataframe\">\n",
              "  <thead>\n",
              "    <tr style=\"text-align: right;\">\n",
              "      <th>hour_range</th>\n",
              "      <th>00-01</th>\n",
              "      <th>02-03</th>\n",
              "      <th>04-05</th>\n",
              "      <th>06-07</th>\n",
              "      <th>08-09</th>\n",
              "      <th>10-11</th>\n",
              "      <th>12-13</th>\n",
              "      <th>14-15</th>\n",
              "      <th>16-17</th>\n",
              "      <th>18-19</th>\n",
              "      <th>20-21</th>\n",
              "      <th>22-23</th>\n",
              "      <th>cluster</th>\n",
              "    </tr>\n",
              "    <tr>\n",
              "      <th>id</th>\n",
              "      <th></th>\n",
              "      <th></th>\n",
              "      <th></th>\n",
              "      <th></th>\n",
              "      <th></th>\n",
              "      <th></th>\n",
              "      <th></th>\n",
              "      <th></th>\n",
              "      <th></th>\n",
              "      <th></th>\n",
              "      <th></th>\n",
              "      <th></th>\n",
              "      <th></th>\n",
              "    </tr>\n",
              "  </thead>\n",
              "  <tbody>\n",
              "    <tr>\n",
              "      <th>00439537448542c89f31ed747742ea8ca9d36c11</th>\n",
              "      <td>0.00</td>\n",
              "      <td>0.00</td>\n",
              "      <td>0.00</td>\n",
              "      <td>0.00</td>\n",
              "      <td>0.00</td>\n",
              "      <td>0.00</td>\n",
              "      <td>0.29</td>\n",
              "      <td>0.00</td>\n",
              "      <td>0.00</td>\n",
              "      <td>0.71</td>\n",
              "      <td>0.00</td>\n",
              "      <td>0.00</td>\n",
              "      <td>1</td>\n",
              "    </tr>\n",
              "    <tr>\n",
              "      <th>00514084cf11175e49589c542b6f358eb3895041</th>\n",
              "      <td>0.00</td>\n",
              "      <td>0.00</td>\n",
              "      <td>0.00</td>\n",
              "      <td>0.00</td>\n",
              "      <td>0.00</td>\n",
              "      <td>0.00</td>\n",
              "      <td>0.50</td>\n",
              "      <td>0.50</td>\n",
              "      <td>0.00</td>\n",
              "      <td>0.00</td>\n",
              "      <td>0.00</td>\n",
              "      <td>0.00</td>\n",
              "      <td>1</td>\n",
              "    </tr>\n",
              "    <tr>\n",
              "      <th>005c56a6afec10a516262dd0c699d224579c377c</th>\n",
              "      <td>0.00</td>\n",
              "      <td>0.00</td>\n",
              "      <td>0.00</td>\n",
              "      <td>0.00</td>\n",
              "      <td>0.00</td>\n",
              "      <td>0.00</td>\n",
              "      <td>0.40</td>\n",
              "      <td>0.60</td>\n",
              "      <td>0.00</td>\n",
              "      <td>0.00</td>\n",
              "      <td>0.00</td>\n",
              "      <td>0.00</td>\n",
              "      <td>1</td>\n",
              "    </tr>\n",
              "    <tr>\n",
              "      <th>0076342d948f61dab2016514809e322a7d4cbb3e</th>\n",
              "      <td>0.00</td>\n",
              "      <td>0.00</td>\n",
              "      <td>0.00</td>\n",
              "      <td>0.00</td>\n",
              "      <td>0.00</td>\n",
              "      <td>0.00</td>\n",
              "      <td>0.50</td>\n",
              "      <td>0.50</td>\n",
              "      <td>0.00</td>\n",
              "      <td>0.00</td>\n",
              "      <td>0.00</td>\n",
              "      <td>0.00</td>\n",
              "      <td>1</td>\n",
              "    </tr>\n",
              "    <tr>\n",
              "      <th>00c47a9d70ef6f57f1bce784b7a5471b868be6d7</th>\n",
              "      <td>0.00</td>\n",
              "      <td>0.00</td>\n",
              "      <td>0.00</td>\n",
              "      <td>0.00</td>\n",
              "      <td>0.00</td>\n",
              "      <td>0.00</td>\n",
              "      <td>0.25</td>\n",
              "      <td>0.00</td>\n",
              "      <td>0.00</td>\n",
              "      <td>0.00</td>\n",
              "      <td>0.25</td>\n",
              "      <td>0.50</td>\n",
              "      <td>1</td>\n",
              "    </tr>\n",
              "  </tbody>\n",
              "</table>\n",
              "</div>"
            ],
            "text/plain": [
              "hour_range                                00-01  02-03  04-05  06-07  08-09  \\\n",
              "id                                                                            \n",
              "00439537448542c89f31ed747742ea8ca9d36c11   0.00   0.00   0.00   0.00   0.00   \n",
              "00514084cf11175e49589c542b6f358eb3895041   0.00   0.00   0.00   0.00   0.00   \n",
              "005c56a6afec10a516262dd0c699d224579c377c   0.00   0.00   0.00   0.00   0.00   \n",
              "0076342d948f61dab2016514809e322a7d4cbb3e   0.00   0.00   0.00   0.00   0.00   \n",
              "00c47a9d70ef6f57f1bce784b7a5471b868be6d7   0.00   0.00   0.00   0.00   0.00   \n",
              "\n",
              "hour_range                                10-11  12-13  14-15  16-17  18-19  \\\n",
              "id                                                                            \n",
              "00439537448542c89f31ed747742ea8ca9d36c11   0.00   0.29   0.00   0.00   0.71   \n",
              "00514084cf11175e49589c542b6f358eb3895041   0.00   0.50   0.50   0.00   0.00   \n",
              "005c56a6afec10a516262dd0c699d224579c377c   0.00   0.40   0.60   0.00   0.00   \n",
              "0076342d948f61dab2016514809e322a7d4cbb3e   0.00   0.50   0.50   0.00   0.00   \n",
              "00c47a9d70ef6f57f1bce784b7a5471b868be6d7   0.00   0.25   0.00   0.00   0.00   \n",
              "\n",
              "hour_range                                20-21  22-23  cluster  \n",
              "id                                                               \n",
              "00439537448542c89f31ed747742ea8ca9d36c11   0.00   0.00        1  \n",
              "00514084cf11175e49589c542b6f358eb3895041   0.00   0.00        1  \n",
              "005c56a6afec10a516262dd0c699d224579c377c   0.00   0.00        1  \n",
              "0076342d948f61dab2016514809e322a7d4cbb3e   0.00   0.00        1  \n",
              "00c47a9d70ef6f57f1bce784b7a5471b868be6d7   0.25   0.50        1  "
            ]
          },
          "metadata": {
            "tags": []
          },
          "execution_count": 59
        }
      ]
    },
    {
      "metadata": {
        "id": "nwHdC5_xEYrJ",
        "colab_type": "code",
        "colab": {}
      },
      "cell_type": "code",
      "source": [
        "#Getting similar customers probabilities \n",
        "example_pred = cluster_reg.predict_proba(df_reg_train[df_reg_train['cluster']== prob_cluster].values[:, :12])"
      ],
      "execution_count": 0,
      "outputs": []
    },
    {
      "metadata": {
        "id": "8AMHP0EHEYrM",
        "colab_type": "text"
      },
      "cell_type": "markdown",
      "source": [
        "> In order to get only the features needed on the prediction method we don't have to pass the column named  \"cluster\"\" and it will be removed from the prediction\n",
        "\n",
        "Now that we have a set of cluster probabilities for each similar customer we need to get the most probable <mark>next</mark> cluster like we did in above example using `numpy argsort` method. \n",
        "\n",
        "***The most frequent next cluster will be chosen***"
      ]
    },
    {
      "metadata": {
        "id": "Hc5oVKIJEYrN",
        "colab_type": "code",
        "colab": {
          "base_uri": "https://localhost:8080/",
          "height": 204
        },
        "outputId": "bc97d714-3b48-48ae-d2ab-50f975d2548c"
      },
      "cell_type": "code",
      "source": [
        "example_freq_table = pd.DataFrame(np.argsort(-example_pred)[:,1], columns=['freq'])['freq'].value_counts().to_frame()\n",
        "example_freq_table"
      ],
      "execution_count": 61,
      "outputs": [
        {
          "output_type": "execute_result",
          "data": {
            "text/html": [
              "<div>\n",
              "<style scoped>\n",
              "    .dataframe tbody tr th:only-of-type {\n",
              "        vertical-align: middle;\n",
              "    }\n",
              "\n",
              "    .dataframe tbody tr th {\n",
              "        vertical-align: top;\n",
              "    }\n",
              "\n",
              "    .dataframe thead th {\n",
              "        text-align: right;\n",
              "    }\n",
              "</style>\n",
              "<table border=\"1\" class=\"dataframe\">\n",
              "  <thead>\n",
              "    <tr style=\"text-align: right;\">\n",
              "      <th></th>\n",
              "      <th>freq</th>\n",
              "    </tr>\n",
              "  </thead>\n",
              "  <tbody>\n",
              "    <tr>\n",
              "      <th>9</th>\n",
              "      <td>654</td>\n",
              "    </tr>\n",
              "    <tr>\n",
              "      <th>10</th>\n",
              "      <td>532</td>\n",
              "    </tr>\n",
              "    <tr>\n",
              "      <th>3</th>\n",
              "      <td>393</td>\n",
              "    </tr>\n",
              "    <tr>\n",
              "      <th>12</th>\n",
              "      <td>274</td>\n",
              "    </tr>\n",
              "    <tr>\n",
              "      <th>13</th>\n",
              "      <td>1</td>\n",
              "    </tr>\n",
              "  </tbody>\n",
              "</table>\n",
              "</div>"
            ],
            "text/plain": [
              "    freq\n",
              "9    654\n",
              "10   532\n",
              "3    393\n",
              "12   274\n",
              "13     1"
            ]
          },
          "metadata": {
            "tags": []
          },
          "execution_count": 61
        }
      ]
    },
    {
      "metadata": {
        "id": "2wcVaVoVEYrQ",
        "colab_type": "text"
      },
      "cell_type": "markdown",
      "source": [
        "With the table above the most frequent next cluster is the one at the TOP, so the row index will be the chosen cluster in recommendation"
      ]
    },
    {
      "metadata": {
        "id": "zDAJgXpTEYrR",
        "colab_type": "code",
        "colab": {}
      },
      "cell_type": "code",
      "source": [
        "next_similar_cluster = example_freq_table.iloc[0].name"
      ],
      "execution_count": 0,
      "outputs": []
    },
    {
      "metadata": {
        "id": "wexH0u-gEYrS",
        "colab_type": "text"
      },
      "cell_type": "markdown",
      "source": [
        "### Finally we have the three clusters that will be the base of recommendations,.\n",
        "\n",
        "now we just have to get their hour ranges"
      ]
    },
    {
      "metadata": {
        "id": "4lgg-OeUEYrT",
        "colab_type": "code",
        "colab": {
          "base_uri": "https://localhost:8080/",
          "height": 68
        },
        "outputId": "d03658d5-7f94-4ceb-f5f3-ff71b8050c8e"
      },
      "cell_type": "code",
      "source": [
        "print('Example Cluster: {0}'.format(prob_cluster))\n",
        "print('Next Cluster: {0}'.format(next_cluster))\n",
        "print('Next Similar Cluster: {0}'.format(next_similar_cluster))"
      ],
      "execution_count": 63,
      "outputs": [
        {
          "output_type": "stream",
          "text": [
            "Example Cluster: 1\n",
            "Next Cluster: 9\n",
            "Next Similar Cluster: 9\n"
          ],
          "name": "stdout"
        }
      ]
    },
    {
      "metadata": {
        "id": "umuzy0gHEYrV",
        "colab_type": "code",
        "colab": {
          "base_uri": "https://localhost:8080/",
          "height": 173
        },
        "outputId": "5b671d8d-5dc5-409f-fd1a-7cc1496a26f2"
      },
      "cell_type": "code",
      "source": [
        "recommended_clusters = [prob_cluster,next_cluster,next_similar_cluster]\n",
        "cluster_table.loc[recommended_clusters]"
      ],
      "execution_count": 64,
      "outputs": [
        {
          "output_type": "execute_result",
          "data": {
            "text/html": [
              "<div>\n",
              "<style scoped>\n",
              "    .dataframe tbody tr th:only-of-type {\n",
              "        vertical-align: middle;\n",
              "    }\n",
              "\n",
              "    .dataframe tbody tr th {\n",
              "        vertical-align: top;\n",
              "    }\n",
              "\n",
              "    .dataframe thead th {\n",
              "        text-align: right;\n",
              "    }\n",
              "</style>\n",
              "<table border=\"1\" class=\"dataframe\">\n",
              "  <thead>\n",
              "    <tr style=\"text-align: right;\">\n",
              "      <th>hour_range</th>\n",
              "      <th>00-01</th>\n",
              "      <th>02-03</th>\n",
              "      <th>04-05</th>\n",
              "      <th>06-07</th>\n",
              "      <th>08-09</th>\n",
              "      <th>10-11</th>\n",
              "      <th>12-13</th>\n",
              "      <th>14-15</th>\n",
              "      <th>16-17</th>\n",
              "      <th>18-19</th>\n",
              "      <th>20-21</th>\n",
              "      <th>22-23</th>\n",
              "    </tr>\n",
              "    <tr>\n",
              "      <th>cluster</th>\n",
              "      <th></th>\n",
              "      <th></th>\n",
              "      <th></th>\n",
              "      <th></th>\n",
              "      <th></th>\n",
              "      <th></th>\n",
              "      <th></th>\n",
              "      <th></th>\n",
              "      <th></th>\n",
              "      <th></th>\n",
              "      <th></th>\n",
              "      <th></th>\n",
              "    </tr>\n",
              "  </thead>\n",
              "  <tbody>\n",
              "    <tr>\n",
              "      <th>1</th>\n",
              "      <td>0.00</td>\n",
              "      <td>0.00</td>\n",
              "      <td>0.00</td>\n",
              "      <td>0.00</td>\n",
              "      <td>0.00</td>\n",
              "      <td>0.00</td>\n",
              "      <td>0.18</td>\n",
              "      <td>0.13</td>\n",
              "      <td>0.00</td>\n",
              "      <td>0.18</td>\n",
              "      <td>0.43</td>\n",
              "      <td>0.09</td>\n",
              "    </tr>\n",
              "    <tr>\n",
              "      <th>9</th>\n",
              "      <td>0.05</td>\n",
              "      <td>0.00</td>\n",
              "      <td>0.00</td>\n",
              "      <td>0.00</td>\n",
              "      <td>0.00</td>\n",
              "      <td>0.45</td>\n",
              "      <td>0.00</td>\n",
              "      <td>0.00</td>\n",
              "      <td>0.31</td>\n",
              "      <td>0.11</td>\n",
              "      <td>0.08</td>\n",
              "      <td>0.00</td>\n",
              "    </tr>\n",
              "    <tr>\n",
              "      <th>9</th>\n",
              "      <td>0.05</td>\n",
              "      <td>0.00</td>\n",
              "      <td>0.00</td>\n",
              "      <td>0.00</td>\n",
              "      <td>0.00</td>\n",
              "      <td>0.45</td>\n",
              "      <td>0.00</td>\n",
              "      <td>0.00</td>\n",
              "      <td>0.31</td>\n",
              "      <td>0.11</td>\n",
              "      <td>0.08</td>\n",
              "      <td>0.00</td>\n",
              "    </tr>\n",
              "  </tbody>\n",
              "</table>\n",
              "</div>"
            ],
            "text/plain": [
              "hour_range  00-01  02-03  04-05  06-07  08-09  10-11  12-13  14-15  16-17  \\\n",
              "cluster                                                                     \n",
              "1            0.00   0.00   0.00   0.00   0.00   0.00   0.18   0.13   0.00   \n",
              "9            0.05   0.00   0.00   0.00   0.00   0.45   0.00   0.00   0.31   \n",
              "9            0.05   0.00   0.00   0.00   0.00   0.45   0.00   0.00   0.31   \n",
              "\n",
              "hour_range  18-19  20-21  22-23  \n",
              "cluster                          \n",
              "1            0.18   0.43   0.09  \n",
              "9            0.11   0.08   0.00  \n",
              "9            0.11   0.08   0.00  "
            ]
          },
          "metadata": {
            "tags": []
          },
          "execution_count": 64
        }
      ]
    },
    {
      "metadata": {
        "id": "yZYEMPYmEYrW",
        "colab_type": "text"
      },
      "cell_type": "markdown",
      "source": [
        "### Which hour range would be the best recommendation?\n",
        "\n",
        "To recommend an optimal send time for this customer and also explore new time slots, the maximum column (which represents the hour range) of each cluster (row) will be used as the most probable hour ranges."
      ]
    },
    {
      "metadata": {
        "id": "gNew0f2HEYrW",
        "colab_type": "code",
        "colab": {}
      },
      "cell_type": "code",
      "source": [
        "column_array = cluster_table.loc[recommended_clusters].values.argmax(axis=1)"
      ],
      "execution_count": 0,
      "outputs": []
    },
    {
      "metadata": {
        "id": "t_le08fWEYra",
        "colab_type": "code",
        "colab": {}
      },
      "cell_type": "code",
      "source": [
        "#Creating the final probabilities table\n",
        "probs_recommendation = []\n",
        "\n",
        "for i in range(len(cluster_table.iloc[recommended_clusters[0]])):\n",
        "    probs_recommendation.append((i, cluster_table.iloc[recommended_clusters[0]][i]))"
      ],
      "execution_count": 0,
      "outputs": []
    },
    {
      "metadata": {
        "id": "fF97sMPKEYrb",
        "colab_type": "code",
        "colab": {
          "base_uri": "https://localhost:8080/",
          "height": 486
        },
        "outputId": "090bc7a3-68d7-4e73-eb0b-d13777ff2373"
      },
      "cell_type": "code",
      "source": [
        "print('This is an example of the hour range probabilities table')\n",
        "print()\n",
        "final_table_prob = pd.DataFrame(probs_recommendation, columns=['hour', 'prob']).set_index('hour')\n",
        "final_table_prob"
      ],
      "execution_count": 67,
      "outputs": [
        {
          "output_type": "stream",
          "text": [
            "This is an example of the hour range probabilities table\n",
            "\n"
          ],
          "name": "stdout"
        },
        {
          "output_type": "execute_result",
          "data": {
            "text/html": [
              "<div>\n",
              "<style scoped>\n",
              "    .dataframe tbody tr th:only-of-type {\n",
              "        vertical-align: middle;\n",
              "    }\n",
              "\n",
              "    .dataframe tbody tr th {\n",
              "        vertical-align: top;\n",
              "    }\n",
              "\n",
              "    .dataframe thead th {\n",
              "        text-align: right;\n",
              "    }\n",
              "</style>\n",
              "<table border=\"1\" class=\"dataframe\">\n",
              "  <thead>\n",
              "    <tr style=\"text-align: right;\">\n",
              "      <th></th>\n",
              "      <th>prob</th>\n",
              "    </tr>\n",
              "    <tr>\n",
              "      <th>hour</th>\n",
              "      <th></th>\n",
              "    </tr>\n",
              "  </thead>\n",
              "  <tbody>\n",
              "    <tr>\n",
              "      <th>0</th>\n",
              "      <td>0.00</td>\n",
              "    </tr>\n",
              "    <tr>\n",
              "      <th>1</th>\n",
              "      <td>0.00</td>\n",
              "    </tr>\n",
              "    <tr>\n",
              "      <th>2</th>\n",
              "      <td>0.00</td>\n",
              "    </tr>\n",
              "    <tr>\n",
              "      <th>3</th>\n",
              "      <td>0.00</td>\n",
              "    </tr>\n",
              "    <tr>\n",
              "      <th>4</th>\n",
              "      <td>0.00</td>\n",
              "    </tr>\n",
              "    <tr>\n",
              "      <th>5</th>\n",
              "      <td>0.00</td>\n",
              "    </tr>\n",
              "    <tr>\n",
              "      <th>6</th>\n",
              "      <td>0.18</td>\n",
              "    </tr>\n",
              "    <tr>\n",
              "      <th>7</th>\n",
              "      <td>0.13</td>\n",
              "    </tr>\n",
              "    <tr>\n",
              "      <th>8</th>\n",
              "      <td>0.00</td>\n",
              "    </tr>\n",
              "    <tr>\n",
              "      <th>9</th>\n",
              "      <td>0.18</td>\n",
              "    </tr>\n",
              "    <tr>\n",
              "      <th>10</th>\n",
              "      <td>0.43</td>\n",
              "    </tr>\n",
              "    <tr>\n",
              "      <th>11</th>\n",
              "      <td>0.09</td>\n",
              "    </tr>\n",
              "  </tbody>\n",
              "</table>\n",
              "</div>"
            ],
            "text/plain": [
              "      prob\n",
              "hour      \n",
              "0     0.00\n",
              "1     0.00\n",
              "2     0.00\n",
              "3     0.00\n",
              "4     0.00\n",
              "5     0.00\n",
              "6     0.18\n",
              "7     0.13\n",
              "8     0.00\n",
              "9     0.18\n",
              "10    0.43\n",
              "11    0.09"
            ]
          },
          "metadata": {
            "tags": []
          },
          "execution_count": 67
        }
      ]
    },
    {
      "metadata": {
        "id": "couK27S1EYre",
        "colab_type": "code",
        "colab": {
          "base_uri": "https://localhost:8080/",
          "height": 486
        },
        "outputId": "a37525ea-b092-45d7-ce40-f8f42b81414d"
      },
      "cell_type": "code",
      "source": [
        "#Updating the probabilities of recommended hour ranges\n",
        "for i in range(3):\n",
        "    actual_value = final_table_prob.iloc[column_array[i]][0]\n",
        "    new_value = cluster_table.iloc[recommended_clusters[i]][column_array[i]]\n",
        "    if new_value > actual_value:\n",
        "        final_table_prob.iloc[column_array[i]] = cluster_table.iloc[recommended_clusters[i]][column_array[i]]\n",
        "        \n",
        "print('This is the updated table of example customer cluster')\n",
        "print()\n",
        "final_table_prob"
      ],
      "execution_count": 68,
      "outputs": [
        {
          "output_type": "stream",
          "text": [
            "This is the updated table of example customer cluster\n",
            "\n"
          ],
          "name": "stdout"
        },
        {
          "output_type": "execute_result",
          "data": {
            "text/html": [
              "<div>\n",
              "<style scoped>\n",
              "    .dataframe tbody tr th:only-of-type {\n",
              "        vertical-align: middle;\n",
              "    }\n",
              "\n",
              "    .dataframe tbody tr th {\n",
              "        vertical-align: top;\n",
              "    }\n",
              "\n",
              "    .dataframe thead th {\n",
              "        text-align: right;\n",
              "    }\n",
              "</style>\n",
              "<table border=\"1\" class=\"dataframe\">\n",
              "  <thead>\n",
              "    <tr style=\"text-align: right;\">\n",
              "      <th></th>\n",
              "      <th>prob</th>\n",
              "    </tr>\n",
              "    <tr>\n",
              "      <th>hour</th>\n",
              "      <th></th>\n",
              "    </tr>\n",
              "  </thead>\n",
              "  <tbody>\n",
              "    <tr>\n",
              "      <th>0</th>\n",
              "      <td>0.00</td>\n",
              "    </tr>\n",
              "    <tr>\n",
              "      <th>1</th>\n",
              "      <td>0.00</td>\n",
              "    </tr>\n",
              "    <tr>\n",
              "      <th>2</th>\n",
              "      <td>0.00</td>\n",
              "    </tr>\n",
              "    <tr>\n",
              "      <th>3</th>\n",
              "      <td>0.00</td>\n",
              "    </tr>\n",
              "    <tr>\n",
              "      <th>4</th>\n",
              "      <td>0.00</td>\n",
              "    </tr>\n",
              "    <tr>\n",
              "      <th>5</th>\n",
              "      <td>0.45</td>\n",
              "    </tr>\n",
              "    <tr>\n",
              "      <th>6</th>\n",
              "      <td>0.18</td>\n",
              "    </tr>\n",
              "    <tr>\n",
              "      <th>7</th>\n",
              "      <td>0.13</td>\n",
              "    </tr>\n",
              "    <tr>\n",
              "      <th>8</th>\n",
              "      <td>0.00</td>\n",
              "    </tr>\n",
              "    <tr>\n",
              "      <th>9</th>\n",
              "      <td>0.18</td>\n",
              "    </tr>\n",
              "    <tr>\n",
              "      <th>10</th>\n",
              "      <td>0.43</td>\n",
              "    </tr>\n",
              "    <tr>\n",
              "      <th>11</th>\n",
              "      <td>0.09</td>\n",
              "    </tr>\n",
              "  </tbody>\n",
              "</table>\n",
              "</div>"
            ],
            "text/plain": [
              "      prob\n",
              "hour      \n",
              "0     0.00\n",
              "1     0.00\n",
              "2     0.00\n",
              "3     0.00\n",
              "4     0.00\n",
              "5     0.45\n",
              "6     0.18\n",
              "7     0.13\n",
              "8     0.00\n",
              "9     0.18\n",
              "10    0.43\n",
              "11    0.09"
            ]
          },
          "metadata": {
            "tags": []
          },
          "execution_count": 68
        }
      ]
    },
    {
      "metadata": {
        "id": "NLAYu8jvEYrh",
        "colab_type": "code",
        "colab": {
          "base_uri": "https://localhost:8080/",
          "height": 80
        },
        "outputId": "6529cb87-72d8-43b5-aa92-4138b28d9738"
      },
      "cell_type": "code",
      "source": [
        "final_table_prob.reset_index().pivot_table(columns='hour', values='prob')"
      ],
      "execution_count": 69,
      "outputs": [
        {
          "output_type": "execute_result",
          "data": {
            "text/html": [
              "<div>\n",
              "<style scoped>\n",
              "    .dataframe tbody tr th:only-of-type {\n",
              "        vertical-align: middle;\n",
              "    }\n",
              "\n",
              "    .dataframe tbody tr th {\n",
              "        vertical-align: top;\n",
              "    }\n",
              "\n",
              "    .dataframe thead th {\n",
              "        text-align: right;\n",
              "    }\n",
              "</style>\n",
              "<table border=\"1\" class=\"dataframe\">\n",
              "  <thead>\n",
              "    <tr style=\"text-align: right;\">\n",
              "      <th>hour</th>\n",
              "      <th>0</th>\n",
              "      <th>1</th>\n",
              "      <th>2</th>\n",
              "      <th>3</th>\n",
              "      <th>4</th>\n",
              "      <th>5</th>\n",
              "      <th>6</th>\n",
              "      <th>7</th>\n",
              "      <th>8</th>\n",
              "      <th>9</th>\n",
              "      <th>10</th>\n",
              "      <th>11</th>\n",
              "    </tr>\n",
              "  </thead>\n",
              "  <tbody>\n",
              "    <tr>\n",
              "      <th>prob</th>\n",
              "      <td>0.00</td>\n",
              "      <td>0.00</td>\n",
              "      <td>0.00</td>\n",
              "      <td>0.00</td>\n",
              "      <td>0.00</td>\n",
              "      <td>0.45</td>\n",
              "      <td>0.18</td>\n",
              "      <td>0.13</td>\n",
              "      <td>0.00</td>\n",
              "      <td>0.18</td>\n",
              "      <td>0.43</td>\n",
              "      <td>0.09</td>\n",
              "    </tr>\n",
              "  </tbody>\n",
              "</table>\n",
              "</div>"
            ],
            "text/plain": [
              "hour   0    1    2    3    4    5    6    7    8    9    10   11\n",
              "prob 0.00 0.00 0.00 0.00 0.00 0.45 0.18 0.13 0.00 0.18 0.43 0.09"
            ]
          },
          "metadata": {
            "tags": []
          },
          "execution_count": 69
        }
      ]
    },
    {
      "metadata": {
        "id": "pk55AW9KEYrk",
        "colab_type": "text"
      },
      "cell_type": "markdown",
      "source": [
        "The probability table must sum to 1 in order to pass it as parameter to `numpy.random.choice` function. This function will be used to randomly select the hour range given the probabilities so it can recommend and explore new time slots. \n",
        "\n",
        "Therefore this data can be normalized dividing them by the sum of proportions as follows:"
      ]
    },
    {
      "metadata": {
        "id": "vGeT-E0XEYrk",
        "colab_type": "code",
        "colab": {
          "base_uri": "https://localhost:8080/",
          "height": 97
        },
        "outputId": "4ce05f5f-ed5b-4c97-d86b-7e43430d0eef"
      },
      "cell_type": "code",
      "source": [
        "probs = list(final_table_prob['prob'] / final_table_prob['prob'].sum())\n",
        "\n",
        "print('Final probability table')\n",
        "pd.DataFrame([probs])"
      ],
      "execution_count": 70,
      "outputs": [
        {
          "output_type": "stream",
          "text": [
            "Final probability table\n"
          ],
          "name": "stdout"
        },
        {
          "output_type": "execute_result",
          "data": {
            "text/html": [
              "<div>\n",
              "<style scoped>\n",
              "    .dataframe tbody tr th:only-of-type {\n",
              "        vertical-align: middle;\n",
              "    }\n",
              "\n",
              "    .dataframe tbody tr th {\n",
              "        vertical-align: top;\n",
              "    }\n",
              "\n",
              "    .dataframe thead th {\n",
              "        text-align: right;\n",
              "    }\n",
              "</style>\n",
              "<table border=\"1\" class=\"dataframe\">\n",
              "  <thead>\n",
              "    <tr style=\"text-align: right;\">\n",
              "      <th></th>\n",
              "      <th>0</th>\n",
              "      <th>1</th>\n",
              "      <th>2</th>\n",
              "      <th>3</th>\n",
              "      <th>4</th>\n",
              "      <th>5</th>\n",
              "      <th>6</th>\n",
              "      <th>7</th>\n",
              "      <th>8</th>\n",
              "      <th>9</th>\n",
              "      <th>10</th>\n",
              "      <th>11</th>\n",
              "    </tr>\n",
              "  </thead>\n",
              "  <tbody>\n",
              "    <tr>\n",
              "      <th>0</th>\n",
              "      <td>0.00</td>\n",
              "      <td>0.00</td>\n",
              "      <td>0.00</td>\n",
              "      <td>0.00</td>\n",
              "      <td>0.00</td>\n",
              "      <td>0.31</td>\n",
              "      <td>0.12</td>\n",
              "      <td>0.09</td>\n",
              "      <td>0.00</td>\n",
              "      <td>0.12</td>\n",
              "      <td>0.30</td>\n",
              "      <td>0.06</td>\n",
              "    </tr>\n",
              "  </tbody>\n",
              "</table>\n",
              "</div>"
            ],
            "text/plain": [
              "    0    1    2    3    4    5    6    7    8    9    10   11\n",
              "0 0.00 0.00 0.00 0.00 0.00 0.31 0.12 0.09 0.00 0.12 0.30 0.06"
            ]
          },
          "metadata": {
            "tags": []
          },
          "execution_count": 70
        }
      ]
    },
    {
      "metadata": {
        "id": "yQ-aCdoKEYrn",
        "colab_type": "text"
      },
      "cell_type": "markdown",
      "source": [
        "## Recommender in action"
      ]
    },
    {
      "metadata": {
        "id": "ClKrPxQmEYro",
        "colab_type": "code",
        "colab": {
          "base_uri": "https://localhost:8080/",
          "height": 34
        },
        "outputId": "95d18025-7630-4008-9c1f-60162aca2177"
      },
      "cell_type": "code",
      "source": [
        "recommended = np.random.choice(final_table_prob.index, p=probs)\n",
        "print('A suggested hour range for this customer would be {0}'.format(cluster_table.columns[recommended]))"
      ],
      "execution_count": 71,
      "outputs": [
        {
          "output_type": "stream",
          "text": [
            "A suggested hour range for this customer would be 18-19\n"
          ],
          "name": "stdout"
        }
      ]
    },
    {
      "metadata": {
        "id": "soFUvosmEYrr",
        "colab_type": "text"
      },
      "cell_type": "markdown",
      "source": [
        "> If we run this enough times we can see the results would follow the probabilities table.\n",
        "\n",
        "#### Those functions will be implemented in a separate file called `recommender.py` to make it easier to automate the process in the future. "
      ]
    },
    {
      "metadata": {
        "id": "m35eUvyWEYrs",
        "colab_type": "text"
      },
      "cell_type": "markdown",
      "source": [
        "## 6 - Solution Evaluation\n",
        "\n",
        "Evaluate the model results is as important as creating it so we can check whether it is worth spending time and resources on it. Besides, it has to be better than a baseline solution to justify its effort.\n",
        "\n",
        "### What is a baseline model?\n",
        "\n",
        "Baseline model is the simplest way to solve the proposed problem that we can use as a benchmark, for example in our case what if we simply send emails at the most frequent customer's open times? Would it have a better or worse result compared to our model?\n",
        "\n",
        "This approach is a good guide to give an idea of what is a good result? \n",
        "So to confirm (or not) the solution feasibility, its results must be better than this baseline solution, otherwise we just need to implement this \"easy\" part.\n",
        "\n",
        "\n",
        "## How can we measure it?\n",
        "\n",
        "\n",
        "The real way to measure it is by using the optimized solution in a controlled environment/experiment and then compare the results with and without the recommendations, so it can be evaluated whether the difference is significant enough to conclude a real improvement. \n",
        "\n",
        "In this specific case we have email Open Rate metric from Digital Marketing Campaigns attached to this process, so we can prove the hypothesis of:<br><br>\n",
        "\n",
        "**H0:** Email open rate won't be changed significantly by optimizing send time.<br>\n",
        "**HA:** Sending emails at the right time for customers will increase open rate. \n",
        "\n",
        "There is no way to deploy this model in a production environment for test purpose but it's possible to simulate a recommendation by using the model's predictions and compare with open events that we have in the data.\n",
        "\n",
        "\n",
        "### <a href='https://en.wikipedia.org/wiki/F1_score'>F1-Score</a> will be the base for comparisons \n",
        "\n",
        "it's a valid metric for multiclass classifications (and the hour-range will be considered a class in the prediction phase) with average parameter set to \"micro\" to work with the overall right predicted classes and prevent any problem with imbalanced classes like 4-5 a.m with very few open events while most concentrated at dinner and rush times as we noticed earlier in the exploratory analysis.\n"
      ]
    },
    {
      "metadata": {
        "id": "cPxtV9zyEYrt",
        "colab_type": "text"
      },
      "cell_type": "markdown",
      "source": [
        "### Benchmark model\n",
        "\n",
        "In order to create the baseline model benchmark we are going to get the most frequent open times for each customer and measure the accuracy of this (dummy) model in a sample from open events, so we can compare to the recommender accuracy and check which one is better."
      ]
    },
    {
      "metadata": {
        "id": "St9tk0qREYru",
        "colab_type": "code",
        "colab": {}
      },
      "cell_type": "code",
      "source": [
        "#base line model function\n",
        "df_open_aux = df_open_events_reg[['id', 'flg_open', 'flg_weekend', 'hour_range']].reset_index()\n",
        "\n",
        "def getMostFrequent(customer_id, flg_weekend, df_train):\n",
        "    \n",
        "    open_aux = df_train[(df_train['id']==customer_id) & (df_train['flg_weekend']==flg_weekend)]\n",
        "    if len(open_aux) > 0:\n",
        "        return open_aux.sort_values('flg_open', ascending=False)[:1]['hour_range'].values[0]\n",
        "    else:#most frequent hour range for the given day type\n",
        "        return df_train['hour_range'][df_train['flg_weekend']==flg_weekend].value_counts().index[0] "
      ],
      "execution_count": 0,
      "outputs": []
    },
    {
      "metadata": {
        "id": "-PYuJt91EYrv",
        "colab_type": "code",
        "colab": {
          "base_uri": "https://localhost:8080/",
          "height": 34
        },
        "outputId": "6e09d5e8-9125-46c1-9dab-052d424e4d00"
      },
      "cell_type": "code",
      "source": [
        "#Example...\n",
        "getMostFrequent('02d4de432ed73064f261499c677f1699b4c48b55', 0, df_open_aux)"
      ],
      "execution_count": 73,
      "outputs": [
        {
          "output_type": "execute_result",
          "data": {
            "text/plain": [
              "'12-13'"
            ]
          },
          "metadata": {
            "tags": []
          },
          "execution_count": 73
        }
      ]
    },
    {
      "metadata": {
        "id": "UsBI2Fc2EYrx",
        "colab_type": "text"
      },
      "cell_type": "markdown",
      "source": [
        "## Validation dataset\n",
        "\n",
        "The test data that will be used to validate the algorithm will be data from the last month, so we can predict unseen data in future dates simulating how it will work in a real situation (Suggesting send time to future dates)"
      ]
    },
    {
      "metadata": {
        "id": "NPoOXzSZEYrx",
        "colab_type": "code",
        "colab": {}
      },
      "cell_type": "code",
      "source": [
        "df_evaluate_data = df_full_data[(df_full_data['flg_open']==1)]\n",
        "\n",
        "df_evaluate_data['event_month'] = df_evaluate_data['timestamp'].apply(lambda x: x[5:7])"
      ],
      "execution_count": 0,
      "outputs": []
    },
    {
      "metadata": {
        "id": "Yl043AKGEYr0",
        "colab_type": "code",
        "colab": {
          "base_uri": "https://localhost:8080/",
          "height": 221
        },
        "outputId": "f0911c85-b95d-4d6d-b4e3-1b4d9c9c4602"
      },
      "cell_type": "code",
      "source": [
        "df_evaluate_data['event_month'].value_counts()"
      ],
      "execution_count": 75,
      "outputs": [
        {
          "output_type": "execute_result",
          "data": {
            "text/plain": [
              "11    20265\n",
              "10    17389\n",
              "08     9354\n",
              "05     9343\n",
              "06     7875\n",
              "09     6455\n",
              "07     6322\n",
              "04     4951\n",
              "02     2684\n",
              "01     2088\n",
              "03     1873\n",
              "Name: event_month, dtype: int64"
            ]
          },
          "metadata": {
            "tags": []
          },
          "execution_count": 75
        }
      ]
    },
    {
      "metadata": {
        "id": "GCTLQTQHEYr3",
        "colab_type": "text"
      },
      "cell_type": "markdown",
      "source": [
        "***There are enough data to test the results on the last month (11 = November) as we can see by the data above***"
      ]
    },
    {
      "metadata": {
        "id": "b_h9ivQREYr4",
        "colab_type": "code",
        "colab": {}
      },
      "cell_type": "code",
      "source": [
        "#Splitting data into train and test sets\n",
        "df_eval_test = df_evaluate_data[df_evaluate_data['event_month'] == '11'].sample(1000)\n",
        "df_eval_train = df_evaluate_data[~(df_evaluate_data['event_month'] == '11')]"
      ],
      "execution_count": 0,
      "outputs": []
    },
    {
      "metadata": {
        "id": "8JcDTs7xEYr5",
        "colab_type": "code",
        "colab": {}
      },
      "cell_type": "code",
      "source": [
        "## Predicting cases with dummy model\n",
        "dummy_pred = []\n",
        "for i in range(len(df_eval_test)):\n",
        "    dummy_pred.append(getMostFrequent(df_eval_test['id'].iloc[i], \n",
        "                                      df_eval_test['flg_weekend'].iloc[i], \n",
        "                                      df_eval_train)) \n",
        "    \n",
        "    \n",
        "df_eval_test['dummy_pred'] = dummy_pred"
      ],
      "execution_count": 0,
      "outputs": []
    },
    {
      "metadata": {
        "id": "uDV2suacEYr6",
        "colab_type": "code",
        "colab": {}
      },
      "cell_type": "code",
      "source": [
        "df_eval_test['dummy_pred_bool'] = df_eval_test['hour_range'] == df_eval_test['dummy_pred']\n",
        "\n",
        "df_eval_test['acc_dummy_pred'] = df_eval_test['dummy_pred_bool'].apply(lambda x: 1 if x else 0)"
      ],
      "execution_count": 0,
      "outputs": []
    },
    {
      "metadata": {
        "id": "c3wmygFoEYr7",
        "colab_type": "code",
        "colab": {}
      },
      "cell_type": "code",
      "source": [
        "dummy_accuracy = df_eval_test['acc_dummy_pred'].sum() / len(df_eval_test)"
      ],
      "execution_count": 0,
      "outputs": []
    },
    {
      "metadata": {
        "id": "Y_5zHh3_EYr8",
        "colab_type": "code",
        "colab": {
          "base_uri": "https://localhost:8080/",
          "height": 54
        },
        "outputId": "d873ff4e-a84f-4bbe-82b8-a70d0e7b09e9"
      },
      "cell_type": "code",
      "source": [
        "print('We have an accuracy of {0:.2%}\\\n",
        " using the dummy model and this is the minimum we could reach in the simplest way.'.format(dummy_accuracy))"
      ],
      "execution_count": 80,
      "outputs": [
        {
          "output_type": "stream",
          "text": [
            "We have an accuracy of 14.10% using the dummy model and this is the minimum we could reach in the simplest way.\n"
          ],
          "name": "stdout"
        }
      ]
    },
    {
      "metadata": {
        "id": "rKnuJ9EiEYr-",
        "colab_type": "text"
      },
      "cell_type": "markdown",
      "source": [
        "### Recommender Evaluation\n",
        "\n",
        "The recommender file a class named `SentTimeRecommender` with all the methods needed to the recommendation process and it will be used from now on in recommendations tasks"
      ]
    },
    {
      "metadata": {
        "id": "NtsOJikIEYr-",
        "colab_type": "code",
        "colab": {}
      },
      "cell_type": "code",
      "source": [
        "from recommender import SendTimeRecommender\n",
        "sendtimeRecommender = SendTimeRecommender('sto_challenge.csv')"
      ],
      "execution_count": 0,
      "outputs": []
    },
    {
      "metadata": {
        "id": "d8Rx9eVrEYr_",
        "colab_type": "code",
        "colab": {}
      },
      "cell_type": "code",
      "source": [
        "df_eval_train_2 = sendtimeRecommender.set_additional_columns(df_eval_train)"
      ],
      "execution_count": 0,
      "outputs": []
    },
    {
      "metadata": {
        "id": "ybIcU1H4EYsA",
        "colab_type": "code",
        "colab": {
          "base_uri": "https://localhost:8080/",
          "height": 394
        },
        "outputId": "64a078bf-76ae-46a0-9a7a-d3d8b59814ae"
      },
      "cell_type": "code",
      "source": [
        "df_eval_train_2.head()"
      ],
      "execution_count": 83,
      "outputs": [
        {
          "output_type": "execute_result",
          "data": {
            "text/html": [
              "<div>\n",
              "<style scoped>\n",
              "    .dataframe tbody tr th:only-of-type {\n",
              "        vertical-align: middle;\n",
              "    }\n",
              "\n",
              "    .dataframe tbody tr th {\n",
              "        vertical-align: top;\n",
              "    }\n",
              "\n",
              "    .dataframe thead th {\n",
              "        text-align: right;\n",
              "    }\n",
              "</style>\n",
              "<table border=\"1\" class=\"dataframe\">\n",
              "  <thead>\n",
              "    <tr style=\"text-align: right;\">\n",
              "      <th></th>\n",
              "      <th>id</th>\n",
              "      <th>timestamp</th>\n",
              "      <th>email_id</th>\n",
              "      <th>action</th>\n",
              "      <th>flg_open</th>\n",
              "      <th>flg_received</th>\n",
              "      <th>weekday</th>\n",
              "      <th>flg_weekend</th>\n",
              "      <th>event_time</th>\n",
              "      <th>event_hour</th>\n",
              "      <th>hour_range</th>\n",
              "      <th>event_month</th>\n",
              "      <th>event_date</th>\n",
              "      <th>day_type</th>\n",
              "    </tr>\n",
              "  </thead>\n",
              "  <tbody>\n",
              "    <tr>\n",
              "      <th>0</th>\n",
              "      <td>4591b11ba8cca67079c1a43be2992a8f89fce422</td>\n",
              "      <td>2018-05-25 14:59:02 UTC</td>\n",
              "      <td>3498910</td>\n",
              "      <td>open</td>\n",
              "      <td>1</td>\n",
              "      <td>0</td>\n",
              "      <td>4</td>\n",
              "      <td>0</td>\n",
              "      <td>14:59:02</td>\n",
              "      <td>14</td>\n",
              "      <td>14-15</td>\n",
              "      <td>05</td>\n",
              "      <td>2018-05-25</td>\n",
              "      <td>0</td>\n",
              "    </tr>\n",
              "    <tr>\n",
              "      <th>1</th>\n",
              "      <td>2bbdb4cff0fe8cc3cb6c1757291e31806ecefa47</td>\n",
              "      <td>2018-06-25 17:47:23 UTC</td>\n",
              "      <td>3498910</td>\n",
              "      <td>open</td>\n",
              "      <td>1</td>\n",
              "      <td>0</td>\n",
              "      <td>0</td>\n",
              "      <td>0</td>\n",
              "      <td>17:47:23</td>\n",
              "      <td>17</td>\n",
              "      <td>16-17</td>\n",
              "      <td>06</td>\n",
              "      <td>2018-06-25</td>\n",
              "      <td>0</td>\n",
              "    </tr>\n",
              "    <tr>\n",
              "      <th>2</th>\n",
              "      <td>0f467135eabd4e385f9c2dcd3f00a9f2a04c0115</td>\n",
              "      <td>2018-06-27 12:32:36 UTC</td>\n",
              "      <td>3498910</td>\n",
              "      <td>open</td>\n",
              "      <td>1</td>\n",
              "      <td>0</td>\n",
              "      <td>2</td>\n",
              "      <td>0</td>\n",
              "      <td>12:32:36</td>\n",
              "      <td>12</td>\n",
              "      <td>12-13</td>\n",
              "      <td>06</td>\n",
              "      <td>2018-06-27</td>\n",
              "      <td>0</td>\n",
              "    </tr>\n",
              "    <tr>\n",
              "      <th>3</th>\n",
              "      <td>6f17b7dc6f220c09fba4d8fbc2491317eece2ae8</td>\n",
              "      <td>2018-07-02 22:47:28 UTC</td>\n",
              "      <td>3498910</td>\n",
              "      <td>open</td>\n",
              "      <td>1</td>\n",
              "      <td>0</td>\n",
              "      <td>0</td>\n",
              "      <td>0</td>\n",
              "      <td>22:47:28</td>\n",
              "      <td>22</td>\n",
              "      <td>22-23</td>\n",
              "      <td>07</td>\n",
              "      <td>2018-07-02</td>\n",
              "      <td>0</td>\n",
              "    </tr>\n",
              "    <tr>\n",
              "      <th>4</th>\n",
              "      <td>a645dd2ac5c5e000c8b5c7739b3a54435fb313cc</td>\n",
              "      <td>2018-01-24 19:21:49 UTC</td>\n",
              "      <td>3498910</td>\n",
              "      <td>open</td>\n",
              "      <td>1</td>\n",
              "      <td>0</td>\n",
              "      <td>2</td>\n",
              "      <td>0</td>\n",
              "      <td>19:21:49</td>\n",
              "      <td>19</td>\n",
              "      <td>18-19</td>\n",
              "      <td>01</td>\n",
              "      <td>2018-01-24</td>\n",
              "      <td>0</td>\n",
              "    </tr>\n",
              "  </tbody>\n",
              "</table>\n",
              "</div>"
            ],
            "text/plain": [
              "                                         id                timestamp  \\\n",
              "0  4591b11ba8cca67079c1a43be2992a8f89fce422  2018-05-25 14:59:02 UTC   \n",
              "1  2bbdb4cff0fe8cc3cb6c1757291e31806ecefa47  2018-06-25 17:47:23 UTC   \n",
              "2  0f467135eabd4e385f9c2dcd3f00a9f2a04c0115  2018-06-27 12:32:36 UTC   \n",
              "3  6f17b7dc6f220c09fba4d8fbc2491317eece2ae8  2018-07-02 22:47:28 UTC   \n",
              "4  a645dd2ac5c5e000c8b5c7739b3a54435fb313cc  2018-01-24 19:21:49 UTC   \n",
              "\n",
              "   email_id action  flg_open  flg_received  weekday  flg_weekend event_time  \\\n",
              "0   3498910   open         1             0        4            0   14:59:02   \n",
              "1   3498910   open         1             0        0            0   17:47:23   \n",
              "2   3498910   open         1             0        2            0   12:32:36   \n",
              "3   3498910   open         1             0        0            0   22:47:28   \n",
              "4   3498910   open         1             0        2            0   19:21:49   \n",
              "\n",
              "  event_hour hour_range event_month  event_date  day_type  \n",
              "0         14      14-15          05  2018-05-25         0  \n",
              "1         17      16-17          06  2018-06-25         0  \n",
              "2         12      12-13          06  2018-06-27         0  \n",
              "3         22      22-23          07  2018-07-02         0  \n",
              "4         19      18-19          01  2018-01-24         0  "
            ]
          },
          "metadata": {
            "tags": []
          },
          "execution_count": 83
        }
      ]
    },
    {
      "metadata": {
        "id": "v51P2sg_EYsC",
        "colab_type": "code",
        "colab": {
          "base_uri": "https://localhost:8080/",
          "height": 34
        },
        "outputId": "517146d6-5ae6-4d18-e122-5a6b4db5a730"
      },
      "cell_type": "code",
      "source": [
        "#Trainning the model is the process of clustering creating (one for weekend and another one for regular days)\n",
        "sendtimeRecommender.train(df_eval_train_2)"
      ],
      "execution_count": 84,
      "outputs": [
        {
          "output_type": "stream",
          "text": [
            "Time to train: 114.61310243606567\n"
          ],
          "name": "stdout"
        }
      ]
    },
    {
      "metadata": {
        "id": "UY-RHpdSJsCM",
        "colab_type": "code",
        "colab": {}
      },
      "cell_type": "code",
      "source": [
        "def getdaytype(weekday):\n",
        "  if weekday in (0,2,4):\n",
        "    return 0\n",
        "  elif weekday in (1,3):\n",
        "    return 1\n",
        "  else:\n",
        "    return 2"
      ],
      "execution_count": 0,
      "outputs": []
    },
    {
      "metadata": {
        "id": "NXL3Zq9ZEYsF",
        "colab_type": "code",
        "colab": {}
      },
      "cell_type": "code",
      "source": [
        "df_eval_test['event_date'] = df_eval_test['timestamp'].apply(lambda x: x[:10])\n",
        "df_eval_test['day_type'] = df_eval_test['weekday'].apply(lambda x: getdaytype(x))"
      ],
      "execution_count": 0,
      "outputs": []
    },
    {
      "metadata": {
        "id": "zLk5N1pSEYsH",
        "colab_type": "text"
      },
      "cell_type": "markdown",
      "source": [
        "For the same customer used as example in above section when testing the dummy model function, this model should recommend (most of the time) the customer's most frequent time which often has greater probability as it might be the cluster greater value.\n",
        "\n",
        "Let's check the model out"
      ]
    },
    {
      "metadata": {
        "id": "OdogsVmyEYsH",
        "colab_type": "code",
        "colab": {
          "base_uri": "https://localhost:8080/",
          "height": 187
        },
        "outputId": "8345e20b-4491-4990-b4b4-bc78d81e17b8"
      },
      "cell_type": "code",
      "source": [
        "#Example...\n",
        "for i in range(10):\n",
        "    print(sendtimeRecommender.recommend_send_time('02d4de432ed73064f261499c677f1699b4c48b55',\n",
        "                                          '2019-03-25', learning_rate=0.05))\n",
        "    "
      ],
      "execution_count": 87,
      "outputs": [
        {
          "output_type": "stream",
          "text": [
            "(6, '12-13')\n",
            "(6, '12-13')\n",
            "(6, '12-13')\n",
            "(6, '12-13')\n",
            "(6, '12-13')\n",
            "(6, '12-13')\n",
            "(6, '12-13')\n",
            "(6, '12-13')\n",
            "(6, '12-13')\n",
            "(6, '12-13')\n"
          ],
          "name": "stdout"
        }
      ]
    },
    {
      "metadata": {
        "id": "cCq_0Hg7EYsK",
        "colab_type": "text"
      },
      "cell_type": "markdown",
      "source": [
        "This actually has the majority of recommendations on customer's most frequent time.\n",
        "\n",
        "What if we change the learning rate a little bit?\n",
        "\n",
        "### Learning Rate parameter: This parameter controls how much we want this model to \"learn\" \n",
        "\n",
        "<mark><u>Learning in this context means the exploration of new time slots</u></mark>\n",
        "\n",
        "> **Note:** This metric is inversely proportional to the probabilities of getting the most frequent hour range of the user, therefore The higher this number, the more this model will learn from new time slots so we can balance this parameter according to our needs."
      ]
    },
    {
      "metadata": {
        "id": "kAiOIoaBEYsL",
        "colab_type": "code",
        "colab": {
          "base_uri": "https://localhost:8080/",
          "height": 187
        },
        "outputId": "a99be256-9646-4947-8679-fd71d925adc7"
      },
      "cell_type": "code",
      "source": [
        "#Example...\n",
        "for i in range(10):\n",
        "    print(sendtimeRecommender.recommend_send_time('02d4de432ed73064f261499c677f1699b4c48b55',\n",
        "                                          '2019-03-25', learning_rate=0.5))"
      ],
      "execution_count": 88,
      "outputs": [
        {
          "output_type": "stream",
          "text": [
            "(0, '00-01')\n",
            "(0, '00-01')\n",
            "(11, '22-23')\n",
            "(6, '12-13')\n",
            "(11, '22-23')\n",
            "(7, '14-15')\n",
            "(8, '16-17')\n",
            "(6, '12-13')\n",
            "(5, '10-11')\n",
            "(6, '12-13')\n"
          ],
          "name": "stdout"
        }
      ]
    },
    {
      "metadata": {
        "id": "gz33rJaoEYsN",
        "colab_type": "text"
      },
      "cell_type": "markdown",
      "source": [
        "Now we can see it varies a little bit but still has some recommendations on the most frequent time! \n",
        "\n",
        "### So that's how this model is supposed to work! \n",
        "\n",
        "#### Now the model will be tested on more data to evaluate its results"
      ]
    },
    {
      "metadata": {
        "id": "4e8rsbuQEYsN",
        "colab_type": "code",
        "colab": {}
      },
      "cell_type": "code",
      "source": [
        "#Function to predict a hour-range for each customer\n",
        "\n",
        "def predictSendTime(recommender, test_set, learning_rate): \n",
        "\n",
        "    start = time.time()\n",
        "\n",
        "    model_pred = []\n",
        "    for i in range(len(df_eval_test)):\n",
        "        cluster, predicted_sendtime = recommender.recommend_send_time(test_set['id'].iloc[i], \n",
        "                                                                            test_set['event_date'].iloc[i], \n",
        "                                                                            learning_rate=learning_rate)\n",
        "\n",
        "        model_pred.append(predicted_sendtime) \n",
        "\n",
        "\n",
        "    end = time.time()\n",
        "\n",
        "    print('Time to predict: {0}'.format(end-start))\n",
        "    \n",
        "    return model_pred"
      ],
      "execution_count": 0,
      "outputs": []
    },
    {
      "metadata": {
        "id": "ap-hDTL2EYsO",
        "colab_type": "code",
        "colab": {
          "base_uri": "https://localhost:8080/",
          "height": 34
        },
        "outputId": "ae9c443e-d99b-46f8-a2b4-135f32be1ab3"
      },
      "cell_type": "code",
      "source": [
        "model_pred = predictSendTime(sendtimeRecommender, df_eval_test, 0.05)\n",
        "\n",
        "df_eval_test['model_pred'] = model_pred"
      ],
      "execution_count": 90,
      "outputs": [
        {
          "output_type": "stream",
          "text": [
            "Time to predict: 224.73523783683777\n"
          ],
          "name": "stdout"
        }
      ]
    },
    {
      "metadata": {
        "id": "tycLlg9FEYsQ",
        "colab_type": "code",
        "colab": {}
      },
      "cell_type": "code",
      "source": [
        "df_eval_test['rcc_pred_bool'] = df_eval_test['hour_range'] == df_eval_test['model_pred']\n",
        "\n",
        "df_eval_test['acc_recom_pred'] = df_eval_test['rcc_pred_bool'].apply(lambda x: 1 if x else 0)\n",
        "\n",
        "recommender_accuracy = df_eval_test['acc_recom_pred'].sum() / len(df_eval_test)"
      ],
      "execution_count": 0,
      "outputs": []
    },
    {
      "metadata": {
        "id": "Aw9Kp34OEYsS",
        "colab_type": "code",
        "colab": {
          "base_uri": "https://localhost:8080/",
          "height": 34
        },
        "outputId": "cb51522b-7336-434c-d270-6b9f64ae3267"
      },
      "cell_type": "code",
      "source": [
        "print('We have an accuracy of {0:.2%} using the recommender model which is higher than\\\n",
        " dummy model'.format(recommender_accuracy))"
      ],
      "execution_count": 92,
      "outputs": [
        {
          "output_type": "stream",
          "text": [
            "We have an accuracy of 55.00% using the recommender model which is higher than dummy model\n"
          ],
          "name": "stdout"
        }
      ]
    },
    {
      "metadata": {
        "id": "IVV-9et-EYsU",
        "colab_type": "code",
        "colab": {
          "base_uri": "https://localhost:8080/",
          "height": 71
        },
        "outputId": "3fadea7f-304a-4125-8e8b-781a9c28ae54"
      },
      "cell_type": "code",
      "source": [
        "pct_equal_pred = np.sum((df_eval_test['dummy_pred_bool']) & (df_eval_test['rcc_pred_bool'])) / len(df_eval_test)\n",
        "\n",
        "print('{0:.2%} of the right predictions\\\n",
        " from recommender model was also predicted\\\n",
        " right from the most frequent approach'.format(pct_equal_pred))\n",
        "\n",
        "\n",
        "print('Thus about {0:.2%} of test data was actually predicted\\\n",
        " by recommendations'.format(recommender_accuracy - pct_equal_pred) )"
      ],
      "execution_count": 93,
      "outputs": [
        {
          "output_type": "stream",
          "text": [
            "9.50% of the right predictions from recommender model was also predicted right from the most frequent approach\n",
            "Thus about 45.50% of test data was actually predicted by recommendations\n"
          ],
          "name": "stdout"
        }
      ]
    },
    {
      "metadata": {
        "id": "XjMJrL5GEYsW",
        "colab_type": "text"
      },
      "cell_type": "markdown",
      "source": [
        ">  An **interesting** find here is that over the right predictions from recommendation model, only a **small** percentage was the same as the previous approach, meaning that <u>exploration and exploitation might help to get right at send times different than the most frequent ones</u>."
      ]
    },
    {
      "metadata": {
        "id": "3FwYoRK_EYsX",
        "colab_type": "text"
      },
      "cell_type": "markdown",
      "source": [
        "## F1-Score - Evaluating model recommendations"
      ]
    },
    {
      "metadata": {
        "id": "SnpGGgKzEYsY",
        "colab_type": "code",
        "colab": {}
      },
      "cell_type": "code",
      "source": [
        "from sklearn.metrics import f1_score"
      ],
      "execution_count": 0,
      "outputs": []
    },
    {
      "metadata": {
        "id": "cjSL3mVYEYsa",
        "colab_type": "code",
        "colab": {
          "base_uri": "https://localhost:8080/",
          "height": 51
        },
        "outputId": "3a412ff5-42b6-44b7-e293-93131f537eec"
      },
      "cell_type": "code",
      "source": [
        "print('F1 Score for recommender predictions')\n",
        "print(f1_score(df_eval_test['hour_range'], df_eval_test['model_pred'], \n",
        "               average='micro'))"
      ],
      "execution_count": 95,
      "outputs": [
        {
          "output_type": "stream",
          "text": [
            "F1 Score for recommender predictions\n",
            "0.55\n"
          ],
          "name": "stdout"
        }
      ]
    },
    {
      "metadata": {
        "id": "EH3ChbGgEYsb",
        "colab_type": "code",
        "colab": {
          "base_uri": "https://localhost:8080/",
          "height": 51
        },
        "outputId": "94e0b685-6476-4ed2-b303-9a810e5f1dce"
      },
      "cell_type": "code",
      "source": [
        "print('F1 Score for dummy model predictions')\n",
        "print(f1_score(df_eval_test['hour_range'], df_eval_test['dummy_pred'], \n",
        "               average='micro'))"
      ],
      "execution_count": 96,
      "outputs": [
        {
          "output_type": "stream",
          "text": [
            "F1 Score for dummy model predictions\n",
            "0.141\n"
          ],
          "name": "stdout"
        }
      ]
    },
    {
      "metadata": {
        "id": "o_VzQsu9EYsd",
        "colab_type": "text"
      },
      "cell_type": "markdown",
      "source": [
        "### Covariance Type: Testing with other cluster parameters\n",
        "https://scikit-learn.org/stable/modules/generated/sklearn.mixture.GaussianMixture.html\n",
        "\n",
        "![covariance_type](../miscellaneous/covariance_type.png)"
      ]
    },
    {
      "metadata": {
        "id": "tRjAsPC7EYsd",
        "colab_type": "text"
      },
      "cell_type": "markdown",
      "source": [
        "## full \n",
        "\n",
        "Each component has its own general covariance matrix"
      ]
    },
    {
      "metadata": {
        "id": "36b1nMNUEYsd",
        "colab_type": "code",
        "colab": {
          "base_uri": "https://localhost:8080/",
          "height": 34
        },
        "outputId": "d2e4e792-5de1-4dab-e0ba-219cb3833c34"
      },
      "cell_type": "code",
      "source": [
        "sendtimeRecommender.train(df_eval_train_2, covariance_type='full')"
      ],
      "execution_count": 97,
      "outputs": [
        {
          "output_type": "stream",
          "text": [
            "Time to train: 170.8161334991455\n"
          ],
          "name": "stdout"
        }
      ]
    },
    {
      "metadata": {
        "id": "e4KdYGHBEYsf",
        "colab_type": "code",
        "colab": {
          "base_uri": "https://localhost:8080/",
          "height": 34
        },
        "outputId": "094a9e56-bced-46ef-a7cd-1a90b779d4e8"
      },
      "cell_type": "code",
      "source": [
        "model_pred_fullcov = predictSendTime(sendtimeRecommender, df_eval_test, 0.05)\n",
        "\n",
        "df_eval_test['model_pred_fullcov'] = model_pred_fullcov"
      ],
      "execution_count": 98,
      "outputs": [
        {
          "output_type": "stream",
          "text": [
            "Time to predict: 256.15272784233093\n"
          ],
          "name": "stdout"
        }
      ]
    },
    {
      "metadata": {
        "id": "grf0FHZXEYsg",
        "colab_type": "code",
        "colab": {
          "base_uri": "https://localhost:8080/",
          "height": 51
        },
        "outputId": "da662c29-d4f1-46ef-d6f9-c827f40de522"
      },
      "cell_type": "code",
      "source": [
        "print('F1 Score for recommender predictions for FULL Covariance Type')\n",
        "print(f1_score(df_eval_test['hour_range'], df_eval_test['model_pred_fullcov'], \n",
        "               average='micro'))"
      ],
      "execution_count": 99,
      "outputs": [
        {
          "output_type": "stream",
          "text": [
            "F1 Score for recommender predictions for FULL Covariance Type\n",
            "0.38\n"
          ],
          "name": "stdout"
        }
      ]
    },
    {
      "metadata": {
        "id": "1peTVRRvEYsj",
        "colab_type": "text"
      },
      "cell_type": "markdown",
      "source": [
        "## tied: \n",
        "all components share the same general covariance matrix"
      ]
    },
    {
      "metadata": {
        "id": "_v3JQesjEYsj",
        "colab_type": "code",
        "colab": {
          "base_uri": "https://localhost:8080/",
          "height": 34
        },
        "outputId": "466c0a6e-6e5e-419e-d952-912fa62e0544"
      },
      "cell_type": "code",
      "source": [
        "sendtimeRecommender.train(df_eval_train_2, covariance_type='tied')"
      ],
      "execution_count": 100,
      "outputs": [
        {
          "output_type": "stream",
          "text": [
            "Time to train: 136.30418872833252\n"
          ],
          "name": "stdout"
        }
      ]
    },
    {
      "metadata": {
        "id": "JOBX8ohLEYsl",
        "colab_type": "code",
        "colab": {
          "base_uri": "https://localhost:8080/",
          "height": 34
        },
        "outputId": "3f1b78c1-0b07-4e5b-b863-5c75dfba8e6d"
      },
      "cell_type": "code",
      "source": [
        "model_pred_tied = predictSendTime(sendtimeRecommender, df_eval_test, 0.05)\n",
        "\n",
        "df_eval_test['model_pred_tied'] = model_pred_tied"
      ],
      "execution_count": 101,
      "outputs": [
        {
          "output_type": "stream",
          "text": [
            "Time to predict: 267.89624071121216\n"
          ],
          "name": "stdout"
        }
      ]
    },
    {
      "metadata": {
        "id": "QvCoiiPHEYsp",
        "colab_type": "code",
        "colab": {
          "base_uri": "https://localhost:8080/",
          "height": 51
        },
        "outputId": "5eac7e23-cf1b-4999-e21f-cb8e8d8d2a8f"
      },
      "cell_type": "code",
      "source": [
        "print('F1 Score for recommender predictions for TIED Covariance Type')\n",
        "print(f1_score(df_eval_test['hour_range'], df_eval_test['model_pred_tied'], \n",
        "               average='micro'))"
      ],
      "execution_count": 102,
      "outputs": [
        {
          "output_type": "stream",
          "text": [
            "F1 Score for recommender predictions for TIED Covariance Type\n",
            "0.553\n"
          ],
          "name": "stdout"
        }
      ]
    },
    {
      "metadata": {
        "id": "zGaotnpWEYsq",
        "colab_type": "text"
      },
      "cell_type": "markdown",
      "source": [
        "## diag: \n",
        "\n",
        "each component has its own diagonal covariance matrix"
      ]
    },
    {
      "metadata": {
        "id": "D9j4gr_IEYsq",
        "colab_type": "code",
        "colab": {
          "base_uri": "https://localhost:8080/",
          "height": 34
        },
        "outputId": "5274525a-92d9-4088-8b09-a9c30ba86b09"
      },
      "cell_type": "code",
      "source": [
        "sendtimeRecommender.train(df_eval_train_2, covariance_type='diag')"
      ],
      "execution_count": 103,
      "outputs": [
        {
          "output_type": "stream",
          "text": [
            "Time to train: 120.60455417633057\n"
          ],
          "name": "stdout"
        }
      ]
    },
    {
      "metadata": {
        "id": "lhxpb4m6EYsr",
        "colab_type": "code",
        "colab": {
          "base_uri": "https://localhost:8080/",
          "height": 34
        },
        "outputId": "4a105ecb-cc98-40b4-a08a-fe40427fcfa5"
      },
      "cell_type": "code",
      "source": [
        "model_pred_diag = predictSendTime(sendtimeRecommender, df_eval_test, 0.05)\n",
        "\n",
        "df_eval_test['model_pred_diag'] = model_pred_diag"
      ],
      "execution_count": 104,
      "outputs": [
        {
          "output_type": "stream",
          "text": [
            "Time to predict: 267.6662104129791\n"
          ],
          "name": "stdout"
        }
      ]
    },
    {
      "metadata": {
        "id": "pOcpsLoSEYsw",
        "colab_type": "code",
        "colab": {
          "base_uri": "https://localhost:8080/",
          "height": 51
        },
        "outputId": "1323a6dd-d79a-43f7-c0c0-d8f5ed440a02"
      },
      "cell_type": "code",
      "source": [
        "print('F1 Score for recommender predictions for DIAG Covariance Type')\n",
        "print(f1_score(df_eval_test['hour_range'], df_eval_test['model_pred_diag'], \n",
        "               average='micro'))"
      ],
      "execution_count": 105,
      "outputs": [
        {
          "output_type": "stream",
          "text": [
            "F1 Score for recommender predictions for DIAG Covariance Type\n",
            "0.37899999999999995\n"
          ],
          "name": "stdout"
        }
      ]
    },
    {
      "metadata": {
        "id": "cag6K-72EYs0",
        "colab_type": "text"
      },
      "cell_type": "markdown",
      "source": [
        "## spherical \n",
        "\n",
        "each component has its own single variance"
      ]
    },
    {
      "metadata": {
        "id": "IuZVgQaBEYs3",
        "colab_type": "code",
        "colab": {
          "base_uri": "https://localhost:8080/",
          "height": 34
        },
        "outputId": "8e655a6e-a118-43e3-fcf7-e29ff1fd26bb"
      },
      "cell_type": "code",
      "source": [
        "sendtimeRecommender.train(df_eval_train_2, covariance_type='spherical')"
      ],
      "execution_count": 106,
      "outputs": [
        {
          "output_type": "stream",
          "text": [
            "Time to train: 114.5159113407135\n"
          ],
          "name": "stdout"
        }
      ]
    },
    {
      "metadata": {
        "id": "BVnmCMIeEYs5",
        "colab_type": "code",
        "colab": {
          "base_uri": "https://localhost:8080/",
          "height": 34
        },
        "outputId": "4244af4d-2755-4728-87e5-68fa71e3bb0f"
      },
      "cell_type": "code",
      "source": [
        "model_pred_sph = predictSendTime(sendtimeRecommender, df_eval_test, 0.05)\n",
        "\n",
        "df_eval_test['model_pred_sph'] = model_pred_sph"
      ],
      "execution_count": 107,
      "outputs": [
        {
          "output_type": "stream",
          "text": [
            "Time to predict: 272.22368836402893\n"
          ],
          "name": "stdout"
        }
      ]
    },
    {
      "metadata": {
        "id": "olOxDE8PEYs7",
        "colab_type": "code",
        "colab": {
          "base_uri": "https://localhost:8080/",
          "height": 51
        },
        "outputId": "7112d3ac-6b90-462b-df14-ae41385e31b1"
      },
      "cell_type": "code",
      "source": [
        "print('F1 Score for recommender predictions for SPHERICAL Covariance Type')\n",
        "print(f1_score(df_eval_test['hour_range'], df_eval_test['model_pred_sph'], \n",
        "               average='micro'))"
      ],
      "execution_count": 108,
      "outputs": [
        {
          "output_type": "stream",
          "text": [
            "F1 Score for recommender predictions for SPHERICAL Covariance Type\n",
            "0.549\n"
          ],
          "name": "stdout"
        }
      ]
    },
    {
      "metadata": {
        "id": "aQrIEwSBEYs9",
        "colab_type": "code",
        "colab": {}
      },
      "cell_type": "code",
      "source": [
        "pred_columns = ['model_pred_fullcov', 'model_pred_tied', 'model_pred_diag', \n",
        "                'model_pred_sph']\n",
        "cov_types = ['full', 'tied', 'diag', 'spherical']\n",
        "\n",
        "cluster_scores = {}\n",
        "for i in range(len(pred_columns)):\n",
        "    cluster_scores[cov_types[i]] = [f1_score(df_eval_test['hour_range'], \n",
        "                                            df_eval_test[pred_columns[i]], \n",
        "                                            average='micro')]\n",
        "    "
      ],
      "execution_count": 0,
      "outputs": []
    },
    {
      "metadata": {
        "id": "wibDDWpmEYs-",
        "colab_type": "code",
        "colab": {
          "base_uri": "https://localhost:8080/",
          "height": 350
        },
        "outputId": "22fa5cf4-d8f5-46d7-8025-d78d1f8644af"
      },
      "cell_type": "code",
      "source": [
        "score_chart = pd.DataFrame(cluster_scores)\n",
        "\n",
        "plt.figure(figsize=(10,5))\n",
        "plt.bar( x='full',height=score_chart['full'][0], color='lightgrey')\n",
        "plt.bar( x='tied',height=score_chart['tied'][0], color='steelblue')\n",
        "plt.bar( x='diag',height=score_chart['diag'][0], color='lightgrey')\n",
        "plt.bar( x='spherical',height=score_chart['spherical'][0], color='darkblue')\n",
        "\n",
        "plt.title('F1-Score for covariance type')\n",
        "plt.ylabel('Micro F1-Score')\n",
        "plt.xlabel('Covariance Type')\n",
        "plt.show()\n"
      ],
      "execution_count": 110,
      "outputs": [
        {
          "output_type": "display_data",
          "data": {
            "image/png": "[encoded data removed]",
            "text/plain": [
              "<Figure size 720x360 with 1 Axes>"
            ]
          },
          "metadata": {
            "tags": []
          }
        }
      ]
    },
    {
      "metadata": {
        "id": "hC-xH0V4EYs_",
        "colab_type": "text"
      },
      "cell_type": "markdown",
      "source": [
        "> #### We can see that full is not the best parameter and with `spherical` or `diag` covariance types we had the best scores and the lowest training times. "
      ]
    },
    {
      "metadata": {
        "id": "L63mYVbVEYs_",
        "colab_type": "text"
      },
      "cell_type": "markdown",
      "source": [
        "### What if the learning rate was lower (in other words benefit exploitation over exploration)?"
      ]
    },
    {
      "metadata": {
        "id": "cyFzIaADEYtA",
        "colab_type": "code",
        "colab": {
          "base_uri": "https://localhost:8080/",
          "height": 34
        },
        "outputId": "ba834208-d850-48ae-d232-ed929e3541e1"
      },
      "cell_type": "code",
      "source": [
        "model_pred_lower = predictSendTime(sendtimeRecommender, df_eval_test, 0.001)\n",
        "\n",
        "df_eval_test['model_pred_lower'] = model_pred_lower"
      ],
      "execution_count": 111,
      "outputs": [
        {
          "output_type": "stream",
          "text": [
            "Time to predict: 278.06527757644653\n"
          ],
          "name": "stdout"
        }
      ]
    },
    {
      "metadata": {
        "id": "sUirkPcHEYtB",
        "colab_type": "code",
        "colab": {}
      },
      "cell_type": "code",
      "source": [
        "df_eval_test['rcc_pred_bool_low'] = df_eval_test['hour_range'] == df_eval_test['model_pred_lower']\n",
        "\n",
        "df_eval_test['acc_recom_pred_low'] = df_eval_test['rcc_pred_bool_low'].apply(lambda x: 1 if x else 0)\n",
        "\n",
        "recommender_accuracy_lower = df_eval_test['acc_recom_pred_low'].sum() / len(df_eval_test)"
      ],
      "execution_count": 0,
      "outputs": []
    },
    {
      "metadata": {
        "id": "PwpH0RRxEYtB",
        "colab_type": "code",
        "colab": {
          "base_uri": "https://localhost:8080/",
          "height": 34
        },
        "outputId": "194110dd-744a-46a2-fe9b-21edf522360d"
      },
      "cell_type": "code",
      "source": [
        "print('We have an accuracy of {0:.2%}\\\n",
        " using the recommender model with lower learning rate'.format(recommender_accuracy_lower))"
      ],
      "execution_count": 113,
      "outputs": [
        {
          "output_type": "stream",
          "text": [
            "We have an accuracy of 57.60% using the recommender model with lower learning rate\n"
          ],
          "name": "stdout"
        }
      ]
    },
    {
      "metadata": {
        "id": "RKwAKkkPEYtC",
        "colab_type": "code",
        "colab": {
          "base_uri": "https://localhost:8080/",
          "height": 51
        },
        "outputId": "d707d80d-949d-4a18-e57d-c4fe28bbfcb1"
      },
      "cell_type": "code",
      "source": [
        "print('F1 Score for recommender predictions')\n",
        "print(f1_score(df_eval_test['hour_range'], df_eval_test['model_pred_lower'], average='micro'))"
      ],
      "execution_count": 114,
      "outputs": [
        {
          "output_type": "stream",
          "text": [
            "F1 Score for recommender predictions\n",
            "0.576\n"
          ],
          "name": "stdout"
        }
      ]
    },
    {
      "metadata": {
        "id": "pg4B8bSjEYtD",
        "colab_type": "text"
      },
      "cell_type": "markdown",
      "source": [
        "### We had a slightly change on the score using a lower learning rate but even so, we should keep this parameter with a considerable rate of learning \n",
        "\n",
        "> It will contribute to the recommender improvement in the future since it will be able to update its data with new information regularly and still keep the accuracy stable"
      ]
    },
    {
      "metadata": {
        "id": "Lqge0OJCEYtE",
        "colab_type": "text"
      },
      "cell_type": "markdown",
      "source": [
        "## ROC AUC for Multiclass predictions\n",
        "\n",
        "In order to evaluate another common metric widely used on classification problems and check our recommender's performance in a different perspective, let's check how the model behaves with <a href='https://towardsdatascience.com/understanding-auc-roc-curve-68b2303cc9c5'>ROC AUC metric</a>.\n",
        "\n",
        "> In this score the values varies from 0.0 to 1.0, being that the higher the number the best the model can distinguish between classes."
      ]
    },
    {
      "metadata": {
        "id": "rm0WRP8REYtE",
        "colab_type": "code",
        "colab": {}
      },
      "cell_type": "code",
      "source": [
        "from sklearn.preprocessing import LabelBinarizer\n",
        "from sklearn.metrics import roc_auc_score"
      ],
      "execution_count": 0,
      "outputs": []
    },
    {
      "metadata": {
        "id": "7sn-s6iOEYtF",
        "colab_type": "code",
        "colab": {
          "base_uri": "https://localhost:8080/",
          "height": 51
        },
        "outputId": "93ab45df-1075-4cab-9a37-c7e207bd9aab"
      },
      "cell_type": "code",
      "source": [
        "print('AUC with recommendation method')\n",
        "lb = LabelBinarizer()\n",
        "lb.fit(df_eval_test['hour_range'])\n",
        "y_test = lb.transform(df_eval_test['hour_range'])\n",
        "y_pred = lb.transform(df_eval_test['model_pred_lower'])\n",
        "roc_auc_score(y_test, y_pred, average='micro')"
      ],
      "execution_count": 116,
      "outputs": [
        {
          "output_type": "stream",
          "text": [
            "AUC with recommendation method\n"
          ],
          "name": "stdout"
        },
        {
          "output_type": "execute_result",
          "data": {
            "text/plain": [
              "0.7687272727272728"
            ]
          },
          "metadata": {
            "tags": []
          },
          "execution_count": 116
        }
      ]
    },
    {
      "metadata": {
        "id": "M3LQuWGMEYtG",
        "colab_type": "code",
        "colab": {}
      },
      "cell_type": "code",
      "source": [
        "df_eval_test['numrec'] = 1\n",
        "\n",
        "conf_matrix = df_eval_test[['hour_range', 'model_pred_lower','numrec']].groupby(['hour_range', \n",
        "                                                                                 'model_pred_lower']).sum()\n",
        "conf_matrix = conf_matrix.reset_index().pivot_table(index='hour_range',\n",
        "                                                  columns='model_pred_lower', \n",
        "                                                  values='numrec').fillna(0)"
      ],
      "execution_count": 0,
      "outputs": []
    },
    {
      "metadata": {
        "id": "sta7Amk6EYtG",
        "colab_type": "code",
        "colab": {
          "base_uri": "https://localhost:8080/",
          "height": 641
        },
        "outputId": "09b28304-e54e-4f51-a9ed-5245514ed565"
      },
      "cell_type": "code",
      "source": [
        "plt.figure(figsize=(17,10))\n",
        "sns.heatmap(conf_matrix, cmap='BuPu', annot=True)\n",
        "plt.title('Confusion Matrix')\n",
        "plt.ylabel('True Hour Range')\n",
        "plt.xlabel('Predicted Hour Range')\n",
        "plt.show()"
      ],
      "execution_count": 118,
      "outputs": [
        {
          "output_type": "display_data",
          "data": {
            "image/png": "[encoded data removed]",
            "text/plain": [
              "<Figure size 1224x720 with 2 Axes>"
            ]
          },
          "metadata": {
            "tags": []
          }
        }
      ]
    },
    {
      "metadata": {
        "id": "eI0AxWwFEYtI",
        "colab_type": "text"
      },
      "cell_type": "markdown",
      "source": [
        "For the matrix above it is possible to check which are the top hour ranges the model correctly predicted and which are the ranges that it got wrong the most so we can analyze this deeply later and check for improvements points (like the difficult to suggest rare hour ranges)"
      ]
    },
    {
      "metadata": {
        "id": "gUyYKT98EYtJ",
        "colab_type": "text"
      },
      "cell_type": "markdown",
      "source": [
        "## 7 - Sensitivity Analysis\n",
        "\n",
        "In order to validate the robustness and uncertainty level of the results, let's perform a **sensitivity analysis** which consists in calculating the solution performance in many different test sets and see how the model is affected.\n",
        "\n",
        "The dataset contains data from January to November 2018 and in the first test phase, November data was used as test sets simulating a real world application where it will need to predict future send times using past user's data. \n",
        "\n",
        "So this logic will be used again with different tests sets like:\n",
        "\n",
        "1. Training set with data from January to September and test with October and November data\n",
        "2. Training set with data from January to August and test set with the remaining"
      ]
    },
    {
      "metadata": {
        "id": "R5JqKol8EYtJ",
        "colab_type": "code",
        "colab": {}
      },
      "cell_type": "code",
      "source": [
        "#Splitting data into train and test sets\n",
        "df_eval_test_oct_nov = df_evaluate_data[df_evaluate_data['event_month'].astype(int) > 9].sample(1000)\n",
        "df_eval_train_jan_sep = df_evaluate_data[df_evaluate_data['event_month'].astype(int) <= 9]\n",
        "\n",
        "df_eval_test_oct_nov['event_date'] = df_eval_test_oct_nov['timestamp'].apply(lambda x: x[:10])\n",
        "df_eval_test_oct_nov['day_type'] = df_eval_test_oct_nov['weekday'].apply(lambda x: getdaytype(x))\n",
        "df_eval_train_jan_sep['day_type'] = df_eval_train_jan_sep['weekday'].apply(lambda x: getdaytype(x))"
      ],
      "execution_count": 0,
      "outputs": []
    },
    {
      "metadata": {
        "id": "_wgI_C1OEYtK",
        "colab_type": "code",
        "colab": {
          "base_uri": "https://localhost:8080/",
          "height": 34
        },
        "outputId": "1063e91b-4fce-4375-ef4c-873665d65e0e"
      },
      "cell_type": "code",
      "source": [
        "sendtimeRecommender.train(df_eval_train_jan_sep, covariance_type='spherical')"
      ],
      "execution_count": 120,
      "outputs": [
        {
          "output_type": "stream",
          "text": [
            "Time to train: 66.33328413963318\n"
          ],
          "name": "stdout"
        }
      ]
    },
    {
      "metadata": {
        "id": "3Odg8or3EYtL",
        "colab_type": "code",
        "colab": {
          "base_uri": "https://localhost:8080/",
          "height": 34
        },
        "outputId": "e4119909-2f5c-42c5-af8d-d6d0bbeb01fb"
      },
      "cell_type": "code",
      "source": [
        "model_pred_oct_nov = predictSendTime(sendtimeRecommender, df_eval_test_oct_nov, 0.005)\n",
        "\n",
        "df_eval_test_oct_nov['model_pred_oct_nov'] = model_pred_oct_nov"
      ],
      "execution_count": 121,
      "outputs": [
        {
          "output_type": "stream",
          "text": [
            "Time to predict: 235.13728094100952\n"
          ],
          "name": "stdout"
        }
      ]
    },
    {
      "metadata": {
        "id": "ZWeB-Oa8EYtM",
        "colab_type": "code",
        "colab": {
          "base_uri": "https://localhost:8080/",
          "height": 51
        },
        "outputId": "d893f351-43ea-4134-bd3b-dc95e4f68389"
      },
      "cell_type": "code",
      "source": [
        "print('F1 Score for recommender predictions using data from JAN - SEP in training phase')\n",
        "print(f1_score(df_eval_test_oct_nov['hour_range'], df_eval_test_oct_nov['model_pred_oct_nov'], average='micro'))"
      ],
      "execution_count": 122,
      "outputs": [
        {
          "output_type": "stream",
          "text": [
            "F1 Score for recommender predictions using data from JAN - SEP in training phase\n",
            "0.566\n"
          ],
          "name": "stdout"
        }
      ]
    },
    {
      "metadata": {
        "id": "6QjXId29EYtQ",
        "colab_type": "code",
        "colab": {}
      },
      "cell_type": "code",
      "source": [
        "## Predicting cases with dummy model\n",
        "dummy_pred = []\n",
        "for i in range(len(df_eval_test)):\n",
        "    dummy_pred.append(getMostFrequent(df_eval_test_oct_nov['id'].iloc[i], \n",
        "                                      df_eval_test_oct_nov['flg_weekend'].iloc[i], \n",
        "                                      df_eval_train_jan_sep)) \n",
        "    \n",
        "    \n",
        "df_eval_test_oct_nov['dummy_pred'] = dummy_pred"
      ],
      "execution_count": 0,
      "outputs": []
    },
    {
      "metadata": {
        "id": "hiWcyyaoEYtR",
        "colab_type": "code",
        "colab": {
          "base_uri": "https://localhost:8080/",
          "height": 51
        },
        "outputId": "5e17e5b5-5c03-4519-836e-f94ba9e18d19"
      },
      "cell_type": "code",
      "source": [
        "print('F1 Score for dummy model using data from JAN - SEP in training phase')\n",
        "print(f1_score(df_eval_test_oct_nov['hour_range'], df_eval_test_oct_nov['dummy_pred'], average='micro'))"
      ],
      "execution_count": 124,
      "outputs": [
        {
          "output_type": "stream",
          "text": [
            "F1 Score for dummy model using data from JAN - SEP in training phase\n",
            "0.15\n"
          ],
          "name": "stdout"
        }
      ]
    },
    {
      "metadata": {
        "id": "dlM08n6XEYtU",
        "colab_type": "code",
        "colab": {}
      },
      "cell_type": "code",
      "source": [
        "#Splitting data into train and test sets\n",
        "df_eval_test_sep_nov = df_evaluate_data[df_evaluate_data['event_month'].astype(int) > 8].sample(1000)\n",
        "df_eval_train_jan_aug = df_evaluate_data[df_evaluate_data['event_month'].astype(int) <= 8]\n",
        "\n",
        "df_eval_test_sep_nov['event_date'] = df_eval_test_sep_nov['timestamp'].apply(lambda x: x[:10])\n",
        "df_eval_test_sep_nov['day_type'] = df_eval_test_sep_nov['weekday'].apply(lambda x: getdaytype(x))\n",
        "df_eval_train_jan_aug['day_type'] = df_eval_train_jan_aug['weekday'].apply(lambda x: getdaytype(x))"
      ],
      "execution_count": 0,
      "outputs": []
    },
    {
      "metadata": {
        "id": "J_wYGeABEYtV",
        "colab_type": "code",
        "colab": {
          "base_uri": "https://localhost:8080/",
          "height": 34
        },
        "outputId": "79811db6-7c53-4998-fe1f-2ad016f966da"
      },
      "cell_type": "code",
      "source": [
        "sendtimeRecommender.train(df_eval_train_jan_aug, covariance_type='spherical')"
      ],
      "execution_count": 126,
      "outputs": [
        {
          "output_type": "stream",
          "text": [
            "Time to train: 58.50751757621765\n"
          ],
          "name": "stdout"
        }
      ]
    },
    {
      "metadata": {
        "id": "rw32o3UtEYtW",
        "colab_type": "code",
        "colab": {
          "base_uri": "https://localhost:8080/",
          "height": 34
        },
        "outputId": "83f4e7d8-b7a7-47bd-bf6a-a34318a4e84b"
      },
      "cell_type": "code",
      "source": [
        "model_pred_sep_nov = predictSendTime(sendtimeRecommender, df_eval_test_sep_nov, 0.005)\n",
        "\n",
        "df_eval_test_sep_nov['model_pred_sep_nov'] = model_pred_sep_nov"
      ],
      "execution_count": 127,
      "outputs": [
        {
          "output_type": "stream",
          "text": [
            "Time to predict: 229.42460918426514\n"
          ],
          "name": "stdout"
        }
      ]
    },
    {
      "metadata": {
        "id": "iRAMR0DJEYtX",
        "colab_type": "code",
        "colab": {
          "base_uri": "https://localhost:8080/",
          "height": 51
        },
        "outputId": "e07c05a3-0de1-4128-ec5a-7db77effbfb7"
      },
      "cell_type": "code",
      "source": [
        "print('F1 Score for recommender predictions using data from JAN - AUG in training phase')\n",
        "print(f1_score(df_eval_test_sep_nov['hour_range'], df_eval_test_sep_nov['model_pred_sep_nov'], average='micro'))"
      ],
      "execution_count": 128,
      "outputs": [
        {
          "output_type": "stream",
          "text": [
            "F1 Score for recommender predictions using data from JAN - AUG in training phase\n",
            "0.547\n"
          ],
          "name": "stdout"
        }
      ]
    },
    {
      "metadata": {
        "id": "k6afMENnEYtY",
        "colab_type": "code",
        "colab": {}
      },
      "cell_type": "code",
      "source": [
        "## Predicting cases with dummy model\n",
        "dummy_pred = []\n",
        "for i in range(len(df_eval_test)):\n",
        "    dummy_pred.append(getMostFrequent(df_eval_test_sep_nov['id'].iloc[i], \n",
        "                                      df_eval_test_sep_nov['flg_weekend'].iloc[i], \n",
        "                                      df_eval_train_jan_aug)) \n",
        "    \n",
        "    \n",
        "df_eval_test_sep_nov['dummy_pred'] = dummy_pred"
      ],
      "execution_count": 0,
      "outputs": []
    },
    {
      "metadata": {
        "id": "BXd_4m2iEYtZ",
        "colab_type": "code",
        "colab": {
          "base_uri": "https://localhost:8080/",
          "height": 51
        },
        "outputId": "db8126ec-ff8d-4fa1-e344-b54c3a0dcb22"
      },
      "cell_type": "code",
      "source": [
        "print('F1 Score for dummy model using data from JAN - AUG in training phase')\n",
        "print(f1_score(df_eval_test_sep_nov['hour_range'], df_eval_test_sep_nov['dummy_pred'], average='micro'))"
      ],
      "execution_count": 130,
      "outputs": [
        {
          "output_type": "stream",
          "text": [
            "F1 Score for dummy model using data from JAN - AUG in training phase\n",
            "0.161\n"
          ],
          "name": "stdout"
        }
      ]
    },
    {
      "metadata": {
        "id": "kWO3RyUiEYta",
        "colab_type": "text"
      },
      "cell_type": "markdown",
      "source": [
        "### Comparing Baseline and Recommender results with different sets"
      ]
    },
    {
      "metadata": {
        "id": "xgRUWUlGEYta",
        "colab_type": "code",
        "colab": {}
      },
      "cell_type": "code",
      "source": [
        "benchmark_data = {'Baseline': {},\n",
        "                  'Recommender': {}}"
      ],
      "execution_count": 0,
      "outputs": []
    },
    {
      "metadata": {
        "id": "RdTlGYFxEYtc",
        "colab_type": "code",
        "colab": {}
      },
      "cell_type": "code",
      "source": [
        "benchmark_data['Baseline']['Test 1'] = f1_score(df_eval_test['hour_range'], \n",
        "                                                df_eval_test['dummy_pred'], \n",
        "                                                average='micro')\n",
        "\n",
        "benchmark_data['Recommender']['Test 1'] = f1_score(df_eval_test['hour_range'], \n",
        "                                                   df_eval_test['model_pred_lower'], \n",
        "                                                   average='micro')\n",
        "\n",
        "benchmark_data['Baseline']['Test 2'] = f1_score(df_eval_test_oct_nov['hour_range'], \n",
        "                                                df_eval_test_oct_nov['dummy_pred'], \n",
        "                                                average='micro')\n",
        "\n",
        "benchmark_data['Recommender']['Test 2'] = f1_score(df_eval_test_oct_nov['hour_range'], \n",
        "                                                   df_eval_test_oct_nov['model_pred_oct_nov'], \n",
        "                                                   average='micro')\n",
        "\n",
        "\n",
        "benchmark_data['Baseline']['Test 3'] = f1_score(df_eval_test_sep_nov['hour_range'], \n",
        "                                                df_eval_test_sep_nov['dummy_pred'], \n",
        "                                                average='micro')\n",
        "\n",
        "benchmark_data['Recommender']['Test 3'] = f1_score(df_eval_test_sep_nov['hour_range'], \n",
        "                                                   df_eval_test_sep_nov['model_pred_sep_nov'], \n",
        "                                                   average='micro')"
      ],
      "execution_count": 0,
      "outputs": []
    },
    {
      "metadata": {
        "id": "Y7jTqDhAEYtf",
        "colab_type": "code",
        "colab": {
          "base_uri": "https://localhost:8080/",
          "height": 404
        },
        "outputId": "02f2ef77-9178-4233-d547-fe321b7a0e0c"
      },
      "cell_type": "code",
      "source": [
        "pd.DataFrame(benchmark_data)['Recommender'].sort_values(ascending=False).plot(kind='barh', \n",
        "                                                                             figsize=(8,6),\n",
        "                                                                             width=0.8,\n",
        "                                                                             color='steelblue')\n",
        "                                                \n",
        "plt.xlabel('F1 Score (Micro)')\n",
        "plt.title('Recommender Performance in different test sets')\n",
        "plt.box(False)\n",
        "plt.show()"
      ],
      "execution_count": 133,
      "outputs": [
        {
          "output_type": "display_data",
          "data": {
            "image/png": "[encoded data removed]",
            "text/plain": [
              "<Figure size 576x432 with 1 Axes>"
            ]
          },
          "metadata": {
            "tags": []
          }
        }
      ]
    },
    {
      "metadata": {
        "id": "_bC0BQkZEYti",
        "colab_type": "text"
      },
      "cell_type": "markdown",
      "source": [
        "The recommender scores had no significant changes using different datasets, demonstrating **a good level of generalization**"
      ]
    },
    {
      "metadata": {
        "id": "M-1H0sw7EYti",
        "colab_type": "code",
        "colab": {
          "base_uri": "https://localhost:8080/",
          "height": 336
        },
        "outputId": "60f6c024-2c7e-4905-e052-d7a60f624140"
      },
      "cell_type": "code",
      "source": [
        "pd.DataFrame(benchmark_data).plot(kind='bar', \n",
        "                                  figsize=(14,5), \n",
        "                                  colors=['steelblue', 'lightgrey'])\n",
        "plt.xticks(rotation=0)\n",
        "plt.ylabel('F1 Score (Micro)')\n",
        "plt.title('Baseline x Recommender Performance')\n",
        "plt.legend(loc=2)\n",
        "plt.show()"
      ],
      "execution_count": 134,
      "outputs": [
        {
          "output_type": "display_data",
          "data": {
            "image/png": "[encoded data removed]",
            "text/plain": [
              "<Figure size 1008x360 with 1 Axes>"
            ]
          },
          "metadata": {
            "tags": []
          }
        }
      ]
    },
    {
      "metadata": {
        "id": "aQ7hnajLEYtk",
        "colab_type": "text"
      },
      "cell_type": "markdown",
      "source": [
        "The baseline model **does not seem to be a good solution** according to F1-Scores specially compared to recommender scores"
      ]
    },
    {
      "metadata": {
        "id": "9UuzU2EKEYtk",
        "colab_type": "text"
      },
      "cell_type": "markdown",
      "source": [
        "## 8 - Conclusion and Improvements"
      ]
    },
    {
      "metadata": {
        "id": "KxWypEq-EYtk",
        "colab_type": "text"
      },
      "cell_type": "markdown",
      "source": [
        "Let's recap the steps took until here so we can interpret the outcomes properly. \n",
        "\n",
        "We have collected data of opened emails events from Dito's CRM platform from January to November 2018. Then the data was split into train and test sets, with events until October in the training set and November in test set.\n",
        "\n",
        "The main goal was to suggest the best time (in the future) that people would open their emails, so with no access to November data in the training phase the recommender should be able to predict an open time from November. \n",
        "\n",
        "### The success criteria is:  after learning from past data the model should be able to suggest an hour-range that people would open an email.\n",
        "\n",
        "\n",
        "### What factors make people open their emails?\n",
        "\n",
        "Open rate according to Marketing Industry researchers usually hit on average about **18% to 20%** and also by Dito's customers set of campaigns, <u>open rate hardly hit the lower boundary of 18%.</u> So for a certain campaign with 1K eligible people, we usually expect that maximum of 20% (200 people) will open the email. \n",
        "\n",
        "But what drives them to open? Or even more important to know, what prevents them to open?\n",
        "\n",
        "It could be due to many external factors like content of interests, the customer engagement with the brand/company, the current stage of their lives (for example male customers might not open emails about pregnancy until his wife get pregnant) and the hypothesis of this project is **the time you send an email is one of the factors that could prevent them to open it when it's not a good time**\n",
        "\n",
        "The current process of Dito's customers have no mechanisms to suggest send times, so they are sent on random times or based on overall trends like sending always on Tuesdays at 10 A.M. <u>We know that people have different behaviors and using generic solutions are not the best way to engage customers.</u>\n",
        "\n",
        "So with the presented F1-Score results showing that we could correctly predict the optimal send time about 55% of the times, **we can say that this solution could actually help to increase campaigns open rate, by reaching at least 55% of eligible people at better times and reducing the cases where time is a preventing factor of email openings**\n",
        "\n",
        "> ### This can only be tested with a higher assurance using controlled tests checking the open rate of optimal group (people with best time recommended) and controlled group (people without any optimization).\n"
      ]
    },
    {
      "metadata": {
        "id": "9EszGwVdEYtk",
        "colab_type": "text"
      },
      "cell_type": "markdown",
      "source": [
        "### Improvements\n",
        "\n",
        "Some improvements might be considered like cluster's hyper-parameter tunning, reducing prediction time to use it with high volume of data and framing this problem differently exploring others techniques.\n",
        "\n",
        "**Multi Armed Bandit** and **Reinforcement Learning algorithms** might be tested in the future in an attempt to increase and optimize the outcomes."
      ]
    },
    {
      "metadata": {
        "id": "Fgt1vjjSEYtl",
        "colab_type": "code",
        "colab": {}
      },
      "cell_type": "code",
      "source": [
        ""
      ],
      "execution_count": 0,
      "outputs": []
    }
  ]
}